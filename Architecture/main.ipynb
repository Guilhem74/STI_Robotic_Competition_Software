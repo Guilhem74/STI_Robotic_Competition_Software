{
 "cells": [
  {
   "cell_type": "code",
   "execution_count": 1,
   "metadata": {},
   "outputs": [],
   "source": [
    "import numpy as np\n",
    "import math\n",
    "def GenerateTimeout(Set_Coordinate, robot_pos):\n",
    "    X_Robot , Y_Robot, A_Robot = robot_pos[0] , robot_pos[1] , robot_pos[2]\n",
    "    for i in range(len(Set_Coordinate)): \n",
    "        time_out_com = math.sqrt( np.float_power(Set_Coordinate[i,0]-X_Robot , 2) + np.float_power(Set_Coordinate[i,1]-Y_Robot , 2) ) / Set_Coordinate[i,2]\n",
    "        Set_Coordinate[i,3] = time_out_com*1400 + 2000# 140 %(For incertenties +500 ms(For initial acceleration)\n",
    "        X_Robot = Set_Coordinate[i,0]\n",
    "        Y_Robot = Set_Coordinate[i,1]\n",
    "    return Set_Coordinate\n",
    "\n",
    "def Build_and_Send(Set_Coordinate):\n",
    "    \n",
    "\n",
    "    X_Des=Set_Coordinate[0]\n",
    "    Y_Des=Set_Coordinate[1]\n",
    "    Max_Speed=Set_Coordinate[2]\n",
    "    TimeOut=Set_Coordinate[3]\n",
    "    Backward_Parameter=Set_Coordinate[4]\n",
    "    \"\"\"Create messages\"\"\"\n",
    "    G0_String='G0 X' + str(X_Des)+' Y'+str(Y_Des)+' T'+str(TimeOut)+ ' R'+str(Backward_Parameter)+'\\r\\n'\n",
    "    M201_String='M201 H0 S' + str(Max_Speed)+'\\r\\n'\n",
    "    M3_String='M3 H3\\r\\n'\n",
    "    All_Commands = [G0_String,M201_String,M3_String]\n",
    "    SendMessage(All_Commands)\n",
    "    \n",
    "\n",
    "def SendMessage(All_Commands):\n",
    "    for i in range(0,len(All_Commands)):\n",
    "            pass\n",
    "            buf_stm.append(All_Commands[i])#Send every messages\n",
    "            \n",
    "def InitializeSetCoordinate(Coordinate):\n",
    "    \n",
    "    Coordinate = np.array(Coordinate)\n",
    "    \n",
    "    Set_Coordinate=np.zeros((len(Coordinate),5))\n",
    "    Set_Coordinate[:,0]=Coordinate[:,0]\n",
    "    Set_Coordinate[:,1]=Coordinate[:,1]\n",
    "    Set_Coordinate[:,2]=750;\n",
    "    Set_Coordinate[:,3]=8000;\n",
    "    Set_Coordinate[:,4]=Coordinate[:,2];\n",
    "\n",
    "    \n",
    "    return Set_Coordinate\n",
    "\n",
    "def Create_Checkpoint(grid,Space_Around, Robot_Pos,Objectif):\n",
    "    X_Robot, Y_Robot, A_Robot= Robot_Pos\n",
    "    X,Y,A=robot.get_position()\n",
    "    X_Des=Objectif[0]\n",
    "    Y_Des=Objectif[1]\n",
    "    New_Coord = []\n",
    "    Error_X=X_Des-X;\n",
    "    Error_Y=Y_Des-Y;\n",
    "    Angle_Des=math.atan2(Error_Y,Error_X)\n",
    "    Error_Angle = Angle_Des - A\n",
    "    Angle_Des_Degrees=math.degrees(Angle_Des)\n",
    "    print(Space_Around)\n",
    "\n",
    "    if(not(Space_Around['Front']) and Space_Around['Right']):\n",
    "        X_New=X+math.cos(math.radians(A-90))*300\n",
    "        Y_New=Y+math.sin(math.radians(A-90))*300\n",
    "        print('Avoidance Front go to the right',X_New, Y_New)\n",
    "        New_Coord.append([X_New,Y_New,0])\n",
    "\n",
    "    elif(not(Space_Around['Front']) and Space_Around['Left']): \n",
    "        X_New=X+math.cos(math.radians(A+90))*300\n",
    "        Y_New=Y+math.sin(math.radians(A+90))*300\n",
    "        print('Avoidance Front go to the Left',X_New, Y_New)\n",
    "        New_Coord.append([X_New,Y_New,0])\n",
    "    elif((Space_Around['Front']) and( not(Space_Around['Right'])or not(Space_Around['Left']))):\n",
    "        \n",
    "        X_New=X+math.cos(math.radians(A))*300\n",
    "        Y_New=Y+math.sin(math.radians(A))*300\n",
    "        New_Coord.append([X_New,Y_New,0])\n",
    "        print('Avoidance Side go to the Front',X_New, Y_New)\n",
    "        \n",
    "    elif(not(Space_Around['Front']) and not(Space_Around['Left']) and not(Space_Around['Right']) ):\n",
    "    \n",
    "    \n",
    "        #Back LEFT\n",
    "        X_New=X+math.cos(math.radians(A+135))*450\n",
    "        Y_New=Y+math.sin(math.radians(A+135))*450\n",
    "        #Back Right\n",
    "        X_New2=X+math.cos(math.radians(A-135))*450\n",
    "        Y_New2=Y+math.sin(math.radians(A-135))*450\n",
    "        if(Is_Position_Free(grid,[X_New,Y_New],20)):\n",
    "            New_Coord.append([X_New,Y_New,0])\n",
    "            print('Avoidance Front Left Right Go to the Back Left',X_New, Y_New)\n",
    "        elif(Is_Position_Free(grid,[X_New2,Y_New2],20)):\n",
    "            New_Coord.append([X_New2,Y_New2,0])\n",
    "            print('Avoidance Front Left Right Go  to the Back Right',X_New2, Y_New2)\n",
    "        else:\n",
    "            #Back\n",
    "            X_New=X+math.cos(math.radians(A+180))*300\n",
    "            Y_New=Y+math.sin(math.radians(A+180))*300\n",
    "            New_Coord.append([X_New,Y_New,1])\n",
    "            print('Avoidance Front Left Right Go*to the Back',X_New, Y_New)\n",
    "         \n",
    "         \n",
    "    else:\n",
    "        X_New=X\n",
    "        Y_New=Y\n",
    "        New_Coord.append([X_New,Y_New,0])\n",
    "        print('Nothing',X_New, Y_New)\n",
    "    return New_Coord\n",
    "\n",
    "\n",
    "\n",
    "\n",
    "def Is_Position_Free(grid,coord,dist):\n",
    "        \n",
    "        x = int(coord[0]/10)\n",
    "        y = int(coord[1]/10)\n",
    "        dist = int(dist/10)\n",
    "        if(x>dist and x<799-dist and y>dist and y<799-dist):\n",
    "            value = np.max(grid[y-dist:y+dist ,x-dist:x+dist ])\n",
    "            print(grid[y-dist:y+dist ,x-dist:x+dist ],value)\n",
    "            if value:\n",
    "                return True\n",
    "            else:\n",
    "                return False\n",
    "        else:\n",
    "            return False\n",
    "def Deliver_Bottle(robot,mapper):\n",
    "    Set_Objective = [[700,700,0]]\n",
    "    goto_objective(Set_Objective,robot,mapper)\n",
    "    ser_Collector.write(b'G1 R-1500 L-2100\\r\\n')\n",
    "    time.sleep(5)\n",
    "    Set_Objective = [[1500,1500,1]]\n",
    "    goto_objective(Set_Objective,robot,mapper)\n",
    "\n",
    "    ser_Collector.write(b'G1 R2000 L2500\\r\\n')"
   ]
  },
  {
   "cell_type": "code",
   "execution_count": 2,
   "metadata": {
    "scrolled": true
   },
   "outputs": [],
   "source": [
    "\n",
    "##Server\n",
    "import  time, sys , serial\n",
    "import threading\n",
    "import pprint\n",
    "import time\n",
    "from Serial_ import *\n",
    "SERIAL_PORT_ROBOT = '/dev/ttyACM0'\n",
    "SERIAL_PORT_COllECTOR = '/dev/ttyACM1'\n",
    "SERIAL_RATE = 115200\n",
    "import threading\n",
    "from collections import deque\n",
    "import TCP_IP as Tcp_Ip\n",
    "clientCount = 0\n",
    "\n",
    "\n",
    "buf_broadcast = deque([]) # Queue of message for broadcasting via TCP IP\n",
    "buf_stm = deque([])\n",
    "\n",
    "buf_stm\n",
    "\n",
    "if __name__ == '__main__':\n",
    "    BUFFER_SIZE = 4096\n",
    "\n",
    "    ser = serial.Serial(SERIAL_PORT_ROBOT, SERIAL_RATE) # Connection to STM32 ROBOT\n",
    "    ser_Collector= serial.Serial('/dev/ttyACM1',115200)\n",
    "    serial_T = serialTread(ser)\n",
    "    \n",
    "    threading.Thread(target=serial_T.run, args=(buf_broadcast,buf_stm)).start()#create serial thread for robot control\n",
    "    conn, addr = Tcp_Ip.enable_tcp_com(BUFFER_SIZE)\n",
    "    time.sleep(1)\n",
    "\n",
    "#Changer les action_In et action_Out en queue de dictionaire"
   ]
  },
  {
   "cell_type": "code",
   "execution_count": 3,
   "metadata": {},
   "outputs": [],
   "source": [
    "import numpy as np\n",
    "import math\n",
    "import robot as Robot\n",
    "import Astar as Path_Generator\n",
    "import Mapping as Map_Generator\n",
    "import matplotlib.pyplot as plt\n",
    "from parse import *\n",
    "import time\n",
    "from ast import literal_eval as make_tuple\n",
    "%matplotlib inline\n",
    "\n",
    "\n",
    "def goto_objective(Set_Objective,robot,mapper):\n",
    "    Robot_is_blocked=False;\n",
    "    Offset_Timeout=1500;#Raspberry timeout for lack of communication \n",
    "    Max_Try=2;#Number of try to send that message\n",
    "    Try =0\n",
    "    grid = mapper.map()\n",
    "    robot_pos = robot.get_position()\n",
    "    index_coordinate=0;\n",
    "    \"\"\"Concatenate Displacement Movement\"\"\"\n",
    "    Set_Coordinate = InitializeSetCoordinate(Set_Objective)\n",
    "    \n",
    "    Interm_Coordinate = Path_Generator.find_path(grid,Set_Objective[0],robot_pos)\n",
    "    if Interm_Coordinate != None:\n",
    "        Set_Coordinate_temp = InitializeSetCoordinate(Interm_Coordinate)\n",
    "        Set_Coordinate=np.insert(Set_Coordinate,0,Set_Coordinate_temp,axis=0)\n",
    "\n",
    "    \"\"\" Loop one objective (set of checkpoint) \"\"\"\n",
    "    print(\"Reach position: \",robot.Has_reached_final_position(Set_Objective[-1]))\n",
    "    print(\"Set_coordinate: \",Set_Coordinate[-1])\n",
    "    print(\"robot_position: \" ,robot.get_position())\n",
    "    while(not(robot.Has_reached_final_position(Set_Objective[-1])) and index_coordinate< len(Set_Coordinate)):\n",
    "        \"\"\"Loop because : \n",
    "            - Checkpoint has been reached\n",
    "            - robot is blocked (Obstacle)\n",
    "            - robot timeout on the last coordinate, so it will try again to go there.\n",
    "            - STM32 do not answer (If the break has been removed at the end of the function)\n",
    "        \"\"\"\n",
    "        grid = mapper.map()#Get the actual Map\n",
    "        X_Robot , Y_Robot, A_Robot  = robot.get_position()\n",
    "        \n",
    "        \"\"\"Check if robot is blocked\n",
    "        blocked -> see arround and add checkpoint to unblock to robot\"\"\"\n",
    "        \n",
    "        if(Robot_is_blocked):\n",
    "            print(\"Robot blocked\")\n",
    "            Map_Space = Path_Generator.get_obstacle_robot(robot.get_position(),grid)\n",
    "            Free_Space=robot.Free_Space_Around2(robot.get_sensor_state(),Map_Space )\n",
    "            \n",
    "            New_Coord=Create_Checkpoint(grid,Free_Space,(X_Robot , Y_Robot, A_Robot),[Set_Objective[0][0],Set_Objective[0][1]])\n",
    "            Set_Coordinate_temp = InitializeSetCoordinate(New_Coord)\n",
    "            Set_Coordinate=np.insert(Set_Coordinate,index_coordinate,Set_Coordinate_temp,axis=0)\n",
    "        Robot_is_blocked=False\n",
    "        \"\"\"Calculate Optimal Timeout \"\"\"\n",
    "        Set_Coordinate = GenerateTimeout(Set_Coordinate, robot.get_position())\n",
    "        \"\"\"End \"\"\"\n",
    "        print(Set_Coordinate)\n",
    "        \n",
    "        \"\"\"Beginning of the loop for each coordinate the robot has to go through\"\"\"\n",
    "        buf_broadcast.clear()#CLear receiving buffer\n",
    "\n",
    "        \"\"\"Build Message to stm from checkpoint in set_coordinate\"\"\"\n",
    "        \n",
    "        Finished_Command=0\n",
    "        Saved_Time=time.time()\n",
    "        \n",
    "        \n",
    "        Build_and_Send(Set_Coordinate[index_coordinate])\n",
    "        \"\"\"Send Command to stm\"\"\"\n",
    "        \"\"\"Loop one checkpoint\"\"\"\n",
    "        while(Finished_Command==0 and ((time.time()-Saved_Time)<(Set_Coordinate[index_coordinate][3]+Offset_Timeout)/1000)) :\n",
    "            #No \"M0\" message from the STM32 and still on time according to the Raspi\n",
    "            if(buf_broadcast):\n",
    "                received=buf_broadcast.popleft()\n",
    "                print(received)\n",
    "                str2=parse(\"M{} X{} Y{} A{} T{} S{}\",received)\n",
    "                if(str2 is not None):\n",
    "                    array_argument=np.zeros(6)\n",
    "                    for i in range(0,6):\n",
    "                        array_argument[i]=float(str2[i])\n",
    "                    if (array_argument[0]==0):\n",
    "                        #New robot position is updated in robot object\n",
    "                        robot.set_position(array_argument[1],array_argument[2],array_argument[3])\n",
    "                        if array_argument[4]==0: #T0 argument Arrived or sensor\n",
    "                            Finished_Command=1#M0 has been received, do the next command\n",
    "                            index_coordinate=index_coordinate+1\n",
    "                            print('Finished')\n",
    "                        elif array_argument[4]==1:\n",
    "                            Finished_Command=1\n",
    "                            index_coordinate=index_coordinate+1\n",
    "                            print('Timeout') #Change ?\n",
    "                        elif array_argument[4]==2:\n",
    "                            Finished_Command=1\n",
    "                            Robot_is_blocked=True\n",
    "                            print('Obstacle')\n",
    "                        feedback_sensors = int(array_argument[5])# feedback sensor MLKJIHGFEDCBA \n",
    "                        mapper.new_obstacle(robot.set_sensor_state(feedback_sensors))\n",
    "                    else:\n",
    "                        print('Not M0 Frame',array_argument[0])\n",
    "                else:#Not an M0 frame \n",
    "                    pass\n",
    "        if(Finished_Command==0 and Try<Max_Try):\n",
    "            print('Lack of answer from STM32, Try Number '+str(Try+1))\n",
    "            Try=Try+1\n",
    "        elif(Try>=Max_Try):\n",
    "            break #Leave the loop, should it ?\n",
    "        else:\n",
    "            Try =0\n",
    "            \n",
    "        \"\"\"End of try for one coordinate\"\"\"\n",
    "\n",
    "    print('End of total movement')\n",
    "    \n",
    "\n",
    "            \n",
    "    return  Set_Coordinate,robot\n"
   ]
  },
  {
   "cell_type": "code",
   "execution_count": 4,
   "metadata": {
    "scrolled": false
   },
   "outputs": [
    {
     "name": "stdout",
     "output_type": "stream",
     "text": [
      "Position Set\n",
      "Robot objet Set\n",
      "Map objet Set\n"
     ]
    }
   ],
   "source": [
    "print('Position Set')\n",
    "x_init= 100\n",
    "y_init= 3000\n",
    "a_init= 0\n",
    "robot = Robot.robot(x_init,y_init,a_init)\n",
    "command = \"G92 X\"+ \"{:0.2f}\".format(x_init) +\" Y\"+\"{:0.2f}\".format(y_init)+ \" A\"+ \"{:0.2f}\".format(a_init)+\"\\r\\n\"\n",
    "buf_stm.append(command)\n",
    "\n",
    "Tcp_Ip.check_data_received(conn, 4096)\n",
    "\n",
    "print('Robot objet Set')\n",
    "mapper = Map_Generator.Mapping()\n",
    "#print(\"Bottle saved before init: \" + mapper.bottle)\n",
    "\n",
    "X_Robot, Y_Robot, A_Robot = robot.get_position()\n",
    "print('Map objet Set')\n",
    "\n",
    "\n",
    "Spot_List = [[2000,3500,0]]#,[6500,3500,0],[4000,6500,0]]\n",
    "\n",
    "Current_Spot = 0\n",
    "Max_bottle = 6\n",
    "Bottle_Count = 0\n",
    "\n"
   ]
  },
  {
   "cell_type": "code",
   "execution_count": 7,
   "metadata": {
    "scrolled": false
   },
   "outputs": [
    {
     "name": "stdout",
     "output_type": "stream",
     "text": [
      "New bottle coordinate:  ['(310,379)', '(309,382)']\n",
      "[1960, 3490, 9.76]\n",
      "coordinate nearsest bottle:  3090 3820\n",
      "final objective:  [[3090, 3820, 0]]\n",
      "bottle count:  1\n",
      "Reach position:  False\n",
      "Set_coordinate:  [3090. 3820.  750. 8000.    0.]\n",
      "robot_position:  [1960, 3490, 9.76]\n",
      "[[3090.         3820.          750.         4197.44012685    0.        ]]\n",
      "OK: X=3090.00 Y=3820.00 A=0.00\n",
      "\n",
      "OK: D_Profil S=750 A=50 B=100 \n",
      "\n",
      "OK: M3 H3 S15\n",
      "\n",
      "M0 X3039.42 Y3807.86 A15.62 T1 S0\n",
      "\n",
      "Timeout\n",
      "{'m': 0, 'g': 0, 'h': 0, 'i': 0, 'd': 0, 'e': 0, 'j': 0, 'l': 0, 'f': 0, 'b': 0, 'k': 0, 'c': 0, 'a': 0}\n",
      "End of total movement\n",
      "Display funct; self.bottle=  [(310, 379), (309, 382)]\n",
      "bottle :  (310, 379)\n",
      "bottle :  (309, 382)\n",
      "mapper bottle 1  [(310, 379), (309, 382)]\n",
      "New bottle coordinate:  ['(293,399)', '(272,413)', '(377,431)', '(325,358)', '(316,384)', '(316,365)', '(412,451)', '(344,344)', '(350,348)', '(346,345)']\n",
      "mapper bottle 2  [(310, 379), (309, 382), (293, 399), (272, 413), (377, 431), (325, 358), (316, 384), (316, 365), (412, 451), (344, 344), (350, 348), (346, 345)]\n"
     ]
    },
    {
     "data": {
      "image/png": "[encoded data removed]",
      "text/plain": [
       "<matplotlib.figure.Figure at 0x6542aa90>"
      ]
     },
     "metadata": {
      "needs_background": "light"
     },
     "output_type": "display_data"
    }
   ],
   "source": [
    "#WHILE Should START HERE(ROBOT IS RUNNING)\n",
    "ser_Collector.write(b'G1 R1500 L2100\\r\\n')\n",
    "Current_Spot = 0\n",
    "Max_bottle = 12\n",
    "Bottle_Count = 0\n",
    "#beacon_coordinates = robot.get_beacon_position()\n",
    "\n",
    "'''if len(beacon_coordinates) > 1:\n",
    "    coordinate = np.median(beacon_coordinates , axis = 0)\n",
    "    command = \"G92 X\"+ \"{:0.2f}\".format(coordinate[0]) +\" Y\"+\"{:0.2f}\".format(coordinate[1])+ \" A\"+ \"{:0.2f}\".format(coordinate[2])+\"\\r\\n\"\n",
    "    buf_stm.append(command)\n",
    "    print(\"Beacon New position: \", command)'''\n",
    "#while(True):\n",
    "\n",
    "'''\n",
    "Ask for new bottle positon\n",
    "=> If there are still bottle on map, define nearest bottle position as objective if in zone1,2\n",
    "=> Else go Next Spot\n",
    "'''\n",
    "#Get bottle coordinate\n",
    "list_bottle_coordinate = Tcp_Ip.check_data_received(conn, BUFFER_SIZE) \n",
    "print(\"New bottle coordinate: \",list_bottle_coordinate)\n",
    "if list_bottle_coordinate != None:\n",
    "    mapper.new_bottle(list_bottle_coordinate)\n",
    "\n",
    "#Go to nearest bottle\n",
    "robot_pos = robot.get_position()\n",
    "\n",
    "Nearest_bottle_X ,Nearest_bottle_Y= mapper.get_nearest_bottle(robot_pos)\n",
    "print(\"coordinate nearsest bottle: \", Nearest_bottle_X ,Nearest_bottle_Y)\n",
    "mapper.clean_bottle_list(robot_pos)\n",
    "\n",
    "if(Nearest_bottle_X != None):#Case where there are still some bottle on the map\n",
    "    Set_Objective = [[Nearest_bottle_X,Nearest_bottle_Y,0]] \n",
    "    Bottle_Count = Bottle_Count + 1\n",
    "else:\n",
    "    #Go to next spot\n",
    "    print(\"No more bottle -> Go to next spot\")\n",
    "    Set_Objective = [Spot_List[Current_Spot]]\n",
    "    Current_Spot = Current_Spot + 1\n",
    "    if( Current_Spot >= len(Spot_List)):\n",
    "        Current_Spot = 0\n",
    "\n",
    "\n",
    "\n",
    "print(\"final objective: \" , Set_Objective)\n",
    "print(\"bottle count: \", Bottle_Count )\n",
    "\n",
    "\n",
    "#Get beacon position HERE\n",
    "#Remove bottle that are too close from robot position (assume these are doublons)\n",
    "checkpoint_, robot = goto_objective(Set_Objective,robot,mapper)\n",
    "\n",
    "\n",
    "\n",
    "if Bottle_Count >= Max_bottle: \n",
    "    Bottle_Count = 0\n",
    "    #GET BACK TO RECYCLING AREA FUNCTION AND DELIVER\n",
    "    mapper.clean_all_bottle_list()\n",
    "    '''beacon_coordinates = robot.get_beacon_position()\n",
    "\n",
    "    if len(beacon_coordinates) > 1:\n",
    "        coordinate = np.median(beacon_coordinates , axis = 0)\n",
    "        command = \"G92 X\"+ \"{:0.2f}\".format(coordinate[0]) +\" Y\"+\"{:0.2f}\".format(coordinate[1])+ \" A\"+ \"{:0.2f}\".format(coordinate[2])+\"\\r\\n\"\n",
    "        buf_stm.append(command)\n",
    "        print(\"Beacon New position: \", command)'''\n",
    "\n",
    "    Deliver_Bottle(robot,mapper)\n",
    "    Tcp_Ip.check_data_received(conn, 4096)\n",
    "        \n",
    "\n",
    "mapper.display([],robot,checkpoint_)\n",
    "print(\"mapper bottle 1 \", mapper.bottle)\n",
    "list_bottle_coordinate = Tcp_Ip.check_data_received(conn, BUFFER_SIZE) \n",
    "print(\"New bottle coordinate: \",list_bottle_coordinate)\n",
    "if list_bottle_coordinate != None:\n",
    "    mapper.new_bottle(list_bottle_coordinate)\n",
    "print(\"mapper bottle 2 \", mapper.bottle)\n",
    "robot_pos = robot.get_position()\n",
    "mapper.clean_bottle_list(robot_pos)\n"
   ]
  },
  {
   "cell_type": "code",
   "execution_count": 8,
   "metadata": {},
   "outputs": [],
   "source": [
    "mapper.new_bottle(['(234,404)', '(227,319)'])"
   ]
  },
  {
   "cell_type": "code",
   "execution_count": 9,
   "metadata": {},
   "outputs": [
    {
     "data": {
      "text/plain": [
       "[(234, 404), (227, 319)]"
      ]
     },
     "execution_count": 9,
     "metadata": {},
     "output_type": "execute_result"
    }
   ],
   "source": [
    "mapper.bottle"
   ]
  },
  {
   "cell_type": "code",
   "execution_count": 8,
   "metadata": {},
   "outputs": [
    {
     "name": "stdout",
     "output_type": "stream",
     "text": [
      "Display funct; self.bottle=  [(377, 431), (412, 451)]\n",
      "bottle :  (377, 431)\n",
      "bottle :  (412, 451)\n"
     ]
    },
    {
     "data": {
      "image/png": "[encoded data removed]",
      "text/plain": [
       "<matplotlib.figure.Figure at 0x654b7ef0>"
      ]
     },
     "metadata": {
      "needs_background": "light"
     },
     "output_type": "display_data"
    }
   ],
   "source": [
    "mapper.display([],robot,checkpoint_)\n"
   ]
  },
  {
   "cell_type": "code",
   "execution_count": null,
   "metadata": {},
   "outputs": [],
   "source": []
  },
  {
   "cell_type": "code",
   "execution_count": 20,
   "metadata": {},
   "outputs": [],
   "source": [
    "Tcp_Ip.check_data_received(conn, 4096)"
   ]
  },
  {
   "cell_type": "code",
   "execution_count": 8,
   "metadata": {},
   "outputs": [
    {
     "name": "stdout",
     "output_type": "stream",
     "text": [
      "[]\n"
     ]
    }
   ],
   "source": [
    "Tcp_Ip.check_data_received(conn, 4096)\n",
    "mapper.clean_all_bottle_list()\n",
    "Current_Spot = 0\n",
    "Max_bottle = 12\n",
    "Bottle_Count = 0\n",
    "Spot_List = [[1000,3500,0],[3000,1000,0],[3000,4000,0],[6500,4000,0],[4000,6500,0]]\n",
    "print(mapper.bottle)"
   ]
  },
  {
   "cell_type": "code",
   "execution_count": 13,
   "metadata": {},
   "outputs": [
    {
     "data": {
      "text/plain": [
       "[(202, 42), (151, 305), (253, 67), (258, 57)]"
      ]
     },
     "execution_count": 13,
     "metadata": {},
     "output_type": "execute_result"
    },
    {
     "data": {
      "image/png": "[encoded data removed]",
      "text/plain": [
       "<matplotlib.figure.Figure at 0x70942e70>"
      ]
     },
     "metadata": {
      "needs_background": "light"
     },
     "output_type": "display_data"
    }
   ],
   "source": [
    "mapper.display([],robot,checkpoint_)\n",
    "mapper.bottle"
   ]
  },
  {
   "cell_type": "code",
   "execution_count": 9,
   "metadata": {},
   "outputs": [],
   "source": [
    "robot.get_beacon_position()"
   ]
  },
  {
   "cell_type": "code",
   "execution_count": null,
   "metadata": {},
   "outputs": [],
   "source": [
    "Map_Rewards is a map of rewards(aka bottle or special zone according to the time of the game)\n",
    "Map_terrain is a map of obstacle and wall \n",
    "\n",
    "while(running)\n",
    "    if(Robot_has_reached_final_position):\n",
    "        Get_Interresting_Position_To_Go();\n",
    "    Set_Of_Coordinate=Calculate_Path(Actual_Pos,Position_To_Go,Map_terrain)\n",
    "    for i in Set_Of_Coordinate\n",
    "    #From here \n",
    "        Send set_of_Coordinate[i]\n",
    "        Wait_for_answer\n",
    "        Get_Position of the robot and state\n",
    "        Actual_Pos=Correlation(Beacon,Robot_Pos)\n",
    "        if State==Blocked\n",
    "            Add_To_Map(Actual_Pos,Sensor_Trigged)\n",
    "            break for loop\n",
    "        else if State== Finished_Action\n",
    "            continue\n",
    "    #to here the robot can move\n",
    "    Bottle_detection_behavior(Actual_Pos,Map_Rewards)"
   ]
  },
  {
   "cell_type": "markdown",
   "metadata": {},
   "source": [
    "# Simulation and Test HERE"
   ]
  },
  {
   "cell_type": "code",
   "execution_count": 4,
   "metadata": {},
   "outputs": [
    {
     "name": "stdout",
     "output_type": "stream",
     "text": [
      "[[ 2500.     0.   500. 10000.     0.]\n",
      " [ 2500.     0.   500.  3000.     0.]]\n",
      "ySTM32_PrimarySTM32_PrimaryOK: X=2500.00 Y=0.00 A=0.00\n",
      "\n",
      "OK: D_Profil S=500 A=50 B=100 \n",
      "\n",
      "OK: M3 H3 S15\n",
      "\n",
      "OK: X=2500.00 Y=0.00 A=0.00\n",
      "\n",
      "OK: D_Profil S=500 A=50 B=100 \n",
      "\n",
      "OK: M3 H3 S15\n",
      "\n",
      "M0 X531.72 Y-0.05 A0.24 T1 S4096\n",
      "\n",
      "Timeout\n",
      "{'m': 1, 'i': 0, 'b': 0, 'f': 0, 'l': 0, 'k': 0, 'c': 0, 'j': 0, 'h': 0, 'a': 0, 'e': 0, 'd': 0, 'g': 0}\n",
      "[[2500.    0.  500. 8516.    0.]\n",
      " [2500.    0.  500. 3000.    0.]]\n",
      "OK: X=2500.00 OK: X=2500.00 Y=0.00 A=0.00\n",
      "\n",
      "Lack of answer from STM32, Try Number 1\n",
      "[[2500.    0.  500. 8516.    0.]\n",
      " [2500.    0.  500. 3000.    0.]]\n",
      "OK:OK: M3 H3 S15\n",
      "\n",
      "OK: X=2500.00 Y=0.00 A=0.00\n",
      "\n",
      "OK: D_Profil S=500 A=50 B=100 \n",
      "\n",
      "OK: M3 H3 S15\n",
      "\n",
      "M0 X531.72 Y-0.05 A0.24 T2 S4096\n",
      "\n",
      "Obstacle\n",
      "{'m': 1, 'i': 0, 'b': 0, 'f': 0, 'l': 0, 'k': 0, 'c': 0, 'j': 0, 'h': 0, 'a': 0, 'e': 0, 'd': 0, 'g': 0}\n",
      "[0, 0, [74, 1], [75, 1], [76, 1], [77, 1], [78, 1], [79, 1], [80, 1], [81, 1], [82, 1], [83, 1], [84, 1], [85, 1], [86, 1], [87, 1], [88, 1], [89, 1], [90, 1], [91, 1], [92, 1], [93, 1], [94, 1], [95, 1], [96, 1], [97, 1], [98, 1], [99, 1], [100, 1], [101, 1], [102, 1], [103, 1], [104, 1], [105, 1], [106, 1], [107, 1], [108, 1], [109, 1], [110, 1], [111, 1], [112, 1], [113, 1], [114, 1], [115, 1], [116, 1], [117, 1], [118, 1], [119, 1], [120, 1], [121, 1], [122, 1], [123, 1], [124, 1], [125, 1], [126, 1], [127, 1], [128, 1], [129, 1], [130, 1], [131, 1], [132, 1], [133, 1], [134, 1], [135, 1], [136, 1], [137, 1], [138, 1], [139, 1], [140, 1], [141, 1], [142, 1], [143, 1], [144, 1], [145, 1], [146, 1], [147, 1], [148, 1], [149, 1], [150, 1], [151, 1], [152, 1], [153, 1], [154, 1], [155, 1], [156, 1], [157, 1], [158, 1], [159, 1], [160, 1], [161, 1], [162, 1], [163, 1], [164, 1], [165, 1], [166, 1], [167, 1], [168, 1], [169, 1], [170, 1], [171, 1], [172, 1]]\n",
      "[[53  0]]\n"
     ]
    },
    {
     "ename": "ValueError",
     "evalue": "setting an array element with a sequence.",
     "output_type": "error",
     "traceback": [
      "\u001b[0;31m---------------------------------------------------------------------------\u001b[0m",
      "\u001b[0;31mValueError\u001b[0m                                Traceback (most recent call last)",
      "\u001b[0;32m<ipython-input-4-c6a79b920f12>\u001b[0m in \u001b[0;36m<module>\u001b[0;34m\u001b[0m\n\u001b[1;32m     36\u001b[0m \u001b[0;31m#Set_Coordinate=np.insert(Set_Coordinate,0,Set_Coordinate_temp,axis=0)\u001b[0m\u001b[0;34m\u001b[0m\u001b[0;34m\u001b[0m\u001b[0m\n\u001b[1;32m     37\u001b[0m \u001b[0;34m\u001b[0m\u001b[0m\n\u001b[0;32m---> 38\u001b[0;31m \u001b[0mcheckpoint_\u001b[0m \u001b[0;34m=\u001b[0m\u001b[0mgoto_objective\u001b[0m\u001b[0;34m(\u001b[0m\u001b[0mSet_Objective\u001b[0m\u001b[0;34m,\u001b[0m\u001b[0mrobot\u001b[0m\u001b[0;34m,\u001b[0m\u001b[0mmapper\u001b[0m\u001b[0;34m)\u001b[0m\u001b[0;34m\u001b[0m\u001b[0m\n\u001b[0m\u001b[1;32m     39\u001b[0m \u001b[0;31m#check,path =Path_Generator.find_path(grid,[Set_Coordinate[-1][0],Set_Coordinate[-1][1]],robot.get_position())\u001b[0m\u001b[0;34m\u001b[0m\u001b[0;34m\u001b[0m\u001b[0m\n\u001b[1;32m     40\u001b[0m \u001b[0;31m#print(check)\u001b[0m\u001b[0;34m\u001b[0m\u001b[0;34m\u001b[0m\u001b[0m\n",
      "\u001b[0;32m<ipython-input-3-2ea9d1480d0a>\u001b[0m in \u001b[0;36mgoto_objective\u001b[0;34m(Set_Objective, robot, mapper)\u001b[0m\n\u001b[1;32m     42\u001b[0m \u001b[0;34m\u001b[0m\u001b[0m\n\u001b[1;32m     43\u001b[0m         \u001b[0;32mif\u001b[0m\u001b[0;34m(\u001b[0m\u001b[0mRobot_is_blocked\u001b[0m\u001b[0;34m)\u001b[0m\u001b[0;34m:\u001b[0m\u001b[0;34m\u001b[0m\u001b[0m\n\u001b[0;32m---> 44\u001b[0;31m             \u001b[0mMap_Space\u001b[0m \u001b[0;34m=\u001b[0m \u001b[0mPath_Generator\u001b[0m\u001b[0;34m.\u001b[0m\u001b[0mget_obstacle_robot\u001b[0m\u001b[0;34m(\u001b[0m\u001b[0mrobot\u001b[0m\u001b[0;34m.\u001b[0m\u001b[0mget_position\u001b[0m\u001b[0;34m(\u001b[0m\u001b[0;34m)\u001b[0m\u001b[0;34m,\u001b[0m\u001b[0mgrid\u001b[0m\u001b[0;34m)\u001b[0m\u001b[0;34m\u001b[0m\u001b[0m\n\u001b[0m\u001b[1;32m     45\u001b[0m             \u001b[0mFree_Space\u001b[0m\u001b[0;34m=\u001b[0m\u001b[0mrobot\u001b[0m\u001b[0;34m.\u001b[0m\u001b[0mFree_Space_Around\u001b[0m\u001b[0;34m(\u001b[0m\u001b[0mrobot\u001b[0m\u001b[0;34m.\u001b[0m\u001b[0mget_sensor_state\u001b[0m\u001b[0;34m(\u001b[0m\u001b[0;34m)\u001b[0m\u001b[0;34m,\u001b[0m\u001b[0mMap_Space\u001b[0m \u001b[0;34m)\u001b[0m\u001b[0;34m\u001b[0m\u001b[0m\n\u001b[1;32m     46\u001b[0m \u001b[0;34m\u001b[0m\u001b[0m\n",
      "\u001b[0;32m~/STI_Robotic_Competition_Software/Architecture/Astar.py\u001b[0m in \u001b[0;36mget_obstacle_robot\u001b[0;34m(robot_position, grid_updated)\u001b[0m\n\u001b[1;32m    133\u001b[0m     \u001b[0mf\u001b[0m \u001b[0;34m,\u001b[0m \u001b[0m_\u001b[0m \u001b[0;34m=\u001b[0m \u001b[0mget_map_information\u001b[0m\u001b[0;34m(\u001b[0m\u001b[0mrobot_position\u001b[0m\u001b[0;34m,\u001b[0m\u001b[0mgrid_updated\u001b[0m\u001b[0;34m,\u001b[0m\u001b[0;36m0\u001b[0m\u001b[0;34m,\u001b[0m\u001b[0;36m1000\u001b[0m\u001b[0;34m)\u001b[0m\u001b[0;34m\u001b[0m\u001b[0m\n\u001b[1;32m    134\u001b[0m     \u001b[0mfl\u001b[0m \u001b[0;34m,\u001b[0m \u001b[0m_\u001b[0m \u001b[0;34m=\u001b[0m\u001b[0mget_map_information\u001b[0m\u001b[0;34m(\u001b[0m\u001b[0mrobot_position\u001b[0m\u001b[0;34m,\u001b[0m\u001b[0mgrid_updated\u001b[0m\u001b[0;34m,\u001b[0m\u001b[0;36m45\u001b[0m\u001b[0;34m,\u001b[0m\u001b[0;36m1000\u001b[0m\u001b[0;34m)\u001b[0m\u001b[0;34m\u001b[0m\u001b[0m\n\u001b[0;32m--> 135\u001b[0;31m     \u001b[0ml\u001b[0m \u001b[0;34m,\u001b[0m \u001b[0m_\u001b[0m \u001b[0;34m=\u001b[0m\u001b[0mget_map_information\u001b[0m\u001b[0;34m(\u001b[0m\u001b[0mrobot_position\u001b[0m\u001b[0;34m,\u001b[0m\u001b[0mgrid_updated\u001b[0m\u001b[0;34m,\u001b[0m\u001b[0;36m90\u001b[0m\u001b[0;34m,\u001b[0m\u001b[0;36m1000\u001b[0m\u001b[0;34m)\u001b[0m\u001b[0;34m\u001b[0m\u001b[0m\n\u001b[0m\u001b[1;32m    136\u001b[0m     \u001b[0mbl\u001b[0m \u001b[0;34m,\u001b[0m \u001b[0m_\u001b[0m \u001b[0;34m=\u001b[0m\u001b[0mget_map_information\u001b[0m\u001b[0;34m(\u001b[0m\u001b[0mrobot_position\u001b[0m\u001b[0;34m,\u001b[0m\u001b[0mgrid_updated\u001b[0m\u001b[0;34m,\u001b[0m\u001b[0;36m135\u001b[0m\u001b[0;34m,\u001b[0m\u001b[0;36m1000\u001b[0m\u001b[0;34m)\u001b[0m\u001b[0;34m\u001b[0m\u001b[0m\n\u001b[1;32m    137\u001b[0m     \u001b[0mb\u001b[0m \u001b[0;34m,\u001b[0m \u001b[0m_\u001b[0m \u001b[0;34m=\u001b[0m\u001b[0mget_map_information\u001b[0m\u001b[0;34m(\u001b[0m\u001b[0mrobot_position\u001b[0m\u001b[0;34m,\u001b[0m\u001b[0mgrid_updated\u001b[0m\u001b[0;34m,\u001b[0m\u001b[0;36m180\u001b[0m\u001b[0;34m,\u001b[0m\u001b[0;36m1000\u001b[0m\u001b[0;34m)\u001b[0m\u001b[0;34m\u001b[0m\u001b[0m\n",
      "\u001b[0;32m~/STI_Robotic_Competition_Software/Architecture/Astar.py\u001b[0m in \u001b[0;36mget_map_information\u001b[0;34m(robot_pos, grid, theta, distance_detection)\u001b[0m\n\u001b[1;32m    100\u001b[0m             \u001b[0mpath_coord\u001b[0m\u001b[0;34m=\u001b[0m\u001b[0mnp\u001b[0m\u001b[0;34m.\u001b[0m\u001b[0minsert\u001b[0m\u001b[0;34m(\u001b[0m\u001b[0mpath_coord\u001b[0m\u001b[0;34m,\u001b[0m\u001b[0;36m0\u001b[0m\u001b[0;34m,\u001b[0m\u001b[0mnp\u001b[0m\u001b[0;34m.\u001b[0m\u001b[0marray\u001b[0m\u001b[0;34m(\u001b[0m\u001b[0mpath_coord0\u001b[0m\u001b[0;34m)\u001b[0m\u001b[0;34m,\u001b[0m\u001b[0maxis\u001b[0m\u001b[0;34m=\u001b[0m\u001b[0;36m0\u001b[0m\u001b[0;34m)\u001b[0m\u001b[0;34m\u001b[0m\u001b[0m\n\u001b[1;32m    101\u001b[0m             \u001b[0;32mif\u001b[0m\u001b[0;34m(\u001b[0m\u001b[0mlen\u001b[0m\u001b[0;34m(\u001b[0m\u001b[0mresult0\u001b[0m\u001b[0;34m)\u001b[0m \u001b[0;34m>\u001b[0m\u001b[0;36m0\u001b[0m\u001b[0;34m)\u001b[0m\u001b[0;34m:\u001b[0m\u001b[0;34m\u001b[0m\u001b[0m\n\u001b[0;32m--> 102\u001b[0;31m                 \u001b[0mlist_maximum_lines\u001b[0m\u001b[0;34m.\u001b[0m\u001b[0mappend\u001b[0m\u001b[0;34m(\u001b[0m\u001b[0mmax\u001b[0m\u001b[0;34m(\u001b[0m\u001b[0mresult0\u001b[0m\u001b[0;34m)\u001b[0m\u001b[0;34m)\u001b[0m\u001b[0;34m\u001b[0m\u001b[0m\n\u001b[0m\u001b[1;32m    103\u001b[0m         \u001b[0;32melse\u001b[0m\u001b[0;34m:\u001b[0m\u001b[0;34m\u001b[0m\u001b[0m\n\u001b[1;32m    104\u001b[0m             \u001b[0mlist_maximum_lines\u001b[0m\u001b[0;34m.\u001b[0m\u001b[0mappend\u001b[0m\u001b[0;34m(\u001b[0m\u001b[0;36m255\u001b[0m\u001b[0;34m)\u001b[0m\u001b[0;34m\u001b[0m\u001b[0m\n",
      "\u001b[0;32m~/.local/lib/python3.5/site-packages/numpy/lib/function_base.py\u001b[0m in \u001b[0;36minsert\u001b[0;34m(arr, obj, values, axis)\u001b[0m\n\u001b[1;32m   4582\u001b[0m         \u001b[0;31m# There are some object array corner cases here, but we cannot avoid\u001b[0m\u001b[0;34m\u001b[0m\u001b[0;34m\u001b[0m\u001b[0m\n\u001b[1;32m   4583\u001b[0m         \u001b[0;31m# that:\u001b[0m\u001b[0;34m\u001b[0m\u001b[0;34m\u001b[0m\u001b[0m\n\u001b[0;32m-> 4584\u001b[0;31m         \u001b[0mvalues\u001b[0m \u001b[0;34m=\u001b[0m \u001b[0marray\u001b[0m\u001b[0;34m(\u001b[0m\u001b[0mvalues\u001b[0m\u001b[0;34m,\u001b[0m \u001b[0mcopy\u001b[0m\u001b[0;34m=\u001b[0m\u001b[0;32mFalse\u001b[0m\u001b[0;34m,\u001b[0m \u001b[0mndmin\u001b[0m\u001b[0;34m=\u001b[0m\u001b[0marr\u001b[0m\u001b[0;34m.\u001b[0m\u001b[0mndim\u001b[0m\u001b[0;34m,\u001b[0m \u001b[0mdtype\u001b[0m\u001b[0;34m=\u001b[0m\u001b[0marr\u001b[0m\u001b[0;34m.\u001b[0m\u001b[0mdtype\u001b[0m\u001b[0;34m)\u001b[0m\u001b[0;34m\u001b[0m\u001b[0m\n\u001b[0m\u001b[1;32m   4585\u001b[0m         \u001b[0;32mif\u001b[0m \u001b[0mindices\u001b[0m\u001b[0;34m.\u001b[0m\u001b[0mndim\u001b[0m \u001b[0;34m==\u001b[0m \u001b[0;36m0\u001b[0m\u001b[0;34m:\u001b[0m\u001b[0;34m\u001b[0m\u001b[0m\n\u001b[1;32m   4586\u001b[0m             \u001b[0;31m# broadcasting is very different here, since a[:,0,:] = ... behaves\u001b[0m\u001b[0;34m\u001b[0m\u001b[0;34m\u001b[0m\u001b[0m\n",
      "\u001b[0;31mValueError\u001b[0m: setting an array element with a sequence."
     ]
    }
   ],
   "source": [
    "import robot as Robot\n",
    "import Astar as Path_Generator\n",
    "import Mapping as Map_Generator\n",
    "import numpy as np\n",
    "import matplotlib.pyplot as plt\n",
    "from parse import *\n",
    "import math\n",
    "%matplotlib inline\n",
    "from ast import literal_eval as make_tuple\n",
    "robot = Robot.robot(0,0,0)\n",
    "#coord_robot = robot.get_beacon_position()\n",
    "#print(\"Robot is in :\" ,coord_robot)\n",
    "#robot.set_position(X_robot , Y_robot, Angle_robot)\n",
    "#print(robot.set_sensor_state(2048+16))\n",
    "mapper = Map_Generator.Mapping()\n",
    "grid_updated=mapper.map()\n",
    "\n",
    "#XY = robot.set_sensor_state(1+2+4096)\n",
    "\n",
    "#mapper.new_obstacle([[300,160]])\n",
    "grid_updated=mapper.map()\n",
    "\n",
    "#mapper.new_obstacle(robot.set_sensor_state(4096))\n",
    "\n",
    "grid=mapper.map()\n",
    "Set_Objective = [[2500,0,0]]\n",
    "X_Robot, Y_Robot, A_Robot = robot.get_position()\n",
    "#Path_Generator.get_map_information(robot.get_position(),grid,45 ,5000 )\n",
    "#Path_Generator.get_obstacle_robot(robot.get_position(),grid)\n",
    "\n",
    "    \n",
    "#Map_Space = Path_Generator.get_obstacle_robot(robot.get_position(),grid)\n",
    "#Free_Space=robot.Free_Space_Around(robot.get_sensor_state(),Map_Space )\n",
    "#New_Coord=Create_Checkpoint(grid,Free_Space,(X_Robot , Y_Robot, A_Robot),[Set_Objective[0][0],Set_Objective[0][1]])\n",
    "#Set_Coordinate_temp = InitializeSetCoordinate(New_Coord)\n",
    "#Set_Coordinate=np.insert(Set_Coordinate,0,Set_Coordinate_temp,axis=0)\n",
    "\n",
    "checkpoint_ =goto_objective(Set_Objective,robot,mapper)\n",
    "#check,path =Path_Generator.find_path(grid,[Set_Coordinate[-1][0],Set_Coordinate[-1][1]],robot.get_position())\n",
    "#print(check)\n",
    "#Set_Coordinate_temp = InitializeSetCoordinate(np.array([check]))\n",
    "#Set_Coordinate=np.insert(Set_Coordinate,0,Set_Coordinate_temp,axis=0)\n",
    "#Objectif\n",
    "\n",
    "\n",
    "mapper.display(path,robot,Set_Coordinate)\n",
    "\n"
   ]
  },
  {
   "cell_type": "markdown",
   "metadata": {},
   "source": [
    "# Old Main loop (Astar :)"
   ]
  },
  {
   "cell_type": "code",
   "execution_count": 11,
   "metadata": {},
   "outputs": [],
   "source": [
    "conn.close()"
   ]
  },
  {
   "cell_type": "code",
   "execution_count": 21,
   "metadata": {},
   "outputs": [
    {
     "name": "stdout",
     "output_type": "stream",
     "text": [
      "[0, 1, 3]\n",
      "[0, 1, 3]\n",
      "[0, 1, 3]\n",
      "[0, 1, 3]\n",
      "[0, 1, 3]\n",
      "[0, 1, 3]\n",
      "Beacon:  []\n"
     ]
    }
   ],
   "source": [
    "import numpy as np\n",
    "beacon_coordinates = robot.get_beacon_position()\n",
    "print(\"Beacon: \",beacon_coordinates)\n",
    "if len(beacon_coordinates) > 1:\n",
    "    coordinate = np.median(beacon_coordinates , axis = 0)\n",
    "    command = \"G92 X\"+ \"{:0.2f}\".format(coordinate[0]) +\" Y\"+\"{:0.2f}\".format(coordinate[1])+ \" A\"+ \"{:0.2f}\".format(coordinate[2])+\"\\r\\n\"\n",
    "    buf_stm.append(command)\n",
    "    print(command)"
   ]
  },
  {
   "cell_type": "code",
   "execution_count": null,
   "metadata": {},
   "outputs": [],
   "source": []
  }
 ],
 "metadata": {
  "kernelspec": {
   "display_name": "Python 3",
   "language": "python",
   "name": "python3"
  },
  "language_info": {
   "codemirror_mode": {
    "name": "ipython",
    "version": 3
   },
   "file_extension": ".py",
   "mimetype": "text/x-python",
   "name": "python",
   "nbconvert_exporter": "python",
   "pygments_lexer": "ipython3",
   "version": "3.5.3"
  }
 },
 "nbformat": 4,
 "nbformat_minor": 2
}
