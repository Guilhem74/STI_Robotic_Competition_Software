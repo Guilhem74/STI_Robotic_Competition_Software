{
 "cells": [
  {
   "cell_type": "code",
   "execution_count": null,
   "metadata": {},
   "outputs": [],
   "source": [
    "from Serial_ import *\n",
    "ser_Collector= serial.Serial('/dev/ttyACM1',115200)"
   ]
  },
  {
   "cell_type": "code",
   "execution_count": null,
   "metadata": {},
   "outputs": [],
   "source": [
    "ser_Collector.write(b'G1 R0 L0 \\r\\n')"
   ]
  },
  {
   "cell_type": "code",
   "execution_count": null,
   "metadata": {},
   "outputs": [],
   "source": [
    "ser_Collector.write(b'G1 R1500 L2100 \\r\\n')"
   ]
  },
  {
   "cell_type": "code",
   "execution_count": 1,
   "metadata": {},
   "outputs": [
    {
     "name": "stdout",
     "output_type": "stream",
     "text": [
      "Import\n"
     ]
    }
   ],
   "source": [
    "import numpy as np\n",
    "import math\n",
    "\n",
    "##Server\n",
    "import  time, sys , serial\n",
    "import threading\n",
    "import pprint\n",
    "import time\n",
    "from Serial_ import *\n",
    "SERIAL_PORT_ROBOT = '/dev/ttyACM0'\n",
    "SERIAL_PORT_COllECTOR = '/dev/ttyACM1'\n",
    "SERIAL_RATE = 115200\n",
    "import threading\n",
    "from collections import deque\n",
    "import TCP_IP as Tcp_Ip\n",
    "clientCount = 0\n",
    "import robot as Robot\n",
    "import Astar as Path_Generator\n",
    "import Mapping as Map_Generator\n",
    "import matplotlib.pyplot as plt\n",
    "from parse import *\n",
    "from ast import literal_eval as make_tuple\n",
    "%matplotlib inline\n",
    "\n",
    "def GenerateTimeout(Set_Coordinate, robot_pos):\n",
    "    X_Robot , Y_Robot, A_Robot = robot_pos[0] , robot_pos[1] , robot_pos[2]\n",
    "    for i in range(len(Set_Coordinate)): \n",
    "        time_out_com = math.sqrt( np.float_power(Set_Coordinate[i,0]-X_Robot , 2) + np.float_power(Set_Coordinate[i,1]-Y_Robot , 2) ) / Set_Coordinate[i,2]\n",
    "        Set_Coordinate[i,3] = time_out_com*1400 + 2000# 140 %(For incertenties +500 ms(For initial acceleration)\n",
    "        X_Robot = Set_Coordinate[i,0]\n",
    "        Y_Robot = Set_Coordinate[i,1]\n",
    "    return Set_Coordinate\n",
    "\n",
    "def Build_and_Send(Set_Coordinate):\n",
    "    X_Des=Set_Coordinate[0]\n",
    "    Y_Des=Set_Coordinate[1]\n",
    "    Max_Speed=Set_Coordinate[2]\n",
    "    TimeOut=Set_Coordinate[3]\n",
    "    Backward_Parameter=Set_Coordinate[4]\n",
    "    \"\"\"Create messages\"\"\"\n",
    "    Dump='\\r\\n'\n",
    "    G0_String='G0 X' + str(round(X_Des))+' Y'+str(round(Y_Des))+' T'+str(round(TimeOut))+ ' R'+str(round(Backward_Parameter))+'\\r\\n'\n",
    "    M201_String='M201 H0 S' + str(Max_Speed)+'\\r\\n'\n",
    "    M3_String='M3 H3\\r\\n'\n",
    "    All_Commands = [Dump,G0_String,M201_String,M3_String]\n",
    "    SendMessage(All_Commands)\n",
    "def SendMessage(All_Commands):\n",
    "    for i in range(0,len(All_Commands)):\n",
    "            pass\n",
    "            buf_stm.append(All_Commands[i])#Send every messages\n",
    "def InitializeSetCoordinate(Coordinate):\n",
    "    Coordinate = np.array(Coordinate)\n",
    "    Set_Coordinate=np.zeros((len(Coordinate),5))\n",
    "    Set_Coordinate[:,0]=Coordinate[:,0]\n",
    "    Set_Coordinate[:,1]=Coordinate[:,1]\n",
    "    Set_Coordinate[:,2]=750;\n",
    "    Set_Coordinate[:,3]=8000;\n",
    "    Set_Coordinate[:,4]=Coordinate[:,2];\n",
    "    return Set_Coordinate\n",
    "\n",
    "def Create_Checkpoint(grid,Space_Around, Robot_Pos,Objectif):\n",
    "    X_Robot, Y_Robot, A_Robot= Robot_Pos\n",
    "    X,Y,A=robot.get_position()\n",
    "    X_Des=Objectif[0]\n",
    "    Y_Des=Objectif[1]\n",
    "    New_Coord = []\n",
    "    Error_X=X_Des-X;\n",
    "    Error_Y=Y_Des-Y;\n",
    "    Angle_Des=math.atan2(Error_Y,Error_X)\n",
    "    Error_Angle = Angle_Des - A\n",
    "    Angle_Des_Degrees=math.degrees(Angle_Des)\n",
    "    if(not(Space_Around['Front']) and Space_Around['Right']):\n",
    "        X_New=X+math.cos(math.radians(A-90))*300\n",
    "        Y_New=Y+math.sin(math.radians(A-90))*300\n",
    "        print('Avoidance Front go to the right',X_New, Y_New)\n",
    "        New_Coord.append([X_New,Y_New,0])\n",
    "    elif(not(Space_Around['Front']) and Space_Around['Left']): \n",
    "        X_New=X+math.cos(math.radians(A+90))*300\n",
    "        Y_New=Y+math.sin(math.radians(A+90))*300\n",
    "        print('Avoidance Front go to the Left',X_New, Y_New)\n",
    "        New_Coord.append([X_New,Y_New,0])\n",
    "    elif((Space_Around['Front']) and( not(Space_Around['Right'])or not(Space_Around['Left']))):\n",
    "        X_New=X+math.cos(math.radians(A))*300\n",
    "        Y_New=Y+math.sin(math.radians(A))*300\n",
    "        New_Coord.append([X_New,Y_New,0])\n",
    "        print('Avoidance Side go to the Front',X_New, Y_New)\n",
    "    elif(not(Space_Around['Front']) and not(Space_Around['Left']) and not(Space_Around['Right']) ):\n",
    "        #Back LEFT\n",
    "        X_New=X+math.cos(math.radians(A+120))*450\n",
    "        Y_New=Y+math.sin(math.radians(A+150))*450\n",
    "        #Back Right\n",
    "        X_New2=X+math.cos(math.radians(A-120))*450\n",
    "        Y_New2=Y+math.sin(math.radians(A-120))*450\n",
    "        if(Is_Position_Free(grid,[X_New,Y_New],20)):\n",
    "            New_Coord.append([X_New,Y_New,1])\n",
    "            print('Avoidance Front Left Right Go to the Back Left',X_New, Y_New)\n",
    "        elif(Is_Position_Free(grid,[X_New2,Y_New2],20)):\n",
    "            New_Coord.append([X_New2,Y_New2,1])\n",
    "            print('Avoidance Front Left Right Go  to the Back Right',X_New2, Y_New2)\n",
    "        else:\n",
    "            #Back\n",
    "            X_New=X+math.cos(math.radians(A+180))*300\n",
    "            Y_New=Y+math.sin(math.radians(A+180))*300\n",
    "            New_Coord.append([X_New,Y_New,1])\n",
    "            print('Avoidance Front Left Right Go*to the Back',X_New, Y_New)\n",
    "    else:\n",
    "        X_New=X\n",
    "        Y_New=Y\n",
    "        New_Coord.append([X_New,Y_New,0])\n",
    "        print('Nothing',X_New, Y_New)\n",
    "    return New_Coord\n",
    "\n",
    "def Is_Position_Free(grid,coord,dist):        \n",
    "        x = int(coord[0]/10)\n",
    "        y = int(coord[1]/10)\n",
    "        dist = int(dist/10)\n",
    "        if(x>dist and x<799-dist and y>dist and y<799-dist):\n",
    "            value = np.max(grid[y-dist:y+dist ,x-dist:x+dist ])\n",
    "            print(grid[y-dist:y+dist ,x-dist:x+dist ],value)\n",
    "            if value:\n",
    "                return True\n",
    "            else:\n",
    "                return False\n",
    "        else:\n",
    "            return False\n",
    "def Deliver_Bottle(robot,mapper):\n",
    "    Set_Objective = [[2000,2000,1]]\n",
    "    goto_objective(Set_Objective,robot,mapper)\n",
    "    Set_Objective = [[500,500,0]]\n",
    "    goto_objective(Set_Objective,robot,mapper)\n",
    "    ser_Collector.write(b'G1 R-1500 L-2100\\r\\n')\n",
    "    time.sleep(5)\n",
    "    Set_Objective = [[1500,1500,1]]\n",
    "    goto_objective(Set_Objective,robot,mapper)\n",
    "    ser_Collector.write(b'G1 R2000 L2500\\r\\n')\n",
    "print('Import')"
   ]
  },
  {
   "cell_type": "code",
   "execution_count": 2,
   "metadata": {
    "scrolled": true
   },
   "outputs": [],
   "source": [
    "\n",
    "buf_broadcast = deque([]) # Queue of message for broadcasting via TCP IP\n",
    "buf_stm = deque([])\n",
    "ser = serial.Serial(SERIAL_PORT_ROBOT, SERIAL_RATE) # Connection to STM32 ROBOT\n",
    "ser_Collector= serial.Serial('/dev/ttyACM1',115200)\n",
    "serial_T = serialTread(ser)\n",
    "threading.Thread(target=serial_T.run, args=(buf_broadcast,buf_stm)).start()#create serial thread for robot control\n",
    "#Changer les action_In et action_Out en queue de dictionaire"
   ]
  },
  {
   "cell_type": "code",
   "execution_count": 3,
   "metadata": {},
   "outputs": [],
   "source": [
    "BUFFER_SIZE = 4096\n",
    "conn, addr, s = Tcp_Ip.enable_tcp_com(BUFFER_SIZE)\n"
   ]
  },
  {
   "cell_type": "code",
   "execution_count": 4,
   "metadata": {},
   "outputs": [
    {
     "name": "stdout",
     "output_type": "stream",
     "text": [
      "Import\n"
     ]
    }
   ],
   "source": [
    "\n",
    "\n",
    "\n",
    "def goto_objective(Set_Objective,robot,mapper):\n",
    "    Robot_is_blocked=False;\n",
    "    Offset_Timeout=1500;#Raspberry timeout for lack of communication \n",
    "    Max_Try=2;#Number of try to send that message\n",
    "    Try =0\n",
    "    grid = mapper.map()\n",
    "    robot_pos = robot.get_position()\n",
    "    index_coordinate=0;\n",
    "    \"\"\"Concatenate Displacement Movement\"\"\"\n",
    "    Set_Coordinate = InitializeSetCoordinate(Set_Objective)    \n",
    "    Interm_Coordinate = Path_Generator.find_path(grid,Set_Objective[0],robot_pos)\n",
    "    if Interm_Coordinate != None:\n",
    "        Set_Coordinate_temp = InitializeSetCoordinate(Interm_Coordinate)\n",
    "        Set_Coordinate=np.insert(Set_Coordinate,0,Set_Coordinate_temp,axis=0)\n",
    "    Global_Try=0\n",
    "    Try_Timeout=0\n",
    "    \"\"\" Loop one objective (set of checkpoint) \"\"\"\n",
    "    while(not(robot.Has_reached_final_position(Set_Objective[-1])) and index_coordinate< len(Set_Coordinate) and Global_Try<5):\n",
    "        \"\"\"Loop because : \n",
    "            - Checkpoint has been reached\n",
    "            - robot is blocked (Obstacle)\n",
    "            - robot timeout on the last coordinate, so it will try again to go there.\n",
    "            - STM32 do not answer (If the break has been removed at the end of the function)\n",
    "        \"\"\"\n",
    "        grid = mapper.map()#Get the actual Map\n",
    "        X_Robot , Y_Robot, A_Robot  = robot.get_position()\n",
    "        \n",
    "        \"\"\"Check if robot is blocked\n",
    "        blocked -> see arround and add checkpoint to unblock to robot\"\"\"\n",
    "        if(Robot_is_blocked):\n",
    "            print(\"Robot blocked\")\n",
    "            Map_Space = Path_Generator.get_obstacle_robot(robot.get_position(),grid)\n",
    "            Free_Space=robot.Free_Space_Around(robot.get_sensor_state(),Map_Space )\n",
    "            \n",
    "            New_Coord=Create_Checkpoint(grid,Free_Space,(X_Robot , Y_Robot, A_Robot),[Set_Objective[0][0],Set_Objective[0][1]])\n",
    "            Set_Coordinate_temp = InitializeSetCoordinate(New_Coord)\n",
    "            Set_Coordinate=np.insert(Set_Coordinate,index_coordinate,Set_Coordinate_temp,axis=0)\n",
    "        Robot_is_blocked=False\n",
    "        \"\"\"Calculate Optimal Timeout \"\"\"\n",
    "        Set_Coordinate = GenerateTimeout(Set_Coordinate, robot.get_position())\n",
    "        \"\"\"End \"\"\"\n",
    "        print(Set_Coordinate)\n",
    "        \n",
    "        \"\"\"Beginning of the loop for each coordinate the robot has to go through\"\"\"\n",
    "        buf_broadcast.clear()#CLear receiving buffer\n",
    "\n",
    "        \"\"\"Build Message to stm from checkpoint in set_coordinate\"\"\"\n",
    "        Finished_Command=0\n",
    "        Saved_Time=time.time()\n",
    "        \n",
    "        Build_and_Send(Set_Coordinate[index_coordinate])\n",
    "        Global_Try=Global_Try+1\n",
    "        \"\"\"Send Command to stm\"\"\"\n",
    "        \"\"\"Loop one checkpoint\"\"\"\n",
    "        while(Finished_Command==0 and ((time.time()-Saved_Time)<(Set_Coordinate[index_coordinate][3]+Offset_Timeout)/1000)) :\n",
    "            #No \"M0\" message from the STM32 and still on time according to the Raspi\n",
    "            if(buf_broadcast):\n",
    "                received=buf_broadcast.popleft()\n",
    "                print(received)\n",
    "                str2=parse(\"M{} X{} Y{} A{} T{} S{}\",received)\n",
    "                if(str2 is not None):\n",
    "                    array_argument=np.zeros(6)\n",
    "                    for i in range(0,6):\n",
    "                        array_argument[i]=float(str2[i])\n",
    "                    if (array_argument[0]==0):\n",
    "                        #New robot position is updated in robot object\n",
    "                        robot.set_position(array_argument[1],array_argument[2],array_argument[3])\n",
    "                        if array_argument[4]==0: #T0 argument Arrived or sensor\n",
    "                            Finished_Command=1#M0 has been received, do the next command\n",
    "                            index_coordinate=index_coordinate+1\n",
    "                            print('Finished')\n",
    "                        elif array_argument[4]==1:\n",
    "                            if not(robot.Has_reached_final_position(Set_Coordinate[index_coordinate])) and Try_Timeout<2:\n",
    "                                Try_Timeout=Try_Timeout+1\n",
    "                                Finished_Command=1 #Try again\n",
    "                                print('Timeout, Try again') #Change ?\n",
    "                            elif Try_Timeout>=2:\n",
    "                                feedback_sensors = int(array_argument[5])# feedback sensor MLKJIHGFEDCBA \n",
    "                                mapper.new_obstacle(robot.set_sensor_state(feedback_sensors))\n",
    "                                Finished_Command=1\n",
    "                                Robot_is_blocked=True\n",
    "                                print('Timeout, Stop trying') #Change ?\n",
    "                            else:\n",
    "                                index_coordinate=index_coordinate+1\n",
    "                                Finished_Command=1 # Continue to next position\n",
    "                                print('Timeout, Next pos') #Change ?\n",
    "                        elif array_argument[4]==2:\n",
    "                            Finished_Command=1\n",
    "                            Robot_is_blocked=True\n",
    "                            print('Obstacle')\n",
    "                        feedback_sensors = int(array_argument[5])# feedback sensor MLKJIHGFEDCBA \n",
    "                        mapper.new_obstacle(robot.set_sensor_state(feedback_sensors))\n",
    "                    else:\n",
    "                        print('Not M0 Frame',array_argument[0])\n",
    "                else:#Not an M0 frame \n",
    "                    pass\n",
    "        if(Finished_Command==0 and Try<Max_Try):\n",
    "            print('Lack of answer from STM32, Try Number '+str(Try+1))\n",
    "            Build_and_Send(Set_Coordinate[index_coordinate])\n",
    "            Try=Try+1\n",
    "        elif(Try>=Max_Try):\n",
    "            break #Leave the loop, should it ?\n",
    "        else:\n",
    "            Try =0\n",
    "            \n",
    "        \"\"\"End of try for one coordinate\"\"\"\n",
    "\n",
    "    print('End of total movement')\n",
    "    \n",
    "\n",
    "            \n",
    "    return  Set_Coordinate,robot\n",
    "print('Import')"
   ]
  },
  {
   "cell_type": "code",
   "execution_count": 5,
   "metadata": {},
   "outputs": [],
   "source": [
    "x_init= 5500\n",
    "y_init= 6000\n",
    "a_init= 90\n",
    "robot = Robot.robot(x_init,y_init,a_init)"
   ]
  },
  {
   "cell_type": "code",
   "execution_count": null,
   "metadata": {},
   "outputs": [],
   "source": [
    "#robot.set_position(,,)\n"
   ]
  },
  {
   "cell_type": "code",
   "execution_count": 8,
   "metadata": {
    "scrolled": false
   },
   "outputs": [
    {
     "name": "stdout",
     "output_type": "stream",
     "text": [
      "Position Set\n",
      "[0, 2]\n",
      "Beacon not working\n",
      "Robot Pos:  4680 6280 449.25\n",
      "New bottle coordinate:  None\n"
     ]
    }
   ],
   "source": [
    "print('Position Set')\n",
    "x_beacon,y_beacon,a_beacon = robot.get_beacon_position()\n",
    "robot.set_position(x_beacon,y_beacon,a_beacon)\n",
    "command = \"G92 X\"+ \"{:0.2f}\".format(x_beacon) +\" Y\"+\"{:0.2f}\".format(y_beacon)+ \" A\"+ \"{:0.2f}\".format(a_beacon)+\"\\r\\n\"\n",
    "buf_stm.append(command)\n",
    "time.sleep(0.25)\n",
    "while(len(buf_broadcast)<1):\n",
    "    time.sleep(0.25)\n",
    "    buf_stm.append(command)\n",
    "robot.set_position(x_beacon,y_beacon,a_beacon)\n",
    "\n",
    "Tcp_Ip.check_data_received(conn, 4096)\n",
    "mapper = Map_Generator.Mapping()\n",
    "#print(\"Bottle saved before init: \" + mapper.bottle)\n",
    "\n",
    "X_Robot, Y_Robot, A_Robot = robot.get_position()\n",
    "print('Robot Pos: ',X_Robot,Y_Robot,A_Robot)\n",
    "\n",
    "\n",
    "Spot_List =[[1000,2600,0],[6500,2600,0],[6500,5000,0],[4500,5000,0],[4500,7500,0],[4500,7500,0],[4500,5500,0],[7500,5500,0],[7500,1000,0],[2500,1000,0],[2500,4000,0],[7000,4000,0],[7000,1500,0],[3500,1500,0],[1000,3500,0],[5500,3500,0],[5500,4000,0],[1000,4000,0]]\n",
    "\n",
    "Current_Spot = 0\n",
    "Max_bottle = 2\n",
    "Bottle_Count = 0\n",
    "list_bottle_coordinate = Tcp_Ip.check_data_received(conn, BUFFER_SIZE) \n",
    "print(\"New bottle coordinate: \",list_bottle_coordinate)\n",
    "if list_bottle_coordinate != None:\n",
    "    mapper.new_bottle(list_bottle_coordinate)\n",
    "\n"
   ]
  },
  {
   "cell_type": "code",
   "execution_count": 7,
   "metadata": {},
   "outputs": [
    {
     "name": "stdout",
     "output_type": "stream",
     "text": [
      "[0, 1, 2]\n"
     ]
    },
    {
     "data": {
      "text/plain": [
       "(1300, 200, 96.55788442528731)"
      ]
     },
     "execution_count": 7,
     "metadata": {},
     "output_type": "execute_result"
    }
   ],
   "source": [
    "\n",
    "robot.get_beacon_position()\n"
   ]
  },
  {
   "cell_type": "code",
   "execution_count": null,
   "metadata": {
    "scrolled": false
   },
   "outputs": [],
   "source": [
    "#WHILE Should START HERE(ROBOT IS RUNNING)\n",
    "ser_Collector.write(b'G1 R1500 L2100\\r\\n')\n",
    "    #Get bottle coordinate\n",
    "Bottle_Objectif=0;\n",
    "while(True):\n",
    "\n",
    "    '''\n",
    "    Ask for new bottle positon\n",
    "    => If there are still bottle on map, define nearest bottle position as objective if in zone1,2\n",
    "    => Else go Next Spot\n",
    "    '''\n",
    "    grid = mapper.map()#Get the actual Map\n",
    "    #Get beacon position HERE\n",
    "    x_beacon,y_beacon,a_beacon = robot.get_beacon_position()\n",
    "    #Go to nearest bottle\n",
    "    robot.set_position(x_beacon,y_beacon,a_beacon)\n",
    "    command = \"G92 X\"+ \"{:0.2f}\".format(x_beacon) +\" Y\"+\"{:0.2f}\".format(y_beacon)+ \" A\"+ \"{:0.2f}\".format(a_beacon)+\"\\r\\n\"\n",
    "    buf_stm.append(command)\n",
    "    robot_pos = robot.get_position()\n",
    "    X,Y,A = robot.get_position()\n",
    "    print('Robot Pos: ',robot_pos)\n",
    "    Nearest_bottle_X ,Nearest_bottle_Y= mapper.get_nearest_bottle(robot_pos)\n",
    "  \n",
    "    if(Nearest_bottle_X != None):#Go to Bottle\n",
    "        Error_X=Nearest_bottle_X-robot_pos[0];\n",
    "        Error_Y=Nearest_bottle_Y-robot_pos[1];\n",
    "        Angle_Des=math.atan2(Error_Y,Error_X)\n",
    "        Temp_X=Nearest_bottle_X+math.cos((Angle_Des))*500\n",
    "        Temp_Y=Nearest_bottle_Y+math.sin((Angle_Des))*500\n",
    "        if(Is_Position_Free(grid,[Temp_X,Temp_Y],20)):\n",
    "            Nearest_bottle_X=Temp_X\n",
    "            Nearest_bottle_Y=Temp_Y\n",
    "        else:\n",
    "            print(\"Cannot extend\")\n",
    "        print(\"Coordinate nearest bottle: \", Nearest_bottle_X ,Nearest_bottle_Y)\n",
    "        Set_Objective = [[Nearest_bottle_X,Nearest_bottle_Y,0]] \n",
    "        Bottle_Objectif=1;\n",
    "        Bottle_Count = Bottle_Count + 1\n",
    "    else:#Go to Checkpoint\n",
    "        Set_Objective = [Spot_List[Current_Spot]]\n",
    "        print(\"Checkpoint \" , Set_Objective)\n",
    "        Bottle_Objectif=0;\n",
    "        Current_Spot = Current_Spot + 1\n",
    "        if( Current_Spot >= len(Spot_List)):\n",
    "            Current_Spot = 0\n",
    "    mapper.clean_all_bottle_list()\n",
    "    print(\"Bottle count: \", Bottle_Count )\n",
    "\n",
    "    checkpoint_, robot = goto_objective(Set_Objective,robot,mapper)\n",
    "    if Bottle_Count >= Max_bottle: \n",
    "        Bottle_Count = 0\n",
    "        #Clean all the bottle from the map \n",
    "        mapper.clean_all_bottle_list()\n",
    "        Tcp_Ip.check_data_received(conn, 4096)\n",
    "        #GET BACK TO RECYCLING AREA FUNCTION AND DELIVER\n",
    "        Deliver_Bottle(robot,mapper)\n",
    "    #mapper.display([],robot,checkpoint_)\n",
    "    list_bottle_coordinate = Tcp_Ip.check_data_received(conn, BUFFER_SIZE) \n",
    "    print(\"New bottle coordinate: \",list_bottle_coordinate)\n",
    "    if list_bottle_coordinate != None:\n",
    "        mapper.new_bottle(list_bottle_coordinate)\n",
    "    robot_pos = robot.get_position()\n",
    "    mapper.clean_bottle_list(robot_pos)\n"
   ]
  },
  {
   "cell_type": "code",
   "execution_count": null,
   "metadata": {},
   "outputs": [],
   "source": [
    "robot_pos= (200,200,0)\n",
    "Nearest_bottle_X=0;\n",
    "Nearest_bottle_Y=0;\n",
    "Error_X=Nearest_bottle_X-robot_pos[0];\n",
    "Error_Y=Nearest_bottle_Y-robot_pos[1];\n",
    "Angle_Des=math.atan2(Error_Y,Error_X)\n",
    "Nearest_bottle_X=Nearest_bottle_X+math.cos((Angle_Des))*200\n",
    "Nearest_bottle_Y=Nearest_bottle_Y+math.sin((Angle_Des))*200\n",
    "print(Nearest_bottle_X,Nearest_bottle_Y)"
   ]
  },
  {
   "cell_type": "code",
   "execution_count": null,
   "metadata": {},
   "outputs": [],
   "source": [
    "detection_line = [1,0,0,0]\n",
    "len(detection_line)"
   ]
  },
  {
   "cell_type": "markdown",
   "metadata": {},
   "source": [
    "# Simulation and Test HERE"
   ]
  },
  {
   "cell_type": "code",
   "execution_count": null,
   "metadata": {},
   "outputs": [],
   "source": [
    "import robot as Robot\n",
    "import Astar as Path_Generator\n",
    "import Mapping as Map_Generator\n",
    "import numpy as np\n",
    "import matplotlib.pyplot as plt\n",
    "from parse import *\n",
    "import math\n",
    "%matplotlib inline\n",
    "from ast import literal_eval as make_tuple\n",
    "robot = Robot.robot(0,0,0)\n",
    "#coord_robot = robot.get_beacon_position()\n",
    "#print(\"Robot is in :\" ,coord_robot)\n",
    "#robot.set_position(X_robot , Y_robot, Angle_robot)\n",
    "#print(robot.set_sensor_state(2048+16))\n",
    "mapper = Map_Generator.Mapping()\n",
    "grid_updated=mapper.map()\n",
    "\n",
    "checkpoint_, robot = goto_objective(Set_Objective,robot,mapper)\n",
    "mapper.display([],robot,[])\n",
    "\n"
   ]
  },
  {
   "cell_type": "markdown",
   "metadata": {},
   "source": [
    "# Old Main loop (Astar :)"
   ]
  },
  {
   "cell_type": "code",
   "execution_count": 6,
   "metadata": {},
   "outputs": [],
   "source": [
    "s.close()"
   ]
  },
  {
   "cell_type": "code",
   "execution_count": 1,
   "metadata": {},
   "outputs": [
    {
     "data": {
      "text/plain": [
       "'\\nif beacon_coordinate != None :\\n\\n    command = \"G92 X\"+ \"{:0.2f}\".format(beacon_coordinate[0]) +\" Y\"+\"{:0.2f}\".format(beacon_coordinate[1])+ \" A\"+ \"{:0.2f}\".format(beacon_coordinate[2])+\"\\r\\n\"\\n    buf_stm.append(command)\\n    print(command)\\n'"
      ]
     },
     "execution_count": 1,
     "metadata": {},
     "output_type": "execute_result"
    }
   ],
   "source": [
    "\n",
    "import robot as Robot\n",
    "import Astar as Path_Generator\n",
    "import Mapping as Map_Generator\n",
    "import numpy as np\n",
    "import matplotlib.pyplot as plt\n",
    "from parse import *\n",
    "import math\n",
    "%matplotlib inline\n",
    "from ast import literal_eval as make_tuple\n",
    "robot = Robot.robot(0,0,0)\n",
    "\"\"\"\n",
    "if beacon_coordinate != None :\n",
    "\n",
    "    command = \"G92 X\"+ \"{:0.2f}\".format(beacon_coordinate[0]) +\" Y\"+\"{:0.2f}\".format(beacon_coordinate[1])+ \" A\"+ \"{:0.2f}\".format(beacon_coordinate[2])+\"\\r\\n\"\n",
    "    buf_stm.append(command)\n",
    "    print(command)\n",
    "\"\"\""
   ]
  },
  {
   "cell_type": "code",
   "execution_count": 4,
   "metadata": {},
   "outputs": [
    {
     "name": "stdout",
     "output_type": "stream",
     "text": [
      "[0, 1, 2]\n",
      "Time to detect contour and center:  0.07707953453063965\n",
      "Time to detect contour and center:  0.039716243743896484\n",
      "Time to detect contour and center:  0.039568185806274414\n",
      "Beacon:  (0, 0, 255.2807544671408)\n"
     ]
    }
   ],
   "source": [
    "beacon_coordinate = robot.get_beacon_position()\n",
    "print(\"Beacon: \",beacon_coordinate)"
   ]
  },
  {
   "cell_type": "code",
   "execution_count": 4,
   "metadata": {},
   "outputs": [
    {
     "name": "stdout",
     "output_type": "stream",
     "text": [
      "G0 X2000 Y2000 T2000 R2000\r\n",
      "\n"
     ]
    }
   ],
   "source": [
    "X_Des=2000.022\n",
    "Y_Des=2000.022\n",
    "TimeOut=2000.022\n",
    "Backward_Parameter=2000.022\n",
    "\n",
    "G0_String='G0 X' + str(round(X_Des))+' Y'+str(round(Y_Des))+' T'+str(round(TimeOut))+ ' R'+str(round(Backward_Parameter))+'\\r\\n'\n",
    "print(G0_String)"
   ]
  },
  {
   "cell_type": "code",
   "execution_count": null,
   "metadata": {},
   "outputs": [],
   "source": []
  }
 ],
 "metadata": {
  "kernelspec": {
   "display_name": "Python 3",
   "language": "python",
   "name": "python3"
  },
  "language_info": {
   "codemirror_mode": {
    "name": "ipython",
    "version": 3
   },
   "file_extension": ".py",
   "mimetype": "text/x-python",
   "name": "python",
   "nbconvert_exporter": "python",
   "pygments_lexer": "ipython3",
   "version": "3.5.3"
  }
 },
 "nbformat": 4,
 "nbformat_minor": 2
}
