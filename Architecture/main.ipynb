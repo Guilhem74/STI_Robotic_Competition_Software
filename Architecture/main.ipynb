{
 "cells": [
  {
   "cell_type": "code",
   "execution_count": 1,
   "metadata": {
    "scrolled": true
   },
   "outputs": [],
   "source": [
    "\n",
    "##Server\n",
    "import  time, sys , serial\n",
    "import threading\n",
    "import pprint\n",
    "import time\n",
    "from Serial_ import *\n",
    "SERIAL_PORT_ROBOT = '/dev/ttyACM0'\n",
    "SERIAL_PORT_COllECTOR = '/dev/ttyACM1'\n",
    "SERIAL_RATE = 115200\n",
    "import threading\n",
    "from collections import deque\n",
    "import TCP_IP as Tcp_Ip\n",
    "clientCount = 0\n",
    "\n",
    "\n",
    "buf_broadcast = deque([]) # Queue of message for broadcasting via TCP IP\n",
    "buf_stm = deque([])\n",
    "\n",
    "buf_stm\n",
    "\n",
    "if __name__ == '__main__':\n",
    "    BUFFER_SIZE = 1024\n",
    "    ser = serial.Serial(SERIAL_PORT_ROBOT, SERIAL_RATE) # Connection to STM32 ROBOT\n",
    "    \n",
    "    serial_T = serialTread(ser)\n",
    "    \n",
    "    threading.Thread(target=serial_T.run, args=(buf_broadcast,buf_stm)).start()#create serial thread for robot control\n",
    "    #conn, addr = Tcp_Ip.enable_tcp_com(BUFFER_SIZE)\n",
    "    time.sleep(1)\n",
    "\n",
    "#Changer les action_In et action_Out en queue de dictionaire"
   ]
  },
  {
   "cell_type": "code",
   "execution_count": 2,
   "metadata": {
    "scrolled": false
   },
   "outputs": [],
   "source": [
    "import numpy as np\n",
    "import math\n",
    "import robot as Robot\n",
    "import Astar as Path_Generator\n",
    "import Mapping as Map_Generator\n",
    "\n",
    "import matplotlib.pyplot as plt\n",
    "from parse import *\n",
    "%matplotlib inline\n",
    "def Main_Loop(Set_Objective,robot,mapper):\n",
    "    checkpoint_ = []\n",
    "    path=None\n",
    "    G=None\n",
    "    while(not(robot.Has_reached_final_position(Set_Objective))):\n",
    "        #print(Tcp_Ip.check_data_received(conn, BUFFER_SIZE))\n",
    "        print('Get_Map')\n",
    "        grid = mapper.map()#Get the actual Map\n",
    "        Get_Pos=robot.get_position()# Get the actual robot Position\n",
    "        print('Astar Beginning')\n",
    "        verified_Obj = Path_Generator.validate_objective(Set_Objective,grid, Get_Pos)\n",
    "        \n",
    "        Stopedby_Obstacle = 0\n",
    "        theta_robot = robot.get_position()[2]\n",
    "        x_start = robot.get_position()[0] + 330*math.cos(theta_robot)\n",
    "        y_start = robot.get_position()[1] + 330*math.sin(theta_robot)\n",
    "\n",
    "        path, cost , G = Path_Generator.AStarSearch((x_start,y_start), (verified_Obj[0],verified_Obj[1]), grid) #Try to find the best path\n",
    "        checkpoint = Path_Generator.find_vertice(path)#Simplify the path to be straight line\n",
    "        checkpoint = Path_Generator.checkpoint_corrector(checkpoint)\n",
    "        #new_x,newy,theta_robot = Path_Generator.checkpoint_in_fov(robot,checkpoint)#Try to avoid backward movement unless it is too far back\n",
    "        #checkpoint = Path_Generator.checkpoint_corrector(checkpoint)#Eliminate again some short path line \n",
    "        #print(\"OLD CHECKPOINT\", checkpoint)\n",
    "        #checkpoint = np.insert(checkpoint,0,[new_x,newy]).reshape((-1,2))# Add repositionning for avoiding backward movement\n",
    "        #print(\"NEW CHECKPOINT\", checkpoint)\n",
    "        print('Astar End')\n",
    "\n",
    "        \"\"\"Concatenate Displacement Movement\"\"\"\n",
    "        Set_Coordinate=np.zeros((len(checkpoint),4))\n",
    "        Set_Coordinate[:,0]=checkpoint[:,0]\n",
    "        Set_Coordinate[:,1]=checkpoint[:,1]\n",
    "        Set_Coordinate[:,2]=500;\n",
    "        Set_Coordinate[:,3]=8000;\n",
    "        \"\"\"Calculate Optimal Timeout\"\"\"\n",
    "        tempX , tempY, _  = robot.get_position()\n",
    "        for i in range(len(Set_Coordinate)): \n",
    "            time_out_com = math.sqrt( np.float_power(Set_Coordinate[i,0]-tempX , 2) + np.float_power(Set_Coordinate[i,1]-tempY , 2) ) / Set_Coordinate[i,2]\n",
    "            Set_Coordinate[i,3] = time_out_com*1400 + 1500# 140 %(For incertenties +500 ms(For initial acceleration)\n",
    "            tempX = Set_Coordinate[i,0]\n",
    "            tempY = Set_Coordinate[i,1]\n",
    "        print(Set_Coordinate)\n",
    "        \"\"\"Beginning of the loop for each coordinate the robot has to go through\"\"\"\n",
    "\n",
    "        buf_broadcast.clear()#CLear receiving buffer\n",
    "        Offset_Timeout=1500;#Raspberry timeout for lack of communication \n",
    "        Max_Try=2;#Number of try to send that message\n",
    "        Try =0\n",
    "        j=0\n",
    "        while j <len(Set_Coordinate) and Stopedby_Obstacle ==0:\n",
    "            print(j)\n",
    "            \"\"\"Get information of one movement\"\"\"\n",
    "            X_Des=Set_Coordinate[j][0]\n",
    "            Y_Des=Set_Coordinate[j][1]\n",
    "            Max_Speed=Set_Coordinate[j][2]\n",
    "            TimeOut=Set_Coordinate[j][3]\n",
    "            \"\"\"Create messages\"\"\"\n",
    "            G0_String='G0 X' + str(X_Des)+' Y'+str(Y_Des)+' T'+str(TimeOut)+'\\r\\n'\n",
    "            M201_String='M201 H0 S' + str(Max_Speed)+'\\r\\n'\n",
    "            M3_String='M3 H3\\r\\n'\n",
    "            All_Commands=[G0_String,M201_String,M3_String]\n",
    "            Finished_Command=0\n",
    "            Saved_Time=time.time()\n",
    "            for i in range(0,len(All_Commands)):\n",
    "                buf_stm.append(All_Commands[i])#Send every messages\n",
    "            while(Finished_Command==0 and ((time.time()-Saved_Time)<(Set_Coordinate[j][3]+Offset_Timeout)/1000)) :\n",
    "                #No \"M0\" message from the STM32 and still on time according to the Raspi\n",
    "                if(buf_broadcast):\n",
    "                    received=buf_broadcast.popleft()\n",
    "                    print(received)\n",
    "                    str2=parse(\"M{} X{} Y{} A{} T{} S{}\",received)\n",
    "                    if(str2 is not None):\n",
    "                        array_argument=np.zeros(6)\n",
    "                        for i in range(0,6):\n",
    "                            array_argument[i]=float(str2[i])\n",
    "                        if (array_argument[0]==0):\n",
    "                            robot.set_position(array_argument[1],array_argument[2],array_argument[3])\n",
    "                            if array_argument[4]==0: #T0 argument Arrived or sensor\n",
    "                                Finished_Command=1#M0 has been received, do the next command\n",
    "                                print('Finished')\n",
    "                            elif array_argument[4]==1:\n",
    "                                Finished_Command=1\n",
    "                                print('Timeout')\n",
    "                            elif array_argument[4]==2:\n",
    "                                Finished_Command=1\n",
    "                                Stopedby_Obstacle=1\n",
    "                                print('Obstacle')\n",
    "                            feedback_sensors = int(array_argument[5])# feedback sensor MLKJIHGFEDCBA \n",
    "                            mapper.new_obstacle(robot.sensor_state(feedback_sensors))\n",
    "                        else:\n",
    "                            print('Not M0 Frame',array_argument[0])\n",
    "                    else:#Not an M0 frame \n",
    "                        pass\n",
    "            if(Finished_Command==0 and Try<Max_Try):\n",
    "                print('Lack of answer from STM32, Try Number '+str(Try+1))\n",
    "                Try=Try+1\n",
    "            else:\n",
    "                j=j+1\n",
    "                Try =0\n",
    "            \"\"\"End of try for one coordinate\"\"\"\n",
    "\n",
    "        print('End of total movement')\n",
    "        print('Requesting Bottle coordinate')\n",
    "        #list_bottle_coordinate = Tcp_Ip.check_data_received(conn, BUFFER_SIZE)\n",
    "        #print(\"New bottle coordinate: \",list_bottle_coordinate)\n",
    "        #if list_bottle_coordinate != None:\n",
    "        #    mapper.new_bottle(list_bottle_coordinate)\n",
    "            \n",
    "            \n",
    "    return path, G , checkpoint"
   ]
  },
  {
   "cell_type": "code",
   "execution_count": 3,
   "metadata": {},
   "outputs": [
    {
     "name": "stdout",
     "output_type": "stream",
     "text": [
      "Position Set\n",
      "Robot objet Set\n"
     ]
    }
   ],
   "source": [
    "buf_stm.append(\"G92 X250 Y250 A0\\r\\n\") \n",
    "print('Position Set')\n",
    "robot = Robot.robot(250,250,0)\n",
    "\n",
    "print('Robot objet Set')\n",
    "mapper = Map_Generator.Mapping()"
   ]
  },
  {
   "cell_type": "code",
   "execution_count": 4,
   "metadata": {
    "scrolled": true
   },
   "outputs": [
    {
     "name": "stdout",
     "output_type": "stream",
     "text": [
      "Map objet Set\n",
      "Main_Loop\n",
      "Get_Map\n",
      "Astar Beginning\n",
      "Astar End\n",
      "[[2000.  250.  500. 6400.]]\n",
      "0\n",
      "OK: X=2000.00 YOK: X=2000.00 Y=250.00 A=0.00\n",
      "\n",
      "Lack of answer from STM32, Try Number 1\n",
      "0\n",
      "Lack of answer from STM32, Try Number 2\n",
      "0\n",
      "OK: D_Profil S=500 A=5OK: D_Profil S=500 A=50 B=100 \n",
      "\n",
      "OK: M3 H3 S15\n",
      "\n",
      "M0 X837.35 Y269.24 A1.45 T2 S6144\n",
      "\n",
      "Obstacle\n",
      "{'m': 1, 'f': 0, 'd': 0, 'l': 1, 'a': 0, 'k': 0, 'j': 0, 'c': 0, 'e': 0, 'g': 0, 'b': 0, 'i': 0, 'h': 0}\n",
      "End of total movement\n",
      "Requesting Bottle coordinate\n",
      "Get_Map\n",
      "Astar Beginning\n",
      "Astar End\n",
      "[[1670.           20.          500.         3927.13328847]\n",
      " [1900.          250.          500.         2410.75353417]\n",
      " [2000.          250.          500.         1780.        ]]\n",
      "0\n",
      "OK: X=1670.0OK: X=1670.00 Y=20.00 A=0.00\n",
      "\n",
      "OK: D_Profil S=500 A=50 B=100 \n",
      "\n",
      "OK: M3 H3 S15\n",
      "\n",
      "M0 X838.98 Y269.12 A-12.29 T2 S5120\n",
      "\n",
      "Obstacle\n",
      "{'m': 1, 'f': 0, 'd': 0, 'l': 0, 'a': 0, 'k': 1, 'j': 0, 'c': 0, 'e': 0, 'g': 0, 'b': 0, 'i': 0, 'h': 0}\n",
      "End of total movement\n",
      "Requesting Bottle coordinate\n",
      "Get_Map\n",
      "Astar Beginning\n",
      "Astar End\n",
      "[[1050.          280.          500.         2088.66628917]\n",
      " [1050.          770.          500.         2872.        ]\n",
      " [1550.          780.          500.         2900.27997201]\n",
      " [2000.          250.          500.         3446.75524913]]\n",
      "0\n",
      "OK: X=1050.00 Y=280.00 A=0.00\n",
      "\n",
      "OK: D_Profil S=500 A=50 B=100 \n",
      "\n",
      "OK: M3 H3 S15\n",
      "\n",
      "M0 X840.02 Y269.02 A-2.91 T1 S6144\n",
      "\n",
      "Timeout\n",
      "{'m': 1, 'f': 0, 'd': 0, 'l': 1, 'a': 0, 'k': 0, 'j': 0, 'c': 0, 'e': 0, 'g': 0, 'b': 0, 'i': 0, 'h': 0}\n",
      "1\n",
      "OK: X=1050.00 Y=770.00 A=0.00\n",
      "\n",
      "OK: D_Profil S=500 A=50 B=100 \n",
      "\n",
      "OK: M3 H3 S15\n",
      "\n",
      "M0 X1028.94 Y683.70 A75.54 T1 S0\n",
      "\n",
      "Timeout\n",
      "{'m': 0, 'f': 0, 'd': 0, 'l': 0, 'a': 0, 'k': 0, 'j': 0, 'c': 0, 'e': 0, 'g': 0, 'b': 0, 'i': 0, 'h': 0}\n",
      "2\n",
      "OK: X=1550.00 Y=780.00 A=0.00\n",
      "\n",
      "OK: D_Profil S=500 A=50 B=100 \n",
      "\n",
      "OK: M3 H3 S15\n",
      "\n",
      "M0 X1477.45 Y796.25 A-13.21 T1 S0\n",
      "\n",
      "Timeout\n",
      "{'m': 0, 'f': 0, 'd': 0, 'l': 0, 'a': 0, 'k': 0, 'j': 0, 'c': 0, 'e': 0, 'g': 0, 'b': 0, 'i': 0, 'h': 0}\n",
      "3\n",
      "OK:OK: X=2000.00 Y=250.00 A=0.00\n",
      "\n",
      "OK: D_Profil S=500 A=50 B=100 \n",
      "\n",
      "OK: M3 H3 S15\n",
      "\n",
      "M0 X1967.87 Y304.32 A-59.29 T1 S0\n",
      "\n",
      "Timeout\n",
      "{'m': 0, 'f': 0, 'd': 0, 'l': 0, 'a': 0, 'k': 0, 'j': 0, 'c': 0, 'e': 0, 'g': 0, 'b': 0, 'i': 0, 'h': 0}\n",
      "End of total movement\n",
      "Requesting Bottle coordinate\n",
      "Get_Map\n",
      "Astar Beginning\n",
      "Astar End\n",
      "[[1690.          250.          500.         2296.40190859]\n",
      " [1590.          530.          500.         2332.49984985]\n",
      " [1560.          770.          500.         2177.22965086]\n",
      " [1060.          780.          500.         2900.27997201]\n",
      " [ 530.          250.          500.         3598.69292656]\n",
      " [ 250.          250.          500.         2284.        ]]\n",
      "0\n",
      "OK: X=1690.00 Y=250.00 A=0.00\n",
      "\n",
      "OK: D_Profil S=500 A=50 B=100 \n",
      "\n",
      "OK: M3 H3 S15\n",
      "\n",
      "M0 X1829.92 Y217.99 A-189.31 T1 S4096\n",
      "\n",
      "Timeout\n",
      "{'m': 1, 'f': 0, 'd': 0, 'l': 0, 'a': 0, 'k': 0, 'j': 0, 'c': 0, 'e': 0, 'g': 0, 'b': 0, 'i': 0, 'h': 0}\n",
      "1\n",
      "OK: X=1OK: X=1590.00 Y=530.00 A=0.0OK: X=1590.00 Y=530.00 A=0.00\n",
      "\n",
      "OK: D_Profil S=500 A=50 B=100 \n",
      "\n",
      "OK: M3 H3 S15\n",
      "\n",
      "M0 X1637.60 Y456.29 A-239.30 T1 S0\n",
      "\n",
      "Timeout\n",
      "{'m': 0, 'f': 0, 'd': 0, 'l': 0, 'a': 0, 'k': 0, 'j': 0, 'c': 0, 'e': 0, 'g': 0, 'b': 0, 'i': 0, 'h': 0}\n",
      "2\n",
      "OK: X=1560.00 Y=770.00 A=0.00\n",
      "\n",
      "OK: D_Profil S=500 A=50 B=100 \n",
      "\n",
      "OK: M3 H3 S15\n",
      "\n",
      "M0 X1569.51 Y704.87 A-262.30 T1 S0\n",
      "\n",
      "Timeout\n",
      "{'m': 0, 'f': 0, 'd': 0, 'l': 0, 'a': 0, 'k': 0, 'j': 0, 'c': 0, 'e': 0, 'g': 0, 'b': 0, 'i': 0, 'h': 0}\n",
      "3\n",
      "OK: X=1060.00 Y=780.00 A=0.00\n",
      "\n",
      "OK: D_Profil S=500 A=50 B=100 \n",
      "\n",
      "OK: M3 H3 S15\n",
      "\n",
      "M0 X1138.02 Y812.31 A-157.55 T1 S0\n",
      "\n",
      "Timeout\n",
      "{'m': 0, 'f': 0, 'd': 0, 'l': 0, 'a': 0, 'k': 0, 'j': 0, 'c': 0, 'e': 0, 'g': 0, 'b': 0, 'i': 0, 'h': 0}\n",
      "4\n",
      "OK: X=530.00 Y=250.00 A=0.00\n",
      "\n",
      "OK: D_Profil S=500 A=50 B=100 \n",
      "\n",
      "OK: M3 H3 S15\n",
      "\n",
      "M0 X561.73 Y297.49 A-123.75 T1 S0\n",
      "\n",
      "Timeout\n",
      "{'m': 0, 'f': 0, 'd': 0, 'l': 0, 'a': 0, 'k': 0, 'j': 0, 'c': 0, 'e': 0, 'g': 0, 'b': 0, 'i': 0, 'h': 0}\n",
      "5\n",
      "OK: X=250.00 Y=250.00 A=0.00\n",
      "\n",
      "OK: D_Profil S=500 A=50 B=100 \n",
      "\n",
      "OK: M3 H3 S15\n",
      "\n",
      "M0 X312.89 Y237.76 A-191.79 T1 S0\n",
      "\n",
      "Timeout\n",
      "{'m': 0, 'f': 0, 'd': 0, 'l': 0, 'a': 0, 'k': 0, 'j': 0, 'c': 0, 'e': 0, 'g': 0, 'b': 0, 'i': 0, 'h': 0}\n",
      "End of total movement\n",
      "Requesting Bottle coordinate\n"
     ]
    },
    {
     "data": {
      "image/png": "[encoded data removed]",
      "text/plain": [
       "<matplotlib.figure.Figure at 0x66d5b390>"
      ]
     },
     "metadata": {
      "needs_background": "light"
     },
     "output_type": "display_data"
    }
   ],
   "source": [
    "\n",
    "\n",
    "print('Map objet Set')\n",
    "Set_Objective=[[2000,250],[250,250]]\n",
    "print('Main_Loop')\n",
    "for e in Set_Objective:\n",
    "    path_,G_ ,checkpoint_ =Main_Loop(e,robot,mapper)\n",
    "mapper.display(G_,path_,robot,checkpoint_);\n"
   ]
  },
  {
   "cell_type": "code",
   "execution_count": 9,
   "metadata": {
    "scrolled": false
   },
   "outputs": [
    {
     "ename": "ValueError",
     "evalue": "The truth value of an array with more than one element is ambiguous. Use a.any() or a.all()",
     "output_type": "error",
     "traceback": [
      "\u001b[0;31m---------------------------------------------------------------------------\u001b[0m",
      "\u001b[0;31mValueError\u001b[0m                                Traceback (most recent call last)",
      "\u001b[0;32m<ipython-input-9-a5ea50c9e746>\u001b[0m in \u001b[0;36m<module>\u001b[0;34m\u001b[0m\n\u001b[1;32m      7\u001b[0m \u001b[0;32mimport\u001b[0m \u001b[0mmath\u001b[0m\u001b[0;34m\u001b[0m\u001b[0m\n\u001b[1;32m      8\u001b[0m \u001b[0mget_ipython\u001b[0m\u001b[0;34m(\u001b[0m\u001b[0;34m)\u001b[0m\u001b[0;34m.\u001b[0m\u001b[0mrun_line_magic\u001b[0m\u001b[0;34m(\u001b[0m\u001b[0;34m'matplotlib'\u001b[0m\u001b[0;34m,\u001b[0m \u001b[0;34m'inline'\u001b[0m\u001b[0;34m)\u001b[0m\u001b[0;34m\u001b[0m\u001b[0m\n\u001b[0;32m----> 9\u001b[0;31m \u001b[0mmapper\u001b[0m\u001b[0;34m.\u001b[0m\u001b[0mdisplay\u001b[0m\u001b[0;34m(\u001b[0m\u001b[0mG_\u001b[0m\u001b[0;34m,\u001b[0m\u001b[0mpath_\u001b[0m\u001b[0;34m,\u001b[0m\u001b[0mrobot\u001b[0m\u001b[0;34m,\u001b[0m\u001b[0mcheckpoint_\u001b[0m\u001b[0;34m)\u001b[0m\u001b[0;34m;\u001b[0m\u001b[0;34m\u001b[0m\u001b[0m\n\u001b[0m",
      "\u001b[0;32m~/STI_Robotic_Competition_Software/Architecture/Mapping.py\u001b[0m in \u001b[0;36mdisplay\u001b[0;34m(self, G, path, robot, checkpoint)\u001b[0m\n\u001b[1;32m     64\u001b[0m     \u001b[0mA\u001b[0m\u001b[0;34m[\u001b[0m\u001b[0;34m:\u001b[0m\u001b[0;34m,\u001b[0m\u001b[0;34m:\u001b[0m\u001b[0;34m,\u001b[0m\u001b[0;36m0\u001b[0m\u001b[0;34m]\u001b[0m\u001b[0;34m=\u001b[0m\u001b[0mA\u001b[0m\u001b[0;34m[\u001b[0m\u001b[0;34m:\u001b[0m\u001b[0;34m,\u001b[0m\u001b[0;34m:\u001b[0m\u001b[0;34m,\u001b[0m\u001b[0;36m0\u001b[0m\u001b[0;34m]\u001b[0m \u001b[0;34m+\u001b[0m \u001b[0mself\u001b[0m\u001b[0;34m.\u001b[0m\u001b[0mgrid_reward\u001b[0m\u001b[0;34m[\u001b[0m\u001b[0;34m:\u001b[0m\u001b[0;34m,\u001b[0m\u001b[0;34m:\u001b[0m\u001b[0;34m]\u001b[0m\u001b[0;34m\u001b[0m\u001b[0m\n\u001b[1;32m     65\u001b[0m     \u001b[0mA\u001b[0m\u001b[0;34m[\u001b[0m\u001b[0;34m:\u001b[0m\u001b[0;34m,\u001b[0m\u001b[0;34m:\u001b[0m\u001b[0;34m,\u001b[0m\u001b[0;36m1\u001b[0m\u001b[0;34m]\u001b[0m\u001b[0;34m=\u001b[0m\u001b[0mA\u001b[0m\u001b[0;34m[\u001b[0m\u001b[0;34m:\u001b[0m\u001b[0;34m,\u001b[0m\u001b[0;34m:\u001b[0m\u001b[0;34m,\u001b[0m\u001b[0;36m1\u001b[0m\u001b[0;34m]\u001b[0m \u001b[0;34m+\u001b[0m \u001b[0mself\u001b[0m\u001b[0;34m.\u001b[0m\u001b[0mgrid_reward\u001b[0m\u001b[0;34m[\u001b[0m\u001b[0;34m:\u001b[0m\u001b[0;34m,\u001b[0m\u001b[0;34m:\u001b[0m\u001b[0;34m]\u001b[0m\u001b[0;34m\u001b[0m\u001b[0m\n\u001b[0;32m---> 66\u001b[0;31m     \u001b[0;32mfor\u001b[0m \u001b[0mc\u001b[0m \u001b[0;32min\u001b[0m \u001b[0mcheckpoint\u001b[0m\u001b[0;34m:\u001b[0m\u001b[0;34m\u001b[0m\u001b[0m\n\u001b[0m\u001b[1;32m     67\u001b[0m         \u001b[0mA\u001b[0m\u001b[0;34m[\u001b[0m\u001b[0mint\u001b[0m\u001b[0;34m(\u001b[0m\u001b[0mc\u001b[0m\u001b[0;34m[\u001b[0m\u001b[0;36m1\u001b[0m\u001b[0;34m]\u001b[0m\u001b[0;34m/\u001b[0m\u001b[0;36m10\u001b[0m\u001b[0;34m)\u001b[0m\u001b[0;34m,\u001b[0m\u001b[0mint\u001b[0m\u001b[0;34m(\u001b[0m\u001b[0mc\u001b[0m\u001b[0;34m[\u001b[0m\u001b[0;36m0\u001b[0m\u001b[0;34m]\u001b[0m\u001b[0;34m/\u001b[0m\u001b[0;36m10\u001b[0m\u001b[0;34m)\u001b[0m\u001b[0;34m]\u001b[0m \u001b[0;34m=\u001b[0m \u001b[0mA\u001b[0m\u001b[0;34m[\u001b[0m\u001b[0mint\u001b[0m\u001b[0;34m(\u001b[0m\u001b[0mc\u001b[0m\u001b[0;34m[\u001b[0m\u001b[0;36m1\u001b[0m\u001b[0;34m]\u001b[0m\u001b[0;34m/\u001b[0m\u001b[0;36m10\u001b[0m\u001b[0;34m)\u001b[0m\u001b[0;34m,\u001b[0m\u001b[0mint\u001b[0m\u001b[0;34m(\u001b[0m\u001b[0mc\u001b[0m\u001b[0;34m[\u001b[0m\u001b[0;36m0\u001b[0m\u001b[0;34m]\u001b[0m\u001b[0;34m/\u001b[0m\u001b[0;36m10\u001b[0m\u001b[0;34m)\u001b[0m\u001b[0;34m]\u001b[0m \u001b[0;34m+\u001b[0m  \u001b[0;34m[\u001b[0m\u001b[0;36m255\u001b[0m\u001b[0;34m,\u001b[0m\u001b[0;36m255\u001b[0m\u001b[0;34m,\u001b[0m\u001b[0;36m255\u001b[0m\u001b[0;34m]\u001b[0m\u001b[0;34m\u001b[0m\u001b[0m\n\u001b[1;32m     68\u001b[0m     \u001b[0mA\u001b[0m\u001b[0;34m[\u001b[0m\u001b[0;34m:\u001b[0m\u001b[0;34m,\u001b[0m\u001b[0;34m:\u001b[0m\u001b[0;34m,\u001b[0m\u001b[0;36m2\u001b[0m\u001b[0;34m]\u001b[0m\u001b[0;34m=\u001b[0m \u001b[0mA\u001b[0m\u001b[0;34m[\u001b[0m\u001b[0;34m:\u001b[0m\u001b[0;34m,\u001b[0m\u001b[0;34m:\u001b[0m\u001b[0;34m,\u001b[0m\u001b[0;36m2\u001b[0m\u001b[0;34m]\u001b[0m \u001b[0;34m+\u001b[0m \u001b[0mRobot_Array\u001b[0m\u001b[0;34m\u001b[0m\u001b[0m\n",
      "\u001b[0;31mValueError\u001b[0m: The truth value of an array with more than one element is ambiguous. Use a.any() or a.all()"
     ]
    }
   ],
   "source": [
    "import robot as Robot\n",
    "import Astar as Path_Generator\n",
    "import Mapping as Map_Generator\n",
    "import numpy as np\n",
    "import matplotlib.pyplot as plt\n",
    "from parse import *\n",
    "import math\n",
    "%matplotlib inline\n",
    "mapper.display(G_,path_,robot,checkpoint_);"
   ]
  },
  {
   "cell_type": "code",
   "execution_count": null,
   "metadata": {},
   "outputs": [],
   "source": [
    "#M0 X1401.47 Y329.98 A-40.82 T1 S0\n",
    "mapper.display(G,path,robot)\n",
    "path, cost , G = Path_Generator.AStarSearch((Get_Pos[0],Get_Pos[1]), (Set_Objective[0][0],Set_Objective[0][1]), grid) #Try to find the best path\n",
    "plt.imshow(grid,origin='lower')"
   ]
  },
  {
   "cell_type": "code",
   "execution_count": 9,
   "metadata": {},
   "outputs": [],
   "source": [
    "\n",
    "buf_stm.append(\"M3 H3\\r\\n\")#Send every messages\n"
   ]
  },
  {
   "cell_type": "code",
   "execution_count": 12,
   "metadata": {},
   "outputs": [
    {
     "data": {
      "text/plain": [
       "deque(['STM32_PrimarySTM32_PrimarySTM32_PrimarySTM32_PrimarySTM32_PrimarySTM32_PrimarySTM32_PrimarySTM32_PrimaryOK: X=250.00 Y=250.00 A=0.00 \\r\\n'])"
      ]
     },
     "execution_count": 12,
     "metadata": {},
     "output_type": "execute_result"
    }
   ],
   "source": [
    "buf_broadcast"
   ]
  },
  {
   "cell_type": "code",
   "execution_count": 17,
   "metadata": {},
   "outputs": [
    {
     "name": "stderr",
     "output_type": "stream",
     "text": [
      "ERROR:root:Internal Python error in the inspect module.\n",
      "Below is the traceback from this internal error.\n",
      "\n"
     ]
    },
    {
     "name": "stdout",
     "output_type": "stream",
     "text": [
      "Traceback (most recent call last):\n",
      "  File \"/usr/local/lib/python3.5/dist-packages/IPython/core/interactiveshell.py\", line 3291, in run_code\n",
      "    exec(code_obj, self.user_global_ns, self.user_ns)\n",
      "  File \"<ipython-input-17-8ee425441f44>\", line 1, in <module>\n",
      "    mapper.display(G,path,robot);\n",
      "NameError: name 'mapper' is not defined\n",
      "\n",
      "During handling of the above exception, another exception occurred:\n",
      "\n",
      "Traceback (most recent call last):\n",
      "  File \"/usr/local/lib/python3.5/dist-packages/IPython/core/interactiveshell.py\", line 2033, in showtraceback\n",
      "    stb = value._render_traceback_()\n",
      "AttributeError: 'NameError' object has no attribute '_render_traceback_'\n",
      "\n",
      "During handling of the above exception, another exception occurred:\n",
      "\n",
      "Traceback (most recent call last):\n",
      "  File \"/usr/local/lib/python3.5/dist-packages/IPython/core/ultratb.py\", line 1095, in get_records\n",
      "    return _fixed_getinnerframes(etb, number_of_lines_of_context, tb_offset)\n",
      "  File \"/usr/local/lib/python3.5/dist-packages/IPython/core/ultratb.py\", line 313, in wrapped\n",
      "    return f(*args, **kwargs)\n",
      "  File \"/usr/local/lib/python3.5/dist-packages/IPython/core/ultratb.py\", line 347, in _fixed_getinnerframes\n",
      "    records = fix_frame_records_filenames(inspect.getinnerframes(etb, context))\n",
      "  File \"/usr/lib/python3.5/inspect.py\", line 1454, in getinnerframes\n",
      "    frameinfo = (tb.tb_frame,) + getframeinfo(tb, context)\n",
      "  File \"/usr/lib/python3.5/inspect.py\", line 1411, in getframeinfo\n",
      "    filename = getsourcefile(frame) or getfile(frame)\n",
      "  File \"/usr/lib/python3.5/inspect.py\", line 671, in getsourcefile\n",
      "    if getattr(getmodule(object, filename), '__loader__', None) is not None:\n",
      "  File \"/usr/lib/python3.5/inspect.py\", line 717, in getmodule\n",
      "    os.path.realpath(f)] = module.__name__\n",
      "  File \"/usr/lib/python3.5/posixpath.py\", line 373, in realpath\n",
      "    path, ok = _joinrealpath(filename[:0], filename, {})\n",
      "  File \"/usr/lib/python3.5/posixpath.py\", line 407, in _joinrealpath\n",
      "    if not islink(newpath):\n",
      "  File \"/usr/lib/python3.5/posixpath.py\", line 161, in islink\n",
      "    st = os.lstat(path)\n",
      "KeyboardInterrupt\n"
     ]
    },
    {
     "ename": "NameError",
     "evalue": "name 'mapper' is not defined",
     "output_type": "error",
     "traceback": [
      "\u001b[0;31m---------------------------------------------------------------------------\u001b[0m"
     ]
    }
   ],
   "source": [
    "mapper.display(G,path,robot);"
   ]
  },
  {
   "cell_type": "code",
   "execution_count": null,
   "metadata": {},
   "outputs": [],
   "source": [
    "Map_Rewards is a map of rewards(aka bottle or special zone according to the time of the game)\n",
    "Map_terrain is a map of obstacle and wall \n",
    "\n",
    "while(running)\n",
    "    if(Robot_has_reached_final_position)\n",
    "        Get_Interresting_Position_To_Go();\n",
    "    Set_Of_Coordinate=Calculate_Path(Actual_Pos,Position_To_Go,Map_terrain)\n",
    "    for i in Set_Of_Coordinate\n",
    "    #From here \n",
    "        Send set_of_Coordinate[i]\n",
    "        Wait_for_answer\n",
    "        Get_Position of the robot and state\n",
    "        Actual_Pos=Correlation(Beacon,Robot_Pos)\n",
    "        if State==Blocked\n",
    "            Add_To_Map(Actual_Pos,Sensor_Trigged)\n",
    "            break for loop\n",
    "        else if State== Finished_Action\n",
    "            continue\n",
    "    #to here the robot can move\n",
    "    Bottle_detection_behavior(Actual_Pos,Map_Rewards)"
   ]
  },
  {
   "cell_type": "code",
   "execution_count": 4,
   "metadata": {},
   "outputs": [
    {
     "name": "stdout",
     "output_type": "stream",
     "text": [
      "(-1800.0, 600.0, -1.5172760583355815)\n",
      "{'i': 0, 'h': 0, 'f': 0, 'j': 0, 'b': 0, 'e': 0, 'a': 0, 'c': 0, 'k': 0, 'd': 0, 'l': 0, 'm': 1, 'g': 0}\n",
      "object [3000, 1500]\n",
      "grid_value 0\n"
     ]
    },
    {
     "data": {
      "image/png": "[encoded data removed]",
      "text/plain": [
       "<matplotlib.figure.Figure at 0x6251fa50>"
      ]
     },
     "metadata": {
      "needs_background": "light"
     },
     "output_type": "display_data"
    }
   ],
   "source": [
    "import robot as Robot\n",
    "import Astar as Path_Generator\n",
    "import Mapping as Map_Generator\n",
    "import numpy as np\n",
    "import matplotlib.pyplot as plt\n",
    "from parse import *\n",
    "import math\n",
    "%matplotlib inline\n",
    "robot = Robot.robot(1500,1500,0)\n",
    "\n",
    "print(robot.get_beacon_position())\n",
    "#print(robot.sensor_state(2048+16))\n",
    "mapper = Map_Generator.Mapping()\n",
    "grid_updated=mapper.map()\n",
    "\n",
    "#XY = robot.sensor_state(1+2+4096)\n",
    "mapper.new_obstacle(robot.sensor_state(4096  ))\n",
    "\n",
    "#mapper.new_obstacle([[300,160]])\n",
    "grid_updated=mapper.map()\n",
    "objective = [3000,1500]\n",
    "#list_bottle_coordinate = Tcp_Ip.check_data_received(conn, BUFFER_SIZE)\n",
    "#if list_bottle_coordinate != None:\n",
    "#    mapper.new_bottle(list_bottle_coordinate)\n",
    "\n",
    "print(\"object\",objective)\n",
    "print(\"grid_value\",grid_updated[round(objective[1]/10),round(objective[0]/10)])\n",
    "valid_objective = Path_Generator.validate_objective(objective,grid_updated, robot.get_position())\n",
    "theta_robot = robot.get_position()[2]\n",
    "x_start = robot.get_position()[0] + 330*math.cos(theta_robot)\n",
    "y_start = robot.get_position()[1] + 330*math.sin(theta_robot)\n",
    "\n",
    "path, cost , G = Path_Generator.AStarSearch((x_start,y_start), (valid_objective[0],valid_objective[1]), grid_updated)#Try to find the best path\n",
    "checkpoint = Path_Generator.find_vertice(path)#Simplify the path to be straight line\n",
    "#checkpoint = Path_Generator.checkpoint_corrector(checkpoint)\n",
    "new_x,newy,theta_robot = Path_Generator.checkpoint_in_fov(robot,checkpoint)\n",
    "mapper.display(G,path,robot,checkpoint)\n"
   ]
  },
  {
   "cell_type": "code",
   "execution_count": 3,
   "metadata": {},
   "outputs": [
    {
     "data": {
      "text/plain": [
       "array([[1450, 1670],\n",
       "       [1480, 1780],\n",
       "       [1640, 1940],\n",
       "       [2220, 1930],\n",
       "       [2650, 1540],\n",
       "       [3000, 1500]])"
      ]
     },
     "execution_count": 3,
     "metadata": {},
     "output_type": "execute_result"
    }
   ],
   "source": [
    "checkpoint"
   ]
  },
  {
   "cell_type": "code",
   "execution_count": 2,
   "metadata": {},
   "outputs": [
    {
     "data": {
      "text/plain": [
       "array([[1830, 1510],\n",
       "       [1830, 1740],\n",
       "       [2330, 1750],\n",
       "       [2580, 1500],\n",
       "       [3000, 1500]])"
      ]
     },
     "execution_count": 2,
     "metadata": {},
     "output_type": "execute_result"
    }
   ],
   "source": [
    "checkpoint"
   ]
  },
  {
   "cell_type": "code",
   "execution_count": 6,
   "metadata": {},
   "outputs": [
    {
     "name": "stdout",
     "output_type": "stream",
     "text": [
      "167 145.0\n",
      "178 148.0\n",
      "194 164.0\n",
      "193 222.0\n",
      "154 265.0\n",
      "150 300.0\n"
     ]
    }
   ],
   "source": [
    "for c in checkpoint:\n",
    "    print(int(c[1]/10),round(c[0]/10))"
   ]
  },
  {
   "cell_type": "code",
   "execution_count": 7,
   "metadata": {},
   "outputs": [],
   "source": [
    "%load_ext autoreload\n"
   ]
  },
  {
   "cell_type": "code",
   "execution_count": 10,
   "metadata": {},
   "outputs": [],
   "source": [
    "%autoreload 2"
   ]
  },
  {
   "cell_type": "code",
   "execution_count": null,
   "metadata": {},
   "outputs": [],
   "source": []
  }
 ],
 "metadata": {
  "kernelspec": {
   "display_name": "Python 3",
   "language": "python",
   "name": "python3"
  },
  "language_info": {
   "codemirror_mode": {
    "name": "ipython",
    "version": 3
   },
   "file_extension": ".py",
   "mimetype": "text/x-python",
   "name": "python",
   "nbconvert_exporter": "python",
   "pygments_lexer": "ipython3",
   "version": "3.5.3"
  }
 },
 "nbformat": 4,
 "nbformat_minor": 2
}
