{
 "cells": [
  {
   "cell_type": "code",
   "execution_count": 1,
   "metadata": {
    "scrolled": true
   },
   "outputs": [],
   "source": [
    "\n",
    "##Server\n",
    "import  time, sys , serial\n",
    "import threading\n",
    "import pprint\n",
    "import time\n",
    "from Serial_ import *\n",
    "SERIAL_PORT_ROBOT = '/dev/ttyACM0'\n",
    "SERIAL_PORT_COllECTOR = '/dev/ttyACM1'\n",
    "SERIAL_RATE = 115200\n",
    "import threading\n",
    "from collections import deque\n",
    "import TCP_IP as Tcp_Ip\n",
    "clientCount = 0\n",
    "\n",
    "\n",
    "buf_broadcast = deque([]) # Queue of message for broadcasting via TCP IP\n",
    "buf_stm = deque([])\n",
    "\n",
    "buf_stm\n",
    "\n",
    "if __name__ == '__main__':\n",
    "    BUFFER_SIZE = 1024\n",
    "    #ser = serial.Serial(SERIAL_PORT_ROBOT, SERIAL_RATE) # Connection to STM32 ROBOT\n",
    "    #s = server() #create new server listening for connections\n",
    "    #serial_T = serialTread(ser)\n",
    "    #threading.Thread(target=s.startServer,args=(buf_broadcast,buf_stm,clientCount)).start()#create server thread\n",
    "    #threading.Thread(target=serial_T.run, args=(buf_broadcast,buf_stm)).start()#create serial thread for robot control\n",
    "    conn, addr = Tcp_Ip.enable_tcp_com(BUFFER_SIZE)\n",
    "    time.sleep(1)\n",
    "\n",
    "#Changer les action_In et action_Out en queue de dictionaire"
   ]
  },
  {
   "cell_type": "code",
   "execution_count": 2,
   "metadata": {
    "scrolled": false
   },
   "outputs": [],
   "source": [
    "import numpy as np\n",
    "import math\n",
    "import robot as Robot\n",
    "import Astar as Path_Generator\n",
    "import Mapping as Map_Generator\n",
    "\n",
    "import matplotlib.pyplot as plt\n",
    "from parse import *\n",
    "%matplotlib inline\n",
    "def Main_Loop(Set_Objective,robot,mapper):\n",
    "    path=None\n",
    "    G=None\n",
    "    while(not(robot.Has_reached_final_position(Set_Objective))):\n",
    "        print(Tcp_Ip.check_data_received(conn, BUFFER_SIZE))\n",
    "        obstacleFront = 0\n",
    "        print('Get_Map')\n",
    "        grid = mapper.map()#Get the actual Map\n",
    "        Get_Pos=robot.get_position()# Get the actual robot Position\n",
    "        print('Astar Beginning')\n",
    "        verified_Obj = Path_Generator.validate_objective(Set_Objective,grid, Get_Pos)\n",
    "        path, cost , G = Path_Generator.AStarSearch((Get_Pos[0],Get_Pos[1]), (verified_Obj[0],verified_Obj[1]), grid) #Try to find the best path\n",
    "        checkpoint = Path_Generator.find_vertice(path)#Simplify the path to be straight line\n",
    "        #new_x,newy,theta_robot = Path_Generator.checkpoint_in_fov(robot,checkpoint)#Try to avoid backward movement unless it is too far back\n",
    "        #checkpoint = Path_Generator.checkpoint_corrector(checkpoint)#Eliminate again some short path line \n",
    "        #print(\"OLD CHECKPOINT\", checkpoint)\n",
    "        #checkpoint = np.insert(checkpoint,0,[new_x,newy]).reshape((-1,2))# Add repositionning for avoiding backward movement\n",
    "        #print(\"NEW CHECKPOINT\", checkpoint)\n",
    "        print('Astar End')\n",
    "\n",
    "        \"\"\"Concatenate Displacement Movement\"\"\"\n",
    "        Set_Coordinate=np.zeros((len(checkpoint),4))\n",
    "        Set_Coordinate[:,0]=checkpoint[:,0]\n",
    "        Set_Coordinate[:,1]=checkpoint[:,1]\n",
    "        Set_Coordinate[:,2]=500;\n",
    "        Set_Coordinate[:,3]=8000;\n",
    "        \"\"\"Calculate Optimal Timeout\"\"\"\n",
    "        tempX , tempY, _  = robot.get_position()\n",
    "        for i in range(len(Set_Coordinate)): \n",
    "            time_out_com = math.sqrt( np.float_power(Set_Coordinate[i,0]-tempX , 2) + np.float_power(Set_Coordinate[i,1]-tempY , 2) ) / Set_Coordinate[i,2]\n",
    "            Set_Coordinate[i,3] = time_out_com*1400 + 1500# 140 %(For incertenties +500 ms(For initial acceleration)\n",
    "            tempX = Set_Coordinate[i,0]\n",
    "            tempY = Set_Coordinate[i,1]\n",
    "        print(Set_Coordinate)\n",
    "        \"\"\"Beginning of the loop for each coordinate the robot has to go through\"\"\"\n",
    "\n",
    "        buf_broadcast.clear()#CLear receiving buffer\n",
    "        Offset_Timeout=1500;#Raspberry timeout for lack of communication \n",
    "        Max_Try=2;#Number of try to send that message\n",
    "        Try =0\n",
    "        j=0\n",
    "        while j <len(Set_Coordinate):\n",
    "            print(j)\n",
    "            \"\"\"Get information of one movement\"\"\"\n",
    "            X_Des=Set_Coordinate[j][0]\n",
    "            Y_Des=Set_Coordinate[j][1]\n",
    "            Max_Speed=Set_Coordinate[j][2]\n",
    "            TimeOut=Set_Coordinate[j][3]\n",
    "            \"\"\"Create messages\"\"\"\n",
    "            G0_String='G0 X' + str(X_Des)+' Y'+str(Y_Des)+' T'+str(TimeOut)+'\\r\\n'\n",
    "            M201_String='M201 H0 S' + str(Max_Speed)+'\\r\\n'\n",
    "            M3_String='M3 H3\\r\\n'\n",
    "            All_Commands=[G0_String,M201_String,M3_String]\n",
    "            Finished=0\n",
    "            Saved_Time=time.time()\n",
    "            for i in range(0,len(All_Commands)):\n",
    "                buf_stm.append(All_Commands[i])#Send every messages\n",
    "            while(Finished==0 and ((time.time()-Saved_Time)<(Set_Coordinate[j][3]+Offset_Timeout)/1000)) :\n",
    "                #No \"M0\" message from the STM32 and still on time according to the Raspi\n",
    "                if(buf_broadcast):\n",
    "                    received=buf_broadcast.popleft()\n",
    "                    print(received)\n",
    "                    str2=parse(\"M{} X{} Y{} A{} T{} S{}\",received)\n",
    "                    if(str2 is not None):\n",
    "                        array_argument=np.zeros(6)\n",
    "                        for i in range(0,6):\n",
    "                            array_argument[i]=float(str2[i])\n",
    "                        if (array_argument[0]==0):\n",
    "                            robot.set_position(array_argument[1],array_argument[2],array_argument[3])\n",
    "                            if array_argument[4]==0: #T0 argument Arrived or sensor\n",
    "                                Finished=1#M0 has been received, do the next command\n",
    "                                print('Finished')\n",
    "                            else:\n",
    "                                Finished=1\n",
    "                                print('Timeout')\n",
    "                            feedback_sensors = int(array_argument[5])# feedback sensor MLKJIHGFEDCBA \n",
    "                            mapper.new_obstacle(robot.sensor_state(feedback_sensors))\n",
    "                        else:\n",
    "                            print('Not M0 Frame',array_argument[0])\n",
    "                    else:#Not an M0 frame \n",
    "                        pass\n",
    "            if(Finished==0 and Try<Max_Try):\n",
    "                print('Lack of answer from STM32, Try Number '+str(Try+1))\n",
    "                Try=Try+1\n",
    "            else:\n",
    "                j=j+1\n",
    "                Try =0\n",
    "            \"\"\"End of try for one coordinate\"\"\"\n",
    "\n",
    "        print('End of total movement')\n",
    "        print('Requesting Bottle coordinate')\n",
    "        list_bottle_coordinate = Tcp_Ip.check_data_received(conn, BUFFER_SIZE)\n",
    "        print(\"New bottle coordinate: \",list_bottle_coordinate)\n",
    "        if list_bottle_coordinate != None:\n",
    "            mapper.new_bottle(list_bottle_coordinate)\n",
    "            \n",
    "            \n",
    "    return path, G"
   ]
  },
  {
   "cell_type": "code",
   "execution_count": 3,
   "metadata": {},
   "outputs": [
    {
     "name": "stdout",
     "output_type": "stream",
     "text": [
      "Position Set\n",
      "Robot objet Set\n"
     ]
    }
   ],
   "source": [
    "buf_stm.append(\"G92 X0 Y0 A0\\r\\n\") \n",
    "print('Position Set')\n",
    "robot = Robot.robot(0,0,0)\n",
    "\n",
    "print('Robot objet Set')\n",
    "mapper = Map_Generator.Mapping()"
   ]
  },
  {
   "cell_type": "code",
   "execution_count": null,
   "metadata": {
    "scrolled": true
   },
   "outputs": [
    {
     "name": "stdout",
     "output_type": "stream",
     "text": [
      "Map objet Set\n",
      "Main_Loop\n",
      "Get_Map\n",
      "Astar Beginning\n",
      "Astar End\n",
      "[[ 110.            0.          500.         1618.79393924]\n",
      " [1250.            0.          500.         4692.        ]]\n",
      "0\n",
      "STM32_PrimarySTM32_PrimarySTM32_PrimaryOK: X=110.00 Y=0.00 A=0.00 T=1618.79 B=0\n",
      "\n",
      "OK: D_Profil S=500 A=50 B=100 \n",
      "\n",
      "OK: M3 H3 S15\n",
      "\n",
      "M0 X36.52 Y-0.93 A-0.74 T1 S4096\n",
      "\n",
      "Timeout\n",
      "{'j': 0, 'm': 1, 'h': 0, 'e': 0, 'c': 0, 'i': 0, 'k': 0, 'l': 0, 'f': 0, 'g': 0, 'd': 0, 'a': 0, 'b': 0}\n",
      "NEW OBSATCLE\n",
      "1\n",
      "OK: X=1250.00 Y=0.00 A=0.00 T=4692.00 B=0\n",
      "\n",
      "Lack of answer from STM32, Try Number 1\n",
      "1\n",
      "Lack of answer from STM32, Try Number 2\n",
      "1\n",
      "End of total movement\n",
      "Get_Map\n",
      "Astar Beginning\n",
      "Astar End\n",
      "[[ 410.            0.          500.         2536.        ]\n",
      " [ 420.          130.          500.         1865.07533469]\n",
      " [ 720.          140.          500.         2340.46653711]\n",
      " [ 860.            0.          500.         2054.37171645]\n",
      " [1250.            0.          500.         2592.        ]]\n",
      "0\n",
      "Lack of answer from STM32, Try Number 1\n",
      "0\n",
      "Lack of answer from STM32, Try Number 2\n",
      "0\n",
      "1\n",
      "Lack of answer from STM32, Try Number 1\n",
      "1\n",
      "Lack of answer from STM32, Try Number 2\n",
      "1\n",
      "2\n",
      "Lack of answer from STM32, Try Number 1\n",
      "2\n",
      "Lack of answer from STM32, Try Number 2\n",
      "2\n",
      "3\n",
      "Lack of answer from STM32, Try Number 1\n",
      "3\n",
      "Lack of answer from STM32, Try Number 2\n",
      "3\n",
      "4\n"
     ]
    }
   ],
   "source": [
    "\n",
    "\n",
    "print('Map objet Set')\n",
    "Set_Objective=[[1250,0],[0,0]]\n",
    "print('Main_Loop')\n",
    "for e in Set_Objective:\n",
    "    path_,G_=Main_Loop(e,robot,mapper)\n",
    "mapper.display(G_,path_,robot);\n"
   ]
  },
  {
   "cell_type": "code",
   "execution_count": 1,
   "metadata": {
    "scrolled": false
   },
   "outputs": [
    {
     "ename": "NameError",
     "evalue": "name 'mapper' is not defined",
     "output_type": "error",
     "traceback": [
      "\u001b[0;31m---------------------------------------------------------------------------\u001b[0m",
      "\u001b[0;31mNameError\u001b[0m                                 Traceback (most recent call last)",
      "\u001b[0;32m<ipython-input-1-987a4f968141>\u001b[0m in \u001b[0;36m<module>\u001b[0;34m\u001b[0m\n\u001b[1;32m      1\u001b[0m \u001b[0;31m#Set_Objective=[[2000,0]]\u001b[0m\u001b[0;34m\u001b[0m\u001b[0;34m\u001b[0m\u001b[0m\n\u001b[1;32m      2\u001b[0m \u001b[0;31m#path, G=Main_Loop(Set_Objective[0],robot,mapper)\u001b[0m\u001b[0;34m\u001b[0m\u001b[0;34m\u001b[0m\u001b[0m\n\u001b[0;32m----> 3\u001b[0;31m \u001b[0mmapper\u001b[0m\u001b[0;34m.\u001b[0m\u001b[0mdisplay\u001b[0m\u001b[0;34m(\u001b[0m\u001b[0mG_\u001b[0m\u001b[0;34m,\u001b[0m\u001b[0mpath_\u001b[0m\u001b[0;34m,\u001b[0m\u001b[0mrobot\u001b[0m\u001b[0;34m)\u001b[0m\u001b[0;34m;\u001b[0m\u001b[0;34m\u001b[0m\u001b[0m\n\u001b[0m",
      "\u001b[0;31mNameError\u001b[0m: name 'mapper' is not defined"
     ]
    }
   ],
   "source": [
    "#Set_Objective=[[2000,0]]\n",
    "#path, G=Main_Loop(Set_Objective[0],robot,mapper)\n",
    "mapper.display(G_,path_,robot);"
   ]
  },
  {
   "cell_type": "code",
   "execution_count": null,
   "metadata": {},
   "outputs": [],
   "source": [
    "#M0 X1401.47 Y329.98 A-40.82 T1 S0\n",
    "mapper.display(G,path,robot)\n",
    "path, cost , G = Path_Generator.AStarSearch((Get_Pos[0],Get_Pos[1]), (Set_Objective[0][0],Set_Objective[0][1]), grid) #Try to find the best path\n",
    "plt.imshow(grid,origin='lower')"
   ]
  },
  {
   "cell_type": "code",
   "execution_count": 18,
   "metadata": {},
   "outputs": [],
   "source": [
    "\n",
    "buf_stm.append(\"M3 H3\\r\\n\")#Send every messages\n"
   ]
  },
  {
   "cell_type": "code",
   "execution_count": 19,
   "metadata": {},
   "outputs": [
    {
     "data": {
      "text/plain": [
       "deque(['STM32_PrimaryOK: X=1000.00 Y=0.00 A=0.00 T=5000.00 B=0\\r\\n',\n",
       "       'STM32_PrimaryOK: M3 H3 S15\\r\\n',\n",
       "       'M0 X0.09 Y-0.00 A-0.00 T0 S4096\\r\\n',\n",
       "       'OK: X=1000.00 Y=0.00 A=0.00 T=5000.00 B=0\\r\\n'])"
      ]
     },
     "execution_count": 19,
     "metadata": {},
     "output_type": "execute_result"
    },
    {
     "name": "stderr",
     "output_type": "stream",
     "text": [
      "Exception in thread Thread-5:\n",
      "Traceback (most recent call last):\n",
      "  File \"/home/pi/.local/lib/python3.5/site-packages/serial/serialposix.py\", line 501, in read\n",
      "    'device reports readiness to read but returned no data '\n",
      "serial.serialutil.SerialException: device reports readiness to read but returned no data (device disconnected or multiple access on port?)\n",
      "\n",
      "During handling of the above exception, another exception occurred:\n",
      "\n",
      "Traceback (most recent call last):\n",
      "  File \"/usr/lib/python3.5/threading.py\", line 914, in _bootstrap_inner\n",
      "    self.run()\n",
      "  File \"/usr/lib/python3.5/threading.py\", line 862, in run\n",
      "    self._target(*self._args, **self._kwargs)\n",
      "  File \"/home/pi/STI_Robotic_Competition_Software/Architecture/Serial_.py\", line 32, in read_from_port\n",
      "    reading = self.ser.readline().decode('utf-8')\n",
      "  File \"/home/pi/.local/lib/python3.5/site-packages/serial/serialposix.py\", line 509, in read\n",
      "    raise SerialException('read failed: {}'.format(e))\n",
      "serial.serialutil.SerialException: read failed: device reports readiness to read but returned no data (device disconnected or multiple access on port?)\n",
      "\n"
     ]
    }
   ],
   "source": [
    "buf_broadcast"
   ]
  },
  {
   "cell_type": "code",
   "execution_count": 17,
   "metadata": {},
   "outputs": [
    {
     "name": "stderr",
     "output_type": "stream",
     "text": [
      "ERROR:root:Internal Python error in the inspect module.\n",
      "Below is the traceback from this internal error.\n",
      "\n"
     ]
    },
    {
     "name": "stdout",
     "output_type": "stream",
     "text": [
      "Traceback (most recent call last):\n",
      "  File \"/usr/local/lib/python3.5/dist-packages/IPython/core/interactiveshell.py\", line 3291, in run_code\n",
      "    exec(code_obj, self.user_global_ns, self.user_ns)\n",
      "  File \"<ipython-input-17-8ee425441f44>\", line 1, in <module>\n",
      "    mapper.display(G,path,robot);\n",
      "NameError: name 'mapper' is not defined\n",
      "\n",
      "During handling of the above exception, another exception occurred:\n",
      "\n",
      "Traceback (most recent call last):\n",
      "  File \"/usr/local/lib/python3.5/dist-packages/IPython/core/interactiveshell.py\", line 2033, in showtraceback\n",
      "    stb = value._render_traceback_()\n",
      "AttributeError: 'NameError' object has no attribute '_render_traceback_'\n",
      "\n",
      "During handling of the above exception, another exception occurred:\n",
      "\n",
      "Traceback (most recent call last):\n",
      "  File \"/usr/local/lib/python3.5/dist-packages/IPython/core/ultratb.py\", line 1095, in get_records\n",
      "    return _fixed_getinnerframes(etb, number_of_lines_of_context, tb_offset)\n",
      "  File \"/usr/local/lib/python3.5/dist-packages/IPython/core/ultratb.py\", line 313, in wrapped\n",
      "    return f(*args, **kwargs)\n",
      "  File \"/usr/local/lib/python3.5/dist-packages/IPython/core/ultratb.py\", line 347, in _fixed_getinnerframes\n",
      "    records = fix_frame_records_filenames(inspect.getinnerframes(etb, context))\n",
      "  File \"/usr/lib/python3.5/inspect.py\", line 1454, in getinnerframes\n",
      "    frameinfo = (tb.tb_frame,) + getframeinfo(tb, context)\n",
      "  File \"/usr/lib/python3.5/inspect.py\", line 1411, in getframeinfo\n",
      "    filename = getsourcefile(frame) or getfile(frame)\n",
      "  File \"/usr/lib/python3.5/inspect.py\", line 671, in getsourcefile\n",
      "    if getattr(getmodule(object, filename), '__loader__', None) is not None:\n",
      "  File \"/usr/lib/python3.5/inspect.py\", line 717, in getmodule\n",
      "    os.path.realpath(f)] = module.__name__\n",
      "  File \"/usr/lib/python3.5/posixpath.py\", line 373, in realpath\n",
      "    path, ok = _joinrealpath(filename[:0], filename, {})\n",
      "  File \"/usr/lib/python3.5/posixpath.py\", line 407, in _joinrealpath\n",
      "    if not islink(newpath):\n",
      "  File \"/usr/lib/python3.5/posixpath.py\", line 161, in islink\n",
      "    st = os.lstat(path)\n",
      "KeyboardInterrupt\n"
     ]
    },
    {
     "ename": "NameError",
     "evalue": "name 'mapper' is not defined",
     "output_type": "error",
     "traceback": [
      "\u001b[0;31m---------------------------------------------------------------------------\u001b[0m"
     ]
    }
   ],
   "source": [
    "mapper.display(G,path,robot);"
   ]
  },
  {
   "cell_type": "code",
   "execution_count": null,
   "metadata": {},
   "outputs": [],
   "source": [
    "Map_Rewards is a map of rewards(aka bottle or special zone according to the time of the game)\n",
    "Map_terrain is a map of obstacle and wall \n",
    "\n",
    "while(running)\n",
    "    if(Robot_has_reached_final_position)\n",
    "        Get_Interresting_Position_To_Go();\n",
    "    Set_Of_Coordinate=Calculate_Path(Actual_Pos,Position_To_Go,Map_terrain)\n",
    "    for i in Set_Of_Coordinate\n",
    "    #From here \n",
    "        Send set_of_Coordinate[i]\n",
    "        Wait_for_answer\n",
    "        Get_Position of the robot and state\n",
    "        Actual_Pos=Correlation(Beacon,Robot_Pos)\n",
    "        if State==Blocked\n",
    "            Add_To_Map(Actual_Pos,Sensor_Trigged)\n",
    "            break for loop\n",
    "        else if State== Finished_Action\n",
    "            continue\n",
    "    #to here the robot can move\n",
    "    Bottle_detection_behavior(Actual_Pos,Map_Rewards)"
   ]
  },
  {
   "cell_type": "code",
   "execution_count": 1,
   "metadata": {},
   "outputs": [
    {
     "name": "stdout",
     "output_type": "stream",
     "text": [
      "(-1800.0, 600.0, -2.0605211354686728)\n",
      "{'l': 0, 'c': 0, 'e': 0, 'b': 0, 'm': 1, 'h': 0, 'k': 0, 'i': 0, 'd': 0, 'a': 0, 'f': 0, 'g': 0, 'j': 0}\n",
      "NEW OBSATCLE\n",
      "object [3000, 1500]\n",
      "grid_value 0\n"
     ]
    },
    {
     "data": {
      "image/png": "[encoded data removed]",
      "text/plain": [
       "<matplotlib.figure.Figure at 0x67090910>"
      ]
     },
     "metadata": {
      "needs_background": "light"
     },
     "output_type": "display_data"
    }
   ],
   "source": [
    "import robot as Robot\n",
    "import Astar as Path_Generator\n",
    "import Mapping as Map_Generator\n",
    "import numpy as np\n",
    "import matplotlib.pyplot as plt\n",
    "from parse import *\n",
    "%matplotlib inline\n",
    "robot = Robot.robot(1500,1500,0)\n",
    "\n",
    "print(robot.get_beacon_position())\n",
    "#print(robot.sensor_state(2048+16))\n",
    "mapper = Map_Generator.Mapping()\n",
    "grid_updated=mapper.map()\n",
    "\n",
    "#XY = robot.sensor_state(1+2+4096)\n",
    "mapper.new_obstacle(robot.sensor_state(4096))\n",
    "\n",
    "#mapper.new_obstacle([[300,160]])\n",
    "grid_updated=mapper.map()\n",
    "objective = [3000,1500]\n",
    "#list_bottle_coordinate = Tcp_Ip.check_data_received(conn, BUFFER_SIZE)\n",
    "#if list_bottle_coordinate != None:\n",
    "#    mapper.new_bottle(list_bottle_coordinate)\n",
    "\n",
    "print(\"object\",objective)\n",
    "print(\"grid_value\",grid_updated[round(objective[1]/10),round(objective[0]/10)])\n",
    "valid_objective = Path_Generator.validate_objective(objective,grid_updated, robot.get_position())\n",
    "path, cost , G = Path_Generator.AStarSearch((robot.get_position()[0],robot.get_position()[1]), (valid_objective[0],valid_objective[1]), grid_updated)#Try to find the best path\n",
    "checkpoint = Path_Generator.find_vertice(path)#Simplify the path to be straight line\n",
    "new_x,newy,theta_robot = Path_Generator.checkpoint_in_fov(robot,checkpoint)\n",
    "mapper.display(G,path,robot)\n"
   ]
  },
  {
   "cell_type": "code",
   "execution_count": 12,
   "metadata": {},
   "outputs": [
    {
     "data": {
      "text/plain": [
       "(1500, 1500, 3.141592653589793)"
      ]
     },
     "execution_count": 12,
     "metadata": {},
     "output_type": "execute_result"
    }
   ],
   "source": [
    "new_x,newy,theta_robot"
   ]
  },
  {
   "cell_type": "code",
   "execution_count": 2,
   "metadata": {},
   "outputs": [
    {
     "data": {
      "text/plain": [
       "(552, 33)"
      ]
     },
     "execution_count": 2,
     "metadata": {},
     "output_type": "execute_result"
    }
   ],
   "source": [
    "make_tuple(\"(552,33)\")"
   ]
  },
  {
   "cell_type": "code",
   "execution_count": 4,
   "metadata": {},
   "outputs": [],
   "source": [
    "conn.close()"
   ]
  },
  {
   "cell_type": "code",
   "execution_count": 2,
   "metadata": {},
   "outputs": [
    {
     "data": {
      "text/plain": [
       "array([[1420, 1580],\n",
       "       [1420, 1610],\n",
       "       [1430, 1640],\n",
       "       [1450, 1680],\n",
       "       [1460, 1720],\n",
       "       [1490, 1760],\n",
       "       [1510, 1790],\n",
       "       [1720, 1810],\n",
       "       [1750, 1800],\n",
       "       [1780, 1790],\n",
       "       [1810, 1780],\n",
       "       [1840, 1770],\n",
       "       [1870, 1760],\n",
       "       [1890, 1740],\n",
       "       [1920, 1720],\n",
       "       [1950, 1700],\n",
       "       [2000, 1660],\n",
       "       [2030, 1640],\n",
       "       [2060, 1620],\n",
       "       [2090, 1600],\n",
       "       [2120, 1580],\n",
       "       [2150, 1560],\n",
       "       [2180, 1540],\n",
       "       [2220, 1530],\n",
       "       [2250, 1520],\n",
       "       [2280, 1510],\n",
       "       [3000, 1500]])"
      ]
     },
     "execution_count": 2,
     "metadata": {},
     "output_type": "execute_result"
    }
   ],
   "source": [
    "checkpoint"
   ]
  },
  {
   "cell_type": "code",
   "execution_count": 4,
   "metadata": {},
   "outputs": [
    {
     "data": {
      "text/plain": [
       "array([[ 920, 2090],\n",
       "       [ 930, 2150],\n",
       "       [1080, 2310],\n",
       "       [1120, 2330],\n",
       "       [1160, 2360],\n",
       "       [1180, 2360],\n",
       "       [1200, 2380],\n",
       "       [1220, 2380],\n",
       "       [1260, 2390],\n",
       "       [1300, 2400],\n",
       "       [1370, 2420],\n",
       "       [1480, 2430],\n",
       "       [1720, 2440],\n",
       "       [1920, 2450],\n",
       "       [1990, 2440],\n",
       "       [2060, 2430],\n",
       "       [2090, 2400],\n",
       "       [2120, 2400],\n",
       "       [2160, 2370],\n",
       "       [2190, 2370],\n",
       "       [3000, 1570],\n",
       "       [3000, 1500]])"
      ]
     },
     "execution_count": 4,
     "metadata": {},
     "output_type": "execute_result"
    }
   ],
   "source": [
    "checkpoint"
   ]
  },
  {
   "cell_type": "code",
   "execution_count": null,
   "metadata": {},
   "outputs": [],
   "source": []
  }
 ],
 "metadata": {
  "kernelspec": {
   "display_name": "Python 3",
   "language": "python",
   "name": "python3"
  },
  "language_info": {
   "codemirror_mode": {
    "name": "ipython",
    "version": 3
   },
   "file_extension": ".py",
   "mimetype": "text/x-python",
   "name": "python",
   "nbconvert_exporter": "python",
   "pygments_lexer": "ipython3",
   "version": "3.5.3"
  }
 },
 "nbformat": 4,
 "nbformat_minor": 2
}
