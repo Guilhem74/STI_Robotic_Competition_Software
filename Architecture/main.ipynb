{
 "cells": [
  {
   "cell_type": "code",
   "execution_count": 1,
   "metadata": {
    "scrolled": true
   },
   "outputs": [],
   "source": [
    "\n",
    "##Server\n",
    "import socket, time, sys , serial\n",
    "import threading\n",
    "import pprint\n",
    "import time\n",
    "from TCP_server import *\n",
    "from Serial_ import *\n",
    "SERIAL_PORT_ROBOT = '/dev/ttyACM0'\n",
    "SERIAL_PORT_COllECTOR = '/dev/ttyACM1'\n",
    "SERIAL_RATE = 115200\n",
    "import threading\n",
    "from collections import deque\n",
    "\n",
    "clientCount = 0\n",
    "\n",
    "\n",
    "buf_broadcast = deque([]) # Queue of message for broadcasting via TCP IP\n",
    "buf_stm = deque([])\n",
    "\n",
    "buf_stm\n",
    "\n",
    "\n",
    "if __name__ == '__main__':\n",
    "    ser = serial.Serial(SERIAL_PORT_ROBOT, SERIAL_RATE) # Connection to STM32 ROBOT\n",
    "    #s = server() #create new server listening for connections\n",
    "    serial_T = serialTread(ser)\n",
    "    #threading.Thread(target=s.startServer,args=(buf_broadcast,buf_stm,clientCount)).start()#create server thread\n",
    "    threading.Thread(target=serial_T.run, args=(buf_broadcast,buf_stm)).start()#create serial thread for robot control\n",
    "    \n",
    "    time.sleep(1)\n",
    "\n",
    "#Changer les action_In et action_Out en queue de dictionaire"
   ]
  },
  {
   "cell_type": "code",
   "execution_count": 2,
   "metadata": {
    "scrolled": false
   },
   "outputs": [],
   "source": [
    "import numpy as np\n",
    "import math\n",
    "import robot as Robot\n",
    "import Astar as Path_Generator\n",
    "import Mapping as Map_Generator\n",
    "import matplotlib.pyplot as plt\n",
    "from parse import *\n",
    "%matplotlib inline\n",
    "def Main_Loop(Set_Objective,robot,mapper):\n",
    "    path=None\n",
    "    G=None\n",
    "    while(not(robot.Has_reached_final_position(Set_Objective))):\n",
    "        obstacleFront = 0\n",
    "        print('Get_Map')\n",
    "        grid = mapper.map()#Get the actual Map\n",
    "        Get_Pos=robot.get_position()# Get the actual robot Position\n",
    "        print('Astar Beginning')\n",
    "        verified_Obj = Path_Generator.validate_objective(Set_Objective,grid, Get_Pos)\n",
    "        path, cost , G = Path_Generator.AStarSearch((Get_Pos[0],Get_Pos[1]), (verified_Obj[0],verified_Obj[1]), grid) #Try to find the best path\n",
    "        checkpoint = Path_Generator.find_vertice(path)#Simplify the path to be straight line\n",
    "        new_x,newy,theta_robot = Path_Generator.checkpoint_in_fov(robot,checkpoint)#Try to avoid backward movement unless it is too far back\n",
    "        checkpoint = Path_Generator.checkpoint_corrector(checkpoint)#Eliminate again some short path line \n",
    "        print(\"OLD CHECKPOINT\", checkpoint)\n",
    "        checkpoint = np.insert(checkpoint,0,[new_x,newy]).reshape((-1,2))# Add repositionning for avoiding backward movement\n",
    "        print(\"NEW CHECKPOINT\", checkpoint)\n",
    "        print('Astar End')\n",
    "\n",
    "        \"\"\"Concatenate Displacement Movement\"\"\"\n",
    "        Set_Coordinate=np.zeros((len(checkpoint),4))\n",
    "        Set_Coordinate[:,0]=checkpoint[:,0]\n",
    "        Set_Coordinate[:,1]=checkpoint[:,1]\n",
    "        Set_Coordinate[:,2]=500;\n",
    "        Set_Coordinate[:,3]=8000;\n",
    "        \"\"\"Calculate Optimal Timeout\"\"\"\n",
    "        tempX , tempY, _  = robot.get_position()\n",
    "        for i in range(len(Set_Coordinate)): \n",
    "            time_out_com = math.sqrt( np.float_power(Set_Coordinate[i,0]-tempX , 2) + np.float_power(Set_Coordinate[i,1]-tempY , 2) ) / Set_Coordinate[i,2]\n",
    "            Set_Coordinate[i,3] = time_out_com*1400 + 1500# 140 %(For incertenties +500 ms(For initial acceleration)\n",
    "            tempX = Set_Coordinate[i,0]\n",
    "            tempY = Set_Coordinate[i,1]\n",
    "        print(Set_Coordinate)\n",
    "        \"\"\"Beginning of the loop for each coordinate the robot has to go through\"\"\"\n",
    "\n",
    "        buf_broadcast.clear()#CLear receiving buffer\n",
    "        Offset_Timeout=1500;#Raspberry timeout for lack of communication \n",
    "        Max_Try=2;#Number of try to send that message\n",
    "        Try =0\n",
    "        j=0\n",
    "        while j <len(Set_Coordinate):\n",
    "            print(j)\n",
    "            \"\"\"Get information of one movement\"\"\"\n",
    "            X_Des=Set_Coordinate[j][0]\n",
    "            Y_Des=Set_Coordinate[j][1]\n",
    "            Max_Speed=Set_Coordinate[j][2]\n",
    "            TimeOut=Set_Coordinate[j][3]\n",
    "            \"\"\"Create messages\"\"\"\n",
    "            G0_String='G0 X' + str(X_Des)+' Y'+str(Y_Des)+' T'+str(TimeOut)+'\\r\\n'\n",
    "            M201_String='M201 H0 S' + str(Max_Speed)+'\\r\\n'\n",
    "            M3_String='M3 H3\\r\\n'\n",
    "            All_Commands=[G0_String,M201_String,M3_String]\n",
    "            Finished=0\n",
    "            Saved_Time=time.time()\n",
    "            for i in range(0,len(All_Commands)):\n",
    "                buf_stm.append(All_Commands[i])#Send every messages\n",
    "            while(Finished==0 and ((time.time()-Saved_Time)<(Set_Coordinate[j][3]+Offset_Timeout)/1000)) :\n",
    "                #No \"M0\" message from the STM32 and still on time according to the Raspi\n",
    "                if(buf_broadcast):\n",
    "                    received=buf_broadcast.popleft()\n",
    "                    print(received)\n",
    "                    str2=parse(\"M{} X{} Y{} A{} T{} S{}\",received)\n",
    "                    if(str2 is not None):\n",
    "                        array_argument=np.zeros(6)\n",
    "                        for i in range(0,6):\n",
    "                            array_argument[i]=float(str2[i])\n",
    "                        if (array_argument[0]==0):\n",
    "                            robot.set_position(array_argument[1],array_argument[2],array_argument[3])\n",
    "                            if array_argument[4]==0: #T0 argument Arrived or sensor\n",
    "                                Finished=1#M0 has been received, do the next command\n",
    "                                print('Finished')\n",
    "                            else:\n",
    "                                Finished=1\n",
    "                                print('Timeout')\n",
    "                            feedback_sensors = int(array_argument[5])# feedback sensor MLKJIHGFEDCBA    \n",
    "                            mapper.new_obstacle(robot.sensor_state(feedback_sensors))\n",
    "                        else:\n",
    "                            print('Not M0 Frame',array_argument[0])\n",
    "                    else:#Not an M0 frame \n",
    "                        pass\n",
    "            if(Finished==0 and Try<Max_Try):\n",
    "                print('Lack of answer from STM32, Try Number '+str(Try+1))\n",
    "                Try=Try+1\n",
    "            else:\n",
    "                j=j+1\n",
    "                Try =0\n",
    "            \"\"\"End of try for one coordinate\"\"\"\n",
    "\n",
    "        print('End of total movement')    \n",
    "    return path, G"
   ]
  },
  {
   "cell_type": "code",
   "execution_count": 4,
   "metadata": {},
   "outputs": [
    {
     "name": "stdout",
     "output_type": "stream",
     "text": [
      "Position Set\n",
      "Robot objet Set\n"
     ]
    }
   ],
   "source": [
    "#buf_stm.append(\"G92 X250 Y250 A0\\r\\n\") M15 S8 abcd  4 2 ou 1 gauche ghj droite eif  front klm \n",
    "print('Position Set')\n",
    "robot = Robot.robot(250,250,0)\n",
    "\n",
    "print('Robot objet Set')\n",
    "mapper = Map_Generator.Mapping()"
   ]
  },
  {
   "cell_type": "code",
   "execution_count": null,
   "metadata": {
    "scrolled": false
   },
   "outputs": [],
   "source": [
    "\n",
    "\n",
    "print('Map objet Set')\n",
    "Set_Objective=[[1000,250]]\n",
    "print('Main_Loop')\n",
    "#mapper.new_obstacle([[250,1250]])\n",
    "path_,G_=Main_Loop(Set_Objective[0],robot,mapper)\n",
    "mapper.display(G_,path_,robot);\n"
   ]
  },
  {
   "cell_type": "code",
   "execution_count": 5,
   "metadata": {},
   "outputs": [
    {
     "name": "stdout",
     "output_type": "stream",
     "text": [
      "[(1, 25), (2, 26), (3, 27), (4, 28), (5, 29), (6, 30), (7, 31), (8, 32), (9, 33), (10, 34), (11, 35), (12, 36), (13, 37), (14, 38), (15, 39), (16, 40), (17, 41), (18, 42), (19, 43), (20, 44), (21, 45), (22, 46), (23, 47), (24, 48), (25, 49), (25, 50), (25, 51), (25, 52), (25, 53), (25, 54), (25, 55), (25, 56), (25, 57), (25, 58), (25, 59), (25, 60), (25, 61), (25, 62), (25, 63), (25, 64), (25, 65), (25, 66), (25, 67), (25, 68), (25, 69), (25, 70), (25, 71), (25, 72), (25, 73), (25, 74), (25, 75), (25, 76), (25, 77), (25, 78), (25, 79), (25, 80), (25, 81), (25, 82), (25, 83), (25, 84), (25, 85), (25, 86), (25, 87), (25, 88), (25, 89), (25, 90), (25, 91), (25, 92), (25, 93), (25, 94), (25, 95), (25, 96), (25, 97), (25, 98), (25, 99), (25, 100), (25, 101), (25, 102), (25, 103), (25, 104), (25, 105), (25, 106), (25, 107), (25, 108), (25, 109), (25, 110), (25, 111), (25, 112), (25, 113), (25, 114), (25, 115), (25, 116), (25, 117), (25, 118), (25, 119), (25, 120)]\n"
     ]
    }
   ],
   "source": [
    "print(path_)"
   ]
  },
  {
   "cell_type": "code",
   "execution_count": 6,
   "metadata": {},
   "outputs": [
    {
     "name": "stdout",
     "output_type": "stream",
     "text": [
      "Get_Map\n",
      "Astar Beginning\n",
      "[[1000  350]\n",
      " [1000  250]]\n",
      "Astar End\n",
      "[[ 290.         1060.          500.          500.        ]\n",
      " [1000.          250.          500.         3515.95225426]]\n",
      "0\n",
      "OK: X=290.00 Y=1060.00 A=0.00 T=500.00\n",
      "\n",
      "OK: D_Profil S=500 A=50 B=100 \n",
      "\n",
      "OK: M3 H3 S15\n",
      "\n",
      "M0 X283.78 Y1077.87 A103.74 T0 S0\n",
      "\n",
      "Finished\n",
      "{'e': 0, 'a': 0, 'f': 0, 'g': 0, 'j': 0, 'c': 0, 'h': 0, 'b': 0, 'l': 0, 'm': 0, 'i': 0, 'd': 0, 'k': 0}\n",
      "1\n",
      "OK: X=1000.00 Y=250.00 A=0.00 T=3515.95\n",
      "\n",
      "OK: D_Profil S=500 A=50 B=100 \n",
      "\n",
      "OK: M3 H3 S15\n",
      "\n",
      "M0 X936.66 Y329.65 A127.24 T1 S0\n",
      "\n",
      "Timeout\n",
      "{'e': 0, 'a': 0, 'f': 0, 'g': 0, 'j': 0, 'c': 0, 'h': 0, 'b': 0, 'l': 0, 'm': 0, 'i': 0, 'd': 0, 'k': 0}\n",
      "End of total movement\n"
     ]
    },
    {
     "data": {
      "text/plain": [
       "array([[[0., 0., 0.],\n",
       "        [0., 0., 0.],\n",
       "        [0., 0., 0.],\n",
       "        ...,\n",
       "        [0., 0., 0.],\n",
       "        [0., 0., 0.],\n",
       "        [0., 0., 0.]],\n",
       "\n",
       "       [[0., 0., 0.],\n",
       "        [0., 0., 0.],\n",
       "        [0., 0., 0.],\n",
       "        ...,\n",
       "        [0., 0., 0.],\n",
       "        [0., 0., 0.],\n",
       "        [0., 0., 0.]],\n",
       "\n",
       "       [[0., 0., 0.],\n",
       "        [0., 0., 0.],\n",
       "        [0., 0., 0.],\n",
       "        ...,\n",
       "        [0., 0., 0.],\n",
       "        [0., 0., 0.],\n",
       "        [0., 0., 0.]],\n",
       "\n",
       "       ...,\n",
       "\n",
       "       [[0., 0., 0.],\n",
       "        [0., 0., 0.],\n",
       "        [0., 0., 0.],\n",
       "        ...,\n",
       "        [0., 0., 0.],\n",
       "        [0., 0., 0.],\n",
       "        [0., 0., 0.]],\n",
       "\n",
       "       [[0., 0., 0.],\n",
       "        [0., 0., 0.],\n",
       "        [0., 0., 0.],\n",
       "        ...,\n",
       "        [0., 0., 0.],\n",
       "        [0., 0., 0.],\n",
       "        [0., 0., 0.]],\n",
       "\n",
       "       [[0., 0., 0.],\n",
       "        [0., 0., 0.],\n",
       "        [0., 0., 0.],\n",
       "        ...,\n",
       "        [0., 0., 0.],\n",
       "        [0., 0., 0.],\n",
       "        [0., 0., 0.]]])"
      ]
     },
     "execution_count": 6,
     "metadata": {},
     "output_type": "execute_result"
    },
    {
     "data": {
      "image/png": "[encoded data removed]",
      "text/plain": [
       "<matplotlib.figure.Figure at 0x739e1030>"
      ]
     },
     "metadata": {
      "needs_background": "light"
     },
     "output_type": "display_data"
    }
   ],
   "source": [
    "Set_Objective=[[1000,250]]\n",
    "path, G=Main_Loop(Set_Objective[0],robot,mapper)\n",
    "mapper.display(G,path,robot)"
   ]
  },
  {
   "cell_type": "code",
   "execution_count": 5,
   "metadata": {
    "scrolled": true
   },
   "outputs": [
    {
     "name": "stdout",
     "output_type": "stream",
     "text": [
      "Get_Map\n",
      "Astar Beginning\n",
      "[[2000 1940]\n",
      " [2000    0]]\n",
      "1820.0108362662315 1968.197012910533 9.592268256892481\n",
      "OLD CHECKPOINT [[2000    0]]\n",
      "NEW CHECKPOINT [[1820 1968]\n",
      " [2000    0]]\n",
      "Astar End\n",
      "[[1820.         1968.          500.         1920.03733167]\n",
      " [2000.            0.          500.         7033.4007771 ]]\n",
      "0\n",
      "OK: X=1820.00 Y=1968.00 A=0.00 T=1920.04\n",
      "\n",
      "OK: D_Profil S=500 A=50 B=100 \n",
      "\n",
      "OK: M3 H3 S15\n",
      "\n",
      "M0 X1862.27 Y1962.58 A-6.40 T1 S0\n",
      "\n",
      "Timeout\n",
      "{'a': 0, 'h': 0, 'j': 0, 'l': 0, 'g': 0, 'c': 0, 'b': 0, 'i': 0, 'm': 0, 'f': 0, 'k': 0, 'd': 0, 'e': 0}\n",
      "1\n",
      "OK: X=2000.00 Y=0.00 A=0.00 T=7033.40\n",
      "\n",
      "OK: D_Profil S=500 A=50 B=100 \n",
      "\n",
      "OK: M3 H3 S15\n",
      "\n",
      "M0 X2200.47 Y1224.67 A-97.76 T2 S2128\n",
      "\n",
      "Timeout\n",
      "l\n",
      "g\n",
      "e\n",
      "{'a': 0, 'h': 0, 'j': 0, 'l': 1, 'g': 1, 'c': 0, 'b': 0, 'i': 0, 'm': 0, 'f': 0, 'k': 0, 'd': 0, 'e': 1}\n",
      "Left\n",
      "FrontR\n",
      "End of total movement\n",
      "Get_Map\n",
      "Astar Beginning\n",
      "[[2090 1110]\n",
      " [2090  680]\n",
      " [2000  590]\n",
      " [2000    0]]\n",
      "2050.0665060300907 1224.466249654369 69.06157345806025\n",
      "1900.1330120601815 1228.932499308738 30.3567556526536\n",
      "OLD CHECKPOINT [[2000  590]\n",
      " [2000    0]]\n",
      "NEW CHECKPOINT [[1900 1228]\n",
      " [2000  590]\n",
      " [2000    0]]\n",
      "Astar End\n",
      "[[1900.         1228.          500.         2340.29861359]\n",
      " [2000.          590.          500.         3308.21043023]\n",
      " [2000.            0.          500.         3152.        ]]\n",
      "0\n",
      "OK: X=1900.00 Y=1228.00 A=0.00 T=2340.30\n",
      "\n",
      "OK: D_Profil S=500 A=50 B=100 \n",
      "\n",
      "OK: M3 H3 S15\n",
      "\n",
      "M0 X2200.47 Y1224.67 A-97.76 T2 S2128\n",
      "\n",
      "Timeout\n",
      "l\n",
      "g\n",
      "e\n",
      "{'a': 0, 'h': 0, 'j': 0, 'l': 1, 'g': 1, 'c': 0, 'b': 0, 'i': 0, 'm': 0, 'f': 0, 'k': 0, 'd': 0, 'e': 1}\n",
      "Left\n",
      "FrontR\n",
      "1\n",
      "OK: X=2000.00 Y=590.00 A=0.00 T=3308.21\n",
      "\n",
      "OK: D_Profil S=500 A=50 B=100 \n",
      "\n",
      "OK: M3 H3 S15\n",
      "\n",
      "M0 X2200.37 Y1224.36 A-105.16 T1 S7232\n",
      "\n",
      "Timeout\n",
      "l\n",
      "g\n",
      "m\n",
      "k\n",
      "{'a': 0, 'h': 0, 'j': 0, 'l': 1, 'g': 1, 'c': 0, 'b': 0, 'i': 0, 'm': 1, 'f': 0, 'k': 1, 'd': 0, 'e': 0}\n",
      "Front\n",
      "FrontL\n",
      "2\n",
      "OK: X=2000.00 Y=0.00 A=0.00 T=3152.00\n",
      "\n",
      "OK: D_Profil S=500 A=50 B=100 \n",
      "\n",
      "OK: M3 H3 S15\n",
      "\n",
      "M0 X2200.37 Y1224.36 A-105.16 T2 S7232\n",
      "\n",
      "Timeout\n",
      "l\n",
      "g\n",
      "m\n",
      "k\n",
      "{'a': 0, 'h': 0, 'j': 0, 'l': 1, 'g': 1, 'c': 0, 'b': 0, 'i': 0, 'm': 1, 'f': 0, 'k': 1, 'd': 0, 'e': 0}\n",
      "Front\n",
      "FrontL\n",
      "End of total movement\n",
      "Get_Map\n",
      "Astar Beginning\n",
      "[[2100 1120]\n",
      " [2090 1190]\n",
      " [2020 1200]\n",
      " [2240 1440]\n",
      " [2750 1440]\n",
      " [2760  920]\n",
      " [2690  850]\n",
      " [2690  560]\n",
      " [2130    0]\n",
      " [2000    0]]\n",
      "2050.076954629344 1224.8042134411608 62.69401340513733\n",
      "1900.1539092586881 1229.6084268823215 26.90780339192535\n",
      "OLD CHECKPOINT [[2020 1200]\n",
      " [2240 1440]\n",
      " [2750 1440]\n",
      " [2690  850]\n",
      " [2690  560]\n",
      " [2000    0]]\n",
      "NEW CHECKPOINT [[1900 1229]\n",
      " [2020 1200]\n",
      " [2240 1440]\n",
      " [2750 1440]\n",
      " [2690  850]\n",
      " [2690  560]\n",
      " [2000    0]]\n",
      "Astar End\n",
      "[[1900.         1229.          500.         2340.37791499]\n",
      " [2020.         1200.          500.         1845.67244611]\n",
      " [2240.         1440.          500.         2411.61395338]\n",
      " [2750.         1440.          500.         2928.        ]\n",
      " [2690.          850.          500.         3160.52040036]\n",
      " [2690.          560.          500.         2312.        ]\n",
      " [2000.            0.          500.         3988.22185506]]\n",
      "0\n",
      "OK: X=1900.00 Y=1229.00 A=0.00 T=2340.38\n",
      "\n",
      "OK: D_Profil S=500 A=50 B=100 \n",
      "\n",
      "OK: M3 H3 S15\n",
      "\n",
      "M0 X1972.99 Y1220.43 A-185.90 T1 S0\n",
      "\n",
      "Timeout\n",
      "{'a': 0, 'h': 0, 'j': 0, 'l': 0, 'g': 0, 'c': 0, 'b': 0, 'i': 0, 'm': 0, 'f': 0, 'k': 0, 'd': 0, 'e': 0}\n",
      "1\n",
      "OK: X=2020.00 Y=1200.00 A=0.00 T=1845.67\n",
      "\n",
      "OK: D_Profil S=500 A=50 B=100 \n",
      "\n",
      "OK: M3 H3 S15\n",
      "\n",
      "M0 X2002.02 Y1209.81 A-207.25 T0 S0\n",
      "\n",
      "Finished\n",
      "{'a': 0, 'h': 0, 'j': 0, 'l': 0, 'g': 0, 'c': 0, 'b': 0, 'i': 0, 'm': 0, 'f': 0, 'k': 0, 'd': 0, 'e': 0}\n",
      "2\n",
      "OK: X=2240.00 Y=1440.00 A=0.00 T=2411.61\n",
      "\n",
      "OK: D_Profil S=500 A=50 B=100 \n",
      "\n",
      "OK: M3 H3 S15\n",
      "\n",
      "M0 X2250.34 Y1263.51 A-119.97 T1 S0\n",
      "\n",
      "Timeout\n",
      "{'a': 0, 'h': 0, 'j': 0, 'l': 0, 'g': 0, 'c': 0, 'b': 0, 'i': 0, 'm': 0, 'f': 0, 'k': 0, 'd': 0, 'e': 0}\n",
      "3\n",
      "OK: X=2750.00 Y=1440.00 A=0.00 T=2928.00\n",
      "\n",
      "OK: D_Profil S=500 A=50 B=100 \n",
      "\n",
      "OK: M3 H3 S15\n",
      "\n",
      "M0 X2257.63 Y1287.97 A-74.63 T0 S4096\n",
      "\n",
      "Finished\n",
      "m\n",
      "{'a': 0, 'h': 0, 'j': 0, 'l': 0, 'g': 0, 'c': 0, 'b': 0, 'i': 0, 'm': 1, 'f': 0, 'k': 0, 'd': 0, 'e': 0}\n",
      "Front\n",
      "4\n",
      "OK: X=2690.00 Y=850.00 A=0.00 T=3160.52\n",
      "\n",
      "OK: D_Profil S=500 A=50 B=100 \n",
      "\n",
      "OK: M3 H3 S15\n",
      "\n",
      "M0 X2698.50 Y918.44 A-75.27 T1 S32\n",
      "\n",
      "Timeout\n",
      "f\n",
      "{'a': 0, 'h': 0, 'j': 0, 'l': 0, 'g': 0, 'c': 0, 'b': 0, 'i': 0, 'm': 0, 'f': 1, 'k': 0, 'd': 0, 'e': 0}\n",
      "Right\n",
      "5\n",
      "OK: X=2690.00 Y=560.00 A=0.00 T=2312.00\n",
      "\n",
      "OK: D_Profil S=500 A=50 B=100 \n",
      "\n",
      "OK: M3 H3 S15\n",
      "\n",
      "M0 X2702.78 Y612.48 A-102.90 T1 S0\n",
      "\n",
      "Timeout\n",
      "{'a': 0, 'h': 0, 'j': 0, 'l': 0, 'g': 0, 'c': 0, 'b': 0, 'i': 0, 'm': 0, 'f': 0, 'k': 0, 'd': 0, 'e': 0}\n",
      "6\n",
      "OK: X=2000.00 Y=0.00 A=0.00 T=3988.22\n",
      "\n",
      "OK: D_Profil S=500 A=50 B=100 \n",
      "\n",
      "OK: M3 H3 S15\n",
      "\n",
      "M0 X2035.36 Y24.14 A-146.47 T1 S0\n",
      "\n",
      "Timeout\n",
      "{'a': 0, 'h': 0, 'j': 0, 'l': 0, 'g': 0, 'c': 0, 'b': 0, 'i': 0, 'm': 0, 'f': 0, 'k': 0, 'd': 0, 'e': 0}\n",
      "End of total movement\n"
     ]
    },
    {
     "data": {
      "image/png": "[encoded data removed]",
      "text/plain": [
       "<matplotlib.figure.Figure at 0x72f849d0>"
      ]
     },
     "metadata": {
      "needs_background": "light"
     },
     "output_type": "display_data"
    }
   ],
   "source": [
    "Set_Objective=[[2000,0]]\n",
    "path, G=Main_Loop(Set_Objective[0],robot,mapper)\n",
    "mapper.display(G,path,robot);"
   ]
  },
  {
   "cell_type": "code",
   "execution_count": null,
   "metadata": {},
   "outputs": [],
   "source": [
    "#M0 X1401.47 Y329.98 A-40.82 T1 S0\n",
    "mapper.display(G,path,robot)\n",
    "path, cost , G = Path_Generator.AStarSearch((Get_Pos[0],Get_Pos[1]), (Set_Objective[0][0],Set_Objective[0][1]), grid) #Try to find the best path\n",
    "plt.imshow(grid,origin='lower')"
   ]
  },
  {
   "cell_type": "code",
   "execution_count": 5,
   "metadata": {},
   "outputs": [
    {
     "data": {
      "text/plain": [
       "deque(['M0 X963.52 Y233.70 A29.42 T1 S0\\r\\n'])"
      ]
     },
     "execution_count": 5,
     "metadata": {},
     "output_type": "execute_result"
    }
   ],
   "source": [
    "buf_stm.append(\"G0 X1000 T5000\\r\\n\")#Send every messages\n",
    "\n",
    "buf_stm.append(\"M3 H3\\r\\n\")#Send every messages\n",
    "buf_broadcast"
   ]
  },
  {
   "cell_type": "code",
   "execution_count": 11,
   "metadata": {},
   "outputs": [
    {
     "data": {
      "image/png": "[encoded data removed]",
      "text/plain": [
       "<matplotlib.figure.Figure at 0x7435f190>"
      ]
     },
     "metadata": {
      "needs_background": "light"
     },
     "output_type": "display_data"
    }
   ],
   "source": [
    "mapper.display(G,path,robot);"
   ]
  },
  {
   "cell_type": "code",
   "execution_count": null,
   "metadata": {},
   "outputs": [],
   "source": [
    "Map_Rewards is a map of rewards(aka bottle or special zone according to the time of the game)\n",
    "Map_terrain is a map of obstacle and wall \n",
    "\n",
    "while(running)\n",
    "    if(Robot_has_reached_final_position)\n",
    "        Get_Interresting_Position_To_Go();\n",
    "    Set_Of_Coordinate=Calculate_Path(Actual_Pos,Position_To_Go,Map_terrain)\n",
    "    for i in Set_Of_Coordinate\n",
    "    #From here \n",
    "        Send set_of_Coordinate[i]\n",
    "        Wait_for_answer\n",
    "        Get_Position of the robot and state\n",
    "        Actual_Pos=Correlation(Beacon,Robot_Pos)\n",
    "        if State==Blocked\n",
    "            Add_To_Map(Actual_Pos,Sensor_Trigged)\n",
    "            break for loop\n",
    "        else if State== Finished_Action\n",
    "            continue\n",
    "    #to here the robot can move\n",
    "    Bottle_detection_behavior(Actual_Pos,Map_Rewards)"
   ]
  },
  {
   "cell_type": "code",
   "execution_count": 1,
   "metadata": {},
   "outputs": [
    {
     "name": "stdout",
     "output_type": "stream",
     "text": [
      "m\n",
      "h\n",
      "a\n",
      "d\n",
      "c\n",
      "f\n",
      "k\n",
      "b\n",
      "g\n",
      "l\n",
      "e\n",
      "j\n",
      "i\n",
      "{'m': 1, 'h': 1, 'a': 1, 'd': 1, 'c': 1, 'f': 1, 'k': 1, 'b': 1, 'g': 1, 'l': 1, 'e': 1, 'j': 1, 'i': 1}\n",
      "Sensor  m\n",
      "Sensor  h\n",
      "Sensor  a\n",
      "Sensor  d\n",
      "Sensor  c\n",
      "Sensor  f\n",
      "Sensor  k\n",
      "Sensor  b\n",
      "Sensor  g\n",
      "Sensor  l\n",
      "Sensor  e\n",
      "Sensor  j\n",
      "Sensor  i\n",
      "object [1500, 1500]\n",
      "grid_value 255\n"
     ]
    },
    {
     "data": {
      "image/png": "[encoded data removed]",
      "text/plain": [
       "<matplotlib.figure.Figure at 0x6f972f30>"
      ]
     },
     "metadata": {
      "needs_background": "light"
     },
     "output_type": "display_data"
    }
   ],
   "source": [
    "import robot as Robot\n",
    "import Astar as Path_Generator\n",
    "import Mapping as Map_Generator\n",
    "import numpy as np\n",
    "import matplotlib.pyplot as plt\n",
    "from parse import *\n",
    "%matplotlib inline\n",
    "robot = Robot.robot(1500,1500,0)\n",
    "robot.set_position(1500,1500,90)\n",
    "\n",
    "#print(robot.sensor_state(2048+16))\n",
    "mapper = Map_Generator.Mapping()\n",
    "grid_updated=mapper.map()\n",
    "XY = robot.sensor_state(1+2 +4 + 8+ 16+32+64+128+256+512+1024+2048+4096)\n",
    "#XY = robot.sensor_state(1+2+4096)\n",
    "mapper.new_obstacle(XY )\n",
    "grid_updated=mapper.map()\n",
    "objective = [1500,1500]\n",
    "\n",
    "print(\"object\",objective)\n",
    "print(\"grid_value\",np.max(grid_updated))\n",
    "path, cost , G = Path_Generator.AStarSearch((1500,1501), (objective[0],objective[1]), grid_updated)\n",
    "\n",
    "mapper.display(G,path,robot)\n"
   ]
  },
  {
   "cell_type": "code",
   "execution_count": 1,
   "metadata": {},
   "outputs": [
    {
     "data": {
      "text/plain": [
       "41.68905848538856"
      ]
     },
     "execution_count": 1,
     "metadata": {},
     "output_type": "execute_result"
    }
   ],
   "source": []
  },
  {
   "cell_type": "code",
   "execution_count": 11,
   "metadata": {},
   "outputs": [
    {
     "name": "stdout",
     "output_type": "stream",
     "text": [
      "true\n",
      "true\n",
      "true\n"
     ]
    }
   ],
   "source": []
  },
  {
   "cell_type": "code",
   "execution_count": null,
   "metadata": {},
   "outputs": [],
   "source": []
  }
 ],
 "metadata": {
  "kernelspec": {
   "display_name": "Python 3",
   "language": "python",
   "name": "python3"
  },
  "language_info": {
   "codemirror_mode": {
    "name": "ipython",
    "version": 3
   },
   "file_extension": ".py",
   "mimetype": "text/x-python",
   "name": "python",
   "nbconvert_exporter": "python",
   "pygments_lexer": "ipython3",
   "version": "3.5.3"
  }
 },
 "nbformat": 4,
 "nbformat_minor": 2
}
