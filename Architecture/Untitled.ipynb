{
 "cells": [
  {
   "cell_type": "code",
   "execution_count": 1,
   "metadata": {},
   "outputs": [],
   "source": [
    "%load_ext autoreload"
   ]
  },
  {
   "cell_type": "code",
   "execution_count": 2,
   "metadata": {},
   "outputs": [],
   "source": [
    "%autoreload 2\n",
    "import robot as Robot\n",
    "import  time\n",
    "\n",
    "robot_Instance= Robot.Robot_Class(0,0,0)\n"
   ]
  },
  {
   "cell_type": "code",
   "execution_count": 3,
   "metadata": {},
   "outputs": [
    {
     "name": "stdout",
     "output_type": "stream",
     "text": [
      "Trying to connect\n",
      "Connected\n"
     ]
    }
   ],
   "source": [
    "robot_Instance.Connect_TCP()"
   ]
  },
  {
   "cell_type": "code",
   "execution_count": 43,
   "metadata": {},
   "outputs": [],
   "source": [
    "Init=[1000,1000,90]\n",
    "Spot_Init=[Init[0],Init[1],0]\n",
    "robot_Instance.Set_Robot_Position(Init[0],Init[1],Init[2],Transmission=True)\n",
    "robot_Instance.Set_Robot_Speed(500, Transmission= True)\n",
    "robot_Instance.Set_Max_Try_Single_Goal(12)"
   ]
  },
  {
   "cell_type": "code",
   "execution_count": 44,
   "metadata": {
    "scrolled": false
   },
   "outputs": [
    {
     "name": "stdout",
     "output_type": "stream",
     "text": [
      "Spot :  [1000, 1000, 0]\n",
      "Data Received TCP: None\n",
      "Empty List\n",
      "Empty List\n",
      "Empty List\n",
      "Spot :  [1000, 2600, 0]\n",
      "{'f': 0, 'e': 0, 'h': 0, 'c': 0, 'g': 0, 'b': 0, 'i': 0, 'a': 0, 'd': 0, 'm': 0, 'k': 0, 'j': 0, 'l': 0}\n",
      " M0 X988.13 Y2452.77 A86.33 T1 S0\n",
      "\n",
      "Timeout\n",
      "Data Received TCP: ['811.0,2019.0', '1100.0,2898.0']\n",
      "Bottle selected: 1100.0 2898.0 521.6754429924725\n",
      "{'f': 0, 'e': 0, 'h': 0, 'c': 0, 'g': 0, 'b': 0, 'i': 0, 'a': 0, 'd': 0, 'm': 0, 'k': 0, 'j': 0, 'l': 0}\n",
      " M0 X1031.63 Y2722.33 A77.58 T1 S0\n",
      "\n",
      "Timeout\n",
      "Bottle selected: 1100.0 2898.0 241.58034518505423\n",
      "Bottle selected: 1100.0 2898.0 241.58034518505423\n",
      "Spot :  [6500, 2600, 0]\n",
      "{'f': 0, 'e': 0, 'h': 0, 'c': 0, 'g': 0, 'b': 0, 'i': 0, 'a': 0, 'd': 0, 'm': 0, 'k': 0, 'j': 0, 'l': 1}\n",
      " M0 X1672.86 Y3101.38 A-5.42 T2 S2048\n",
      "\n",
      "Blocked\n",
      "{'f': 0, 'e': 0, 'h': 0, 'c': 0, 'g': 0, 'b': 0, 'i': 0, 'a': 0, 'd': 0, 'm': 0, 'k': 0, 'j': 0, 'l': 0}\n",
      " M0 X1504.41 Y3120.18 A-4.82 T1 S0\n",
      "\n",
      "Timeout\n",
      "{'f': 0, 'e': 0, 'h': 0, 'c': 0, 'g': 0, 'b': 0, 'i': 0, 'a': 0, 'd': 0, 'm': 0, 'k': 0, 'j': 0, 'l': 0}\n",
      " M0 X1639.83 Y3199.15 A59.31 T1 S0\n",
      "\n",
      "Timeout\n",
      "{'f': 0, 'e': 0, 'h': 0, 'c': 0, 'g': 0, 'b': 0, 'i': 0, 'a': 0, 'd': 0, 'm': 0, 'k': 0, 'j': 0, 'l': 0}\n",
      " M0 X1681.38 Y3311.47 A77.57 T1 S0\n",
      "\n",
      "Timeout\n",
      "{'f': 0, 'e': 0, 'h': 0, 'c': 0, 'g': 0, 'b': 0, 'i': 0, 'a': 0, 'd': 0, 'm': 0, 'k': 1, 'j': 0, 'l': 0}\n",
      " M0 X5423.39 Y2908.79 A-13.98 T2 S1024\n",
      "\n",
      "Blocked\n",
      "{'f': 0, 'e': 0, 'h': 0, 'c': 0, 'g': 0, 'b': 0, 'i': 0, 'a': 0, 'd': 0, 'm': 0, 'k': 0, 'j': 0, 'l': 0}\n",
      " M0 X5288.63 Y2941.11 A-15.37 T1 S0\n",
      "\n",
      "Timeout\n",
      "{'f': 0, 'e': 0, 'h': 0, 'c': 0, 'g': 0, 'b': 0, 'i': 0, 'a': 0, 'd': 0, 'm': 0, 'k': 0, 'j': 0, 'l': 0}\n",
      " M0 X5380.11 Y2828.61 A-79.43 T1 S0\n",
      "\n",
      "Timeout\n",
      "{'f': 0, 'e': 0, 'h': 0, 'c': 0, 'g': 0, 'b': 0, 'i': 0, 'a': 0, 'd': 0, 'm': 0, 'k': 0, 'j': 0, 'l': 0}\n",
      " M0 X5377.20 Y2718.44 A-97.34 T1 S0\n",
      "\n",
      "Timeout\n",
      "{'f': 0, 'e': 0, 'h': 0, 'c': 0, 'g': 0, 'b': 0, 'i': 0, 'a': 0, 'd': 0, 'm': 0, 'k': 0, 'j': 0, 'l': 0}\n",
      " M0 X6156.32 Y2552.63 A9.74 T1 S0\n",
      "\n",
      "Timeout\n",
      "Data Received TCP: ['1085.0,3231.0', '1912.0,3042.0', '2045.0,3296.0', '2128.0,3123.0', '1950.0,3341.0', '1955.0,3297.0', '2639.0,3353.0', '2567.0,3388.0', '3083.0,3627.0', '2981.0,3379.0', '3655.0,3298.0', '4085.0,3294.0', '4073.0,3214.0', '4484.0,3154.0', '4393.0,2932.0', '5968.0,3035.0', '5797.0,3033.0', '5466.0,2291.0', '5531.0,2315.0', '6361.0,2538.0', '6357.0,2410.0']\n",
      "Bottle selected: 6361.0 2538.0 288.1726023436312\n",
      "{'f': 0, 'e': 0, 'h': 0, 'c': 0, 'g': 0, 'b': 0, 'i': 0, 'a': 0, 'd': 0, 'm': 0, 'k': 0, 'j': 0, 'l': 0}\n",
      " M0 X6267.33 Y2560.29 A-5.29 T1 S0\n",
      "\n",
      "Timeout\n",
      "Bottle selected: 6361.0 2538.0 144.85756452674391\n",
      "Bottle selected: 6361.0 2538.0 144.85756452674391\n",
      "Spot :  [6500, 5000, 0]\n",
      "{'f': 0, 'e': 0, 'h': 0, 'c': 0, 'g': 0, 'b': 0, 'i': 0, 'a': 0, 'd': 0, 'm': 0, 'k': 0, 'j': 0, 'l': 0}\n",
      " M0 X6498.61 Y4772.96 A92.83 T1 S0\n",
      "\n",
      "Timeout\n",
      "{'f': 0, 'e': 1, 'h': 0, 'c': 0, 'g': 0, 'b': 0, 'i': 0, 'a': 0, 'd': 0, 'm': 0, 'k': 0, 'j': 0, 'l': 0}\n",
      " M0 X6494.72 Y4898.83 A91.95 T2 S16\n",
      "\n",
      "Blocked\n",
      "{'f': 0, 'e': 0, 'h': 0, 'c': 0, 'g': 0, 'b': 0, 'i': 0, 'a': 0, 'd': 0, 'm': 0, 'k': 0, 'j': 0, 'l': 0}\n",
      " M0 X6494.03 Y4736.18 A91.71 T1 S0\n",
      "\n",
      "Timeout\n",
      "{'f': 0, 'e': 0, 'h': 0, 'c': 0, 'g': 0, 'b': 0, 'i': 0, 'a': 0, 'd': 0, 'm': 0, 'k': 0, 'j': 0, 'l': 0}\n",
      " M0 X6382.34 Y4863.08 A161.76 T1 S0\n",
      "\n",
      "Timeout\n",
      "Data Received TCP: ['6689.0,2591.0', '6703.0,2451.0', '6766.0,2557.0', '6883.0,2897.0', '7090.0,2830.0', '6682.0,3454.0', '6417.0,4300.0', '6391.0,4709.0', '6228.0,5067.0', '6107.0,5033.0', '6075.0,4972.0']\n",
      "Bottle selected: 6075.0 4972.0 333.7143607096207\n",
      "{'f': 0, 'e': 0, 'h': 0, 'c': 0, 'g': 0, 'b': 0, 'i': 0, 'a': 0, 'd': 0, 'm': 0, 'k': 0, 'j': 0, 'l': 0}\n",
      " M0 X6199.58 Y4917.03 A159.97 T1 S0\n",
      "\n",
      "Timeout\n",
      "Bottle selected: 6075.0 4972.0 158.84324528428655\n",
      "Bottle selected: 6075.0 4972.0 158.84324528428655\n",
      "Spot :  [4500, 5000, 0]\n",
      "{'f': 0, 'e': 0, 'h': 0, 'c': 0, 'g': 0, 'b': 0, 'i': 0, 'a': 0, 'd': 0, 'm': 0, 'k': 0, 'j': 0, 'l': 0}\n",
      " M0 X4639.59 Y4985.45 A175.95 T1 S0\n",
      "\n",
      "Timeout\n",
      "Data Received TCP: ['4919.0,5172.0', '4877.0,5099.0', '4477.0,5144.0', '4509.0,5218.0']\n",
      "Bottle selected: 4477.0 5144.0 468.47371971824435\n",
      "{'f': 0, 'e': 0, 'h': 0, 'c': 0, 'g': 0, 'b': 0, 'i': 0, 'a': 0, 'd': 0, 'm': 0, 'k': 0, 'j': 0, 'l': 0}\n",
      " M0 X4529.46 Y5048.54 A125.98 T1 S0\n",
      "\n",
      "Timeout\n",
      "Bottle selected: 4477.0 5144.0 152.0591843384742\n",
      "Bottle selected: 4477.0 5144.0 152.0591843384742\n",
      "Spot :  [4500, 7500, 0]\n",
      "{'f': 0, 'e': 0, 'h': 0, 'c': 0, 'g': 0, 'b': 0, 'i': 0, 'a': 0, 'd': 0, 'm': 1, 'k': 0, 'j': 0, 'l': 0}\n",
      " M0 X4451.44 Y5954.58 A89.31 T2 S4096\n",
      "\n",
      "Blocked\n",
      "{'f': 0, 'e': 0, 'h': 0, 'c': 0, 'g': 0, 'b': 0, 'i': 0, 'a': 0, 'd': 0, 'm': 0, 'k': 0, 'j': 0, 'l': 0}\n",
      " M0 X4446.51 Y5815.64 A89.43 T1 S0\n",
      "\n",
      "Timeout\n",
      "{'f': 0, 'e': 0, 'h': 0, 'c': 0, 'g': 0, 'b': 0, 'i': 0, 'a': 0, 'd': 0, 'm': 0, 'k': 0, 'j': 0, 'l': 0}\n",
      " M0 X4550.49 Y5940.51 A18.94 T1 S0\n",
      "\n",
      "Timeout\n",
      "{'f': 0, 'e': 0, 'h': 0, 'c': 0, 'g': 0, 'b': 0, 'i': 0, 'a': 0, 'd': 0, 'm': 0, 'k': 0, 'j': 0, 'l': 0}\n",
      " M0 X4670.36 Y5954.18 A0.27 T1 S0\n",
      "\n",
      "Timeout\n",
      "{'f': 0, 'e': 0, 'h': 0, 'c': 0, 'g': 1, 'b': 0, 'i': 0, 'a': 0, 'd': 0, 'm': 0, 'k': 0, 'j': 0, 'l': 0}\n",
      " M0 X4869.79 Y6244.53 A89.39 T2 S64\n",
      "\n",
      "Blocked\n",
      "{'f': 0, 'e': 0, 'h': 0, 'c': 0, 'g': 0, 'b': 0, 'i': 0, 'a': 0, 'd': 0, 'm': 0, 'k': 0, 'j': 0, 'l': 0}\n",
      " M0 X4873.54 Y6004.84 A87.42 T1 S0\n",
      "\n",
      "Timeout\n",
      "{'f': 0, 'e': 0, 'h': 0, 'c': 0, 'g': 0, 'b': 0, 'i': 0, 'a': 0, 'd': 0, 'm': 0, 'k': 0, 'j': 0, 'l': 0}\n",
      " M0 X4858.45 Y5902.62 A86.15 T1 S0\n",
      "\n",
      "Timeout\n",
      "{'f': 0, 'e': 0, 'h': 0, 'c': 0, 'g': 0, 'b': 0, 'i': 0, 'a': 0, 'd': 0, 'm': 1, 'k': 0, 'j': 0, 'l': 0}\n",
      " M0 X5303.09 Y5387.89 A-68.97 T2 S4096\n",
      "\n",
      "Blocked\n",
      "{'f': 0, 'e': 0, 'h': 0, 'c': 0, 'g': 0, 'b': 0, 'i': 0, 'a': 0, 'd': 0, 'm': 0, 'k': 0, 'j': 0, 'l': 0}\n",
      " M0 X5264.29 Y5517.73 A-85.97 T1 S0\n",
      "\n",
      "Timeout\n",
      "{'f': 0, 'e': 0, 'h': 0, 'c': 0, 'g': 0, 'b': 0, 'i': 0, 'a': 0, 'd': 0, 'm': 0, 'k': 0, 'j': 0, 'l': 0}\n",
      " M0 X5189.36 Y5360.39 A-144.78 T1 S0\n",
      "\n",
      "Timeout\n",
      "Data Received TCP: ['4269.0,5233.0', '4341.0,5439.0', '4116.0,5278.0', '4196.0,5381.0']\n",
      "Bottle selected: 4269.0 5233.0 1093.1718637074553\n",
      "{'f': 0, 'e': 0, 'h': 0, 'c': 0, 'g': 1, 'b': 0, 'i': 0, 'a': 0, 'd': 0, 'm': 0, 'k': 0, 'j': 0, 'l': 0}\n",
      " M0 X4997.96 Y5277.89 A-171.67 T2 S64\n",
      "\n",
      "Blocked\n",
      "{'f': 0, 'e': 0, 'h': 0, 'c': 0, 'g': 0, 'b': 0, 'i': 0, 'a': 0, 'd': 0, 'm': 1, 'k': 0, 'j': 0, 'l': 0}\n",
      " M0 X5103.78 Y5262.50 A-211.88 T1 S4096\n",
      "\n",
      "Timeout\n",
      "{'f': 0, 'e': 0, 'h': 0, 'c': 0, 'g': 0, 'b': 0, 'i': 0, 'a': 0, 'd': 0, 'm': 1, 'k': 0, 'j': 0, 'l': 0}\n",
      " M0 X5044.38 Y5291.70 A-243.39 T1 S4096\n",
      "\n",
      "Timeout\n",
      "{'f': 0, 'e': 0, 'h': 0, 'c': 0, 'g': 0, 'b': 0, 'i': 0, 'a': 0, 'd': 0, 'm': 1, 'k': 0, 'j': 0, 'l': 0}\n",
      " M0 X5043.12 Y5294.62 A-247.41 T2 S4096\n",
      "\n",
      "Blocked\n",
      "{'f': 0, 'e': 0, 'h': 0, 'c': 0, 'g': 0, 'b': 0, 'i': 0, 'a': 0, 'd': 0, 'm': 0, 'k': 0, 'j': 0, 'l': 0}\n",
      " M0 X5082.78 Y5166.91 A-267.94 T1 S0\n",
      "\n",
      "Timeout\n",
      "{'f': 0, 'e': 0, 'h': 0, 'c': 0, 'g': 0, 'b': 0, 'i': 0, 'a': 0, 'd': 0, 'm': 0, 'k': 0, 'j': 0, 'l': 0}\n",
      " M0 X5142.69 Y5315.63 A-320.57 T1 S0\n",
      "\n",
      "Timeout\n",
      "{'f': 0, 'e': 0, 'h': 0, 'c': 0, 'g': 0, 'b': 0, 'i': 0, 'a': 0, 'd': 0, 'm': 1, 'k': 0, 'j': 0, 'l': 0}\n",
      " M0 X5197.45 Y5352.84 A-331.01 T2 S4096\n",
      "\n",
      "Blocked\n",
      "{'f': 0, 'e': 0, 'h': 0, 'c': 0, 'g': 0, 'b': 0, 'i': 0, 'a': 0, 'd': 0, 'm': 0, 'k': 0, 'j': 0, 'l': 0}\n",
      " M0 X5060.61 Y5285.05 A-340.64 T1 S0\n",
      "\n",
      "Timeout\n",
      "{'f': 0, 'e': 0, 'h': 0, 'c': 0, 'g': 0, 'b': 0, 'i': 0, 'a': 0, 'd': 0, 'm': 0, 'k': 0, 'j': 0, 'l': 0}\n",
      " M0 X5223.42 Y5247.12 A-401.58 T1 S0\n",
      "\n",
      "Timeout\n",
      "{'f': 0, 'e': 0, 'h': 0, 'c': 0, 'g': 0, 'b': 0, 'i': 0, 'a': 0, 'd': 0, 'm': 0, 'k': 0, 'j': 0, 'l': 0}\n",
      " M0 X5118.21 Y5354.78 A-420.50 T1 S0\n",
      "\n",
      "Timeout\n",
      "Bottle selected: 4269.0 5233.0 1525.932633632911\n",
      "{'f': 0, 'e': 0, 'h': 0, 'c': 0, 'g': 1, 'b': 0, 'i': 0, 'a': 0, 'd': 0, 'm': 0, 'k': 0, 'j': 1, 'l': 0}\n",
      " M0 X4633.26 Y5138.13 A-549.71 T2 S576\n",
      "\n",
      "Blocked\n",
      "Avoidance H\n",
      "{'f': 0, 'e': 0, 'h': 0, 'c': 0, 'g': 1, 'b': 0, 'i': 0, 'a': 0, 'd': 0, 'm': 0, 'k': 0, 'j': 1, 'l': 0}\n",
      " M0 X4601.15 Y5143.86 A-555.08 T2 S576\n",
      "\n",
      "Blocked\n",
      "Avoidance H\n",
      "{'f': 0, 'e': 0, 'h': 0, 'c': 0, 'g': 1, 'b': 1, 'i': 0, 'a': 0, 'd': 0, 'm': 0, 'k': 0, 'j': 1, 'l': 0}\n",
      " M0 X4600.18 Y5144.12 A-554.93 T2 S578\n",
      "\n",
      "Blocked\n",
      "Avoidance H\n",
      "{'f': 0, 'e': 0, 'h': 0, 'c': 0, 'g': 1, 'b': 0, 'i': 0, 'a': 0, 'd': 0, 'm': 0, 'k': 0, 'j': 1, 'l': 0}\n",
      " M0 X4600.18 Y5144.12 A-554.93 T2 S576\n",
      "\n",
      "Blocked\n",
      "Avoidance H\n",
      "{'f': 0, 'e': 0, 'h': 0, 'c': 0, 'g': 1, 'b': 0, 'i': 0, 'a': 0, 'd': 0, 'm': 0, 'k': 0, 'j': 1, 'l': 0}\n",
      " M0 X4600.18 Y5144.12 A-554.93 T2 S576\n",
      "\n",
      "Blocked\n",
      "Avoidance H\n",
      "{'f': 0, 'e': 0, 'h': 0, 'c': 0, 'g': 1, 'b': 0, 'i': 0, 'a': 0, 'd': 0, 'm': 0, 'k': 0, 'j': 1, 'l': 0}\n",
      " M0 X4600.18 Y5144.12 A-554.93 T2 S576\n",
      "\n",
      "Blocked\n",
      "Avoidance H\n"
     ]
    },
    {
     "name": "stdout",
     "output_type": "stream",
     "text": [
      "{'f': 0, 'e': 0, 'h': 0, 'c': 0, 'g': 1, 'b': 0, 'i': 0, 'a': 0, 'd': 0, 'm': 0, 'k': 0, 'j': 1, 'l': 0}\n",
      " M0 X4600.18 Y5144.12 A-554.93 T2 S576\n",
      "\n",
      "Blocked\n",
      "Avoidance H\n",
      "{'f': 0, 'e': 0, 'h': 0, 'c': 0, 'g': 1, 'b': 0, 'i': 0, 'a': 0, 'd': 0, 'm': 0, 'k': 0, 'j': 1, 'l': 0}\n",
      " M0 X4600.13 Y5144.13 A-554.89 T2 S576\n",
      "\n",
      "Blocked\n",
      "Avoidance H\n",
      "{'f': 0, 'e': 0, 'h': 0, 'c': 0, 'g': 1, 'b': 1, 'i': 0, 'a': 0, 'd': 0, 'm': 0, 'k': 0, 'j': 1, 'l': 0}\n",
      " M0 X4599.96 Y5144.18 A-555.04 T2 S578\n",
      "\n",
      "Blocked\n",
      "Avoidance H\n",
      "{'f': 0, 'e': 0, 'h': 0, 'c': 0, 'g': 1, 'b': 0, 'i': 0, 'a': 0, 'd': 0, 'm': 0, 'k': 0, 'j': 1, 'l': 0}\n",
      " M0 X4600.53 Y5144.03 A-554.78 T2 S576\n",
      "\n",
      "Blocked\n",
      "Avoidance H\n",
      "{'f': 0, 'e': 0, 'h': 0, 'c': 0, 'g': 1, 'b': 0, 'i': 0, 'a': 0, 'd': 0, 'm': 0, 'k': 0, 'j': 1, 'l': 0}\n",
      " M0 X4600.75 Y5143.97 A-555.04 T2 S576\n",
      "\n",
      "Blocked\n",
      "Avoidance H\n",
      "{'f': 0, 'e': 0, 'h': 0, 'c': 0, 'g': 1, 'b': 0, 'i': 0, 'a': 0, 'd': 0, 'm': 0, 'k': 0, 'j': 1, 'l': 0}\n",
      " M0 X4600.62 Y5144.00 A-555.01 T2 S576\n",
      "\n",
      "Blocked\n",
      "Avoidance H\n",
      "Bottle selected: 4269.0 5233.0 343.4332403621401\n",
      "{'f': 0, 'e': 0, 'h': 0, 'c': 0, 'g': 1, 'b': 0, 'i': 0, 'a': 0, 'd': 0, 'm': 0, 'k': 0, 'j': 1, 'l': 0}\n",
      " M0 X4600.53 Y5144.03 A-555.01 T2 S576\n",
      "\n",
      "Blocked\n",
      "Avoidance H\n",
      "{'f': 0, 'e': 0, 'h': 0, 'c': 0, 'g': 1, 'b': 0, 'i': 0, 'a': 0, 'd': 0, 'm': 0, 'k': 0, 'j': 1, 'l': 0}\n",
      " M0 X4600.49 Y5144.04 A-555.04 T2 S576\n",
      "\n",
      "Blocked\n",
      "Avoidance H\n",
      "{'f': 0, 'e': 0, 'h': 0, 'c': 0, 'g': 1, 'b': 0, 'i': 0, 'a': 0, 'd': 0, 'm': 0, 'k': 1, 'j': 1, 'l': 0}\n",
      " M0 X4600.31 Y5144.09 A-554.97 T0 S1600\n",
      "\n",
      "Arrived\n",
      "Spot :  [3800, 7500, 0]\n",
      "{'f': 0, 'e': 0, 'h': 0, 'c': 0, 'g': 0, 'b': 0, 'i': 0, 'a': 0, 'd': 0, 'm': 0, 'k': 0, 'j': 0, 'l': 0}\n",
      " M0 X3838.52 Y7296.27 A-618.99 T1 S0\n",
      "\n",
      "Timeout\n",
      "{'f': 0, 'e': 0, 'h': 0, 'c': 0, 'g': 0, 'b': 0, 'i': 0, 'a': 0, 'd': 0, 'm': 0, 'k': 0, 'j': 0, 'l': 0}\n",
      " M0 X3814.00 Y7415.28 A-618.54 T1 S0\n",
      "\n",
      "Timeout\n",
      "Data Received TCP: ['4805.0,5623.0', '4827.0,5638.0', '5418.0,4836.0', '5629.0,5038.0', '5066.0,4904.0', '4247.0,5371.0', '4200.0,5473.0', '4339.0,5484.0', '4374.0,5505.0', '4242.0,5359.0', '4336.0,5483.0', '4371.0,5504.0', '4391.0,5517.0', '4244.0,5365.0', '4163.0,5341.0', '4313.0,5521.0', '4282.0,5495.0', '4233.0,5447.0', '3959.0,5804.0', '3957.0,6417.0', '3854.0,6801.0', '3629.0,7575.0', '3972.0,7636.0', '3511.0,7697.0', '3543.0,7755.0']\n",
      "Bottle selected: 3629.0 7575.0 470.81405114276686\n",
      "{'f': 0, 'e': 0, 'h': 0, 'c': 0, 'g': 0, 'b': 0, 'i': 0, 'a': 0, 'd': 0, 'm': 0, 'k': 0, 'j': 0, 'l': 0}\n",
      " M0 X3731.44 Y7526.43 A-571.37 T1 S0\n",
      "\n",
      "Timeout\n",
      "Bottle selected: 3629.0 7575.0 149.3885283577155\n",
      "Bottle selected: 3629.0 7575.0 149.3885283577155\n",
      "Spot :  [3800, 5500, 0]\n",
      "{'f': 0, 'e': 0, 'h': 0, 'c': 0, 'g': 0, 'b': 0, 'i': 0, 'a': 0, 'd': 0, 'm': 0, 'k': 0, 'j': 0, 'l': 0}\n",
      " M0 X3953.32 Y6137.61 A-820.89 T1 S0\n",
      "\n",
      "Timeout\n",
      "{'f': 0, 'e': 0, 'h': 0, 'c': 0, 'g': 0, 'b': 0, 'i': 0, 'a': 0, 'd': 0, 'm': 0, 'k': 0, 'j': 0, 'l': 0}\n",
      " M0 X3842.62 Y5639.28 A-824.65 T1 S0\n",
      "\n",
      "Timeout\n",
      "Data Received TCP: ['3501.0,7778.0', '3951.0,7892.0', '3551.0,7823.0', '4209.0,7592.0', '4386.0,6736.0', '3993.0,5733.0', '3668.0,5775.0', '4040.0,5749.0', '3952.0,5390.0', '3557.0,5463.0', '4022.0,5418.0']\n",
      "Bottle selected: 3952.0 5390.0 502.2679188462563\n",
      "{'f': 0, 'e': 0, 'h': 0, 'c': 0, 'g': 0, 'b': 0, 'i': 0, 'a': 0, 'd': 0, 'm': 0, 'k': 0, 'j': 0, 'l': 0}\n",
      " M0 X3871.74 Y5484.96 A-775.68 T1 S0\n",
      "\n",
      "Timeout\n",
      "Bottle selected: 3952.0 5390.0 159.64106847294693\n",
      "Bottle selected: 3952.0 5390.0 159.64106847294693\n",
      "Spot :  [7500, 5500, 0]\n",
      "{'f': 0, 'e': 1, 'h': 0, 'c': 0, 'g': 0, 'b': 0, 'i': 0, 'a': 0, 'd': 0, 'm': 0, 'k': 0, 'j': 0, 'l': 0}\n",
      " M0 X4197.12 Y5322.94 A-721.83 T2 S16\n",
      "\n",
      "Blocked\n",
      "{'f': 0, 'e': 0, 'h': 0, 'c': 0, 'g': 0, 'b': 0, 'i': 0, 'a': 0, 'd': 0, 'm': 0, 'k': 0, 'j': 0, 'l': 0}\n",
      " M0 X4084.30 Y5338.08 A-739.56 T1 S0\n",
      "\n",
      "Timeout\n",
      "{'f': 0, 'e': 0, 'h': 0, 'c': 0, 'g': 0, 'b': 0, 'i': 0, 'a': 0, 'd': 0, 'm': 0, 'k': 0, 'j': 0, 'l': 0}\n",
      " M0 X4188.16 Y5394.05 A-659.71 T1 S0\n",
      "\n",
      "Timeout\n",
      "{'f': 0, 'e': 0, 'h': 0, 'c': 0, 'g': 0, 'b': 0, 'i': 0, 'a': 0, 'd': 0, 'm': 0, 'k': 0, 'j': 0, 'l': 0}\n",
      " M0 X4213.00 Y5537.33 A-627.76 T1 S0\n",
      "\n",
      "Timeout\n",
      "{'f': 0, 'e': 0, 'h': 0, 'c': 0, 'g': 1, 'b': 0, 'i': 0, 'a': 0, 'd': 0, 'm': 0, 'k': 0, 'j': 0, 'l': 0}\n",
      " M0 X5164.11 Y5767.66 A-724.91 T2 S64\n",
      "\n",
      "Blocked\n",
      "{'f': 0, 'e': 0, 'h': 0, 'c': 0, 'g': 0, 'b': 0, 'i': 0, 'a': 0, 'd': 0, 'm': 0, 'k': 0, 'j': 0, 'l': 0}\n",
      " M0 X5076.94 Y5792.86 A-755.60 T1 S0\n",
      "\n",
      "Timeout\n",
      "{'f': 0, 'e': 0, 'h': 0, 'c': 0, 'g': 0, 'b': 0, 'i': 0, 'a': 0, 'd': 0, 'm': 0, 'k': 0, 'j': 0, 'l': 0}\n",
      " M0 X5043.73 Y5808.75 A-730.22 T1 S0\n",
      "\n",
      "Timeout\n",
      "{'f': 0, 'e': 0, 'h': 0, 'c': 0, 'g': 0, 'b': 0, 'i': 0, 'a': 0, 'd': 1, 'm': 0, 'k': 0, 'j': 0, 'l': 0}\n",
      " M0 X5158.21 Y5760.50 A-773.83 T1 S8\n",
      "\n",
      "Timeout\n",
      "{'f': 0, 'e': 0, 'h': 0, 'c': 0, 'g': 0, 'b': 0, 'i': 0, 'a': 0, 'd': 0, 'm': 0, 'k': 0, 'j': 0, 'l': 0}\n",
      " M0 X5177.05 Y5587.98 A-825.18 T1 S0\n",
      "\n",
      "Timeout\n",
      "Data Received TCP: ['3510.0,5262.0', '4270.0,5448.0', '3865.0,5011.0', '3848.0,5012.0', '4221.0,5146.0']\n",
      "Bottle selected: 4270.0 5448.0 1314.0700239882503\n",
      "{'f': 0, 'e': 0, 'h': 0, 'c': 0, 'g': 0, 'b': 0, 'i': 0, 'a': 0, 'd': 0, 'm': 0, 'k': 0, 'j': 0, 'l': 0}\n",
      " M0 X4487.22 Y5370.97 A-913.28 T1 S0\n",
      "\n",
      "Timeout\n"
     ]
    },
    {
     "ename": "KeyboardInterrupt",
     "evalue": "",
     "output_type": "error",
     "traceback": [
      "\u001b[0;31m---------------------------------------------------------------------------\u001b[0m",
      "\u001b[0;31mKeyboardInterrupt\u001b[0m                         Traceback (most recent call last)",
      "\u001b[0;32m<ipython-input-44-95d89f366887>\u001b[0m in \u001b[0;36m<module>\u001b[0;34m\u001b[0m\n\u001b[1;32m     19\u001b[0m                 \u001b[0mprint\u001b[0m\u001b[0;34m(\u001b[0m\u001b[0;34m'Bottle selected:'\u001b[0m\u001b[0;34m,\u001b[0m \u001b[0mBottle_X\u001b[0m\u001b[0;34m,\u001b[0m\u001b[0mBottle_Y\u001b[0m\u001b[0;34m,\u001b[0m\u001b[0mBottle_Score\u001b[0m\u001b[0;34m)\u001b[0m\u001b[0;34m\u001b[0m\u001b[0m\n\u001b[1;32m     20\u001b[0m                 \u001b[0;32mif\u001b[0m \u001b[0mValid\u001b[0m\u001b[0;34m:\u001b[0m\u001b[0;34m\u001b[0m\u001b[0m\n\u001b[0;32m---> 21\u001b[0;31m                     \u001b[0mrobot_Instance\u001b[0m\u001b[0;34m.\u001b[0m\u001b[0mGo_To\u001b[0m\u001b[0;34m(\u001b[0m\u001b[0mBottle_X\u001b[0m\u001b[0;34m,\u001b[0m\u001b[0mBottle_Y\u001b[0m\u001b[0;34m,\u001b[0m\u001b[0mBottle_Score\u001b[0m\u001b[0;34m)\u001b[0m\u001b[0;34m\u001b[0m\u001b[0m\n\u001b[0m\u001b[1;32m     22\u001b[0m \u001b[0;34m\u001b[0m\u001b[0m\n\u001b[1;32m     23\u001b[0m                 \u001b[0;32melse\u001b[0m\u001b[0;34m:\u001b[0m\u001b[0;34m\u001b[0m\u001b[0m\n",
      "\u001b[0;32m~/STI_Robotic_Competition_Software/Architecture/robot.py\u001b[0m in \u001b[0;36mGo_To\u001b[0;34m(self, X, Y, R, level, Max_Level, Avoidance)\u001b[0m\n\u001b[1;32m    140\u001b[0m             \u001b[0mself\u001b[0m\u001b[0;34m.\u001b[0m\u001b[0mSend_Go_To_Coordinate\u001b[0m\u001b[0;34m(\u001b[0m\u001b[0mSet_Coordinate\u001b[0m\u001b[0;34m)\u001b[0m\u001b[0;34m\u001b[0m\u001b[0m\n\u001b[1;32m    141\u001b[0m             \u001b[0mself\u001b[0m\u001b[0;34m.\u001b[0m\u001b[0mIncrement_Nb_Try_Goal\u001b[0m\u001b[0;34m(\u001b[0m\u001b[0;34m)\u001b[0m\u001b[0;34m\u001b[0m\u001b[0m\n\u001b[0;32m--> 142\u001b[0;31m             \u001b[0mM0_State\u001b[0m\u001b[0;34m,\u001b[0m \u001b[0mOutput\u001b[0m\u001b[0;34m=\u001b[0m\u001b[0mself\u001b[0m\u001b[0;34m.\u001b[0m\u001b[0mWait_For_M3_Answer\u001b[0m\u001b[0;34m(\u001b[0m\u001b[0;34m(\u001b[0m\u001b[0mTimeout\u001b[0m\u001b[0;34m*\u001b[0m\u001b[0;36m1.2\u001b[0m\u001b[0;34m+\u001b[0m\u001b[0;36m2000\u001b[0m\u001b[0;34m)\u001b[0m\u001b[0;34m/\u001b[0m\u001b[0;36m1000\u001b[0m\u001b[0;34m)\u001b[0m\u001b[0;34m\u001b[0m\u001b[0m\n\u001b[0m\u001b[1;32m    143\u001b[0m             \u001b[0;32mif\u001b[0m\u001b[0;34m(\u001b[0m\u001b[0mM0_State\u001b[0m\u001b[0;34m==\u001b[0m \u001b[0;32mFalse\u001b[0m\u001b[0;34m)\u001b[0m\u001b[0;34m:\u001b[0m\u001b[0;34m\u001b[0m\u001b[0m\n\u001b[1;32m    144\u001b[0m                 \u001b[0mprint\u001b[0m\u001b[0;34m(\u001b[0m\u001b[0;34m'STM32 Lack of answer'\u001b[0m\u001b[0;34m)\u001b[0m\u001b[0;34m\u001b[0m\u001b[0m\n",
      "\u001b[0;32m~/STI_Robotic_Competition_Software/Architecture/robot.py\u001b[0m in \u001b[0;36mWait_For_M3_Answer\u001b[0;34m(self, Timeout)\u001b[0m\n\u001b[1;32m    103\u001b[0m         \u001b[0;32mwhile\u001b[0m\u001b[0;34m(\u001b[0m\u001b[0;32mTrue\u001b[0m\u001b[0;34m)\u001b[0m\u001b[0;34m:\u001b[0m\u001b[0;34m\u001b[0m\u001b[0m\n\u001b[1;32m    104\u001b[0m             \u001b[0mMessage\u001b[0m\u001b[0;34m=\u001b[0m\u001b[0mself\u001b[0m\u001b[0;34m.\u001b[0m\u001b[0mCollect_Message\u001b[0m\u001b[0;34m(\u001b[0m\u001b[0;34m)\u001b[0m\u001b[0;34m\u001b[0m\u001b[0m\n\u001b[0;32m--> 105\u001b[0;31m             \u001b[0;32mif\u001b[0m\u001b[0;34m(\u001b[0m\u001b[0;34m(\u001b[0m\u001b[0mtime\u001b[0m\u001b[0;34m.\u001b[0m\u001b[0mtime\u001b[0m\u001b[0;34m(\u001b[0m\u001b[0;34m)\u001b[0m\u001b[0;34m-\u001b[0m\u001b[0mStart_Time\u001b[0m\u001b[0;34m)\u001b[0m\u001b[0;34m>\u001b[0m\u001b[0mTimeout\u001b[0m \u001b[0;32mand\u001b[0m \u001b[0mMessage\u001b[0m\u001b[0;34m==\u001b[0m\u001b[0;32mNone\u001b[0m\u001b[0;34m)\u001b[0m\u001b[0;34m:\u001b[0m\u001b[0;34m\u001b[0m\u001b[0m\n\u001b[0m\u001b[1;32m    106\u001b[0m                 \u001b[0;32mreturn\u001b[0m \u001b[0;32mNone\u001b[0m\u001b[0;34m,\u001b[0m \u001b[0;32mNone\u001b[0m\u001b[0;34m\u001b[0m\u001b[0m\n\u001b[1;32m    107\u001b[0m             \u001b[0;32melif\u001b[0m\u001b[0;34m(\u001b[0m\u001b[0mMessage\u001b[0m \u001b[0;32mis\u001b[0m \u001b[0;32mnot\u001b[0m \u001b[0;32mNone\u001b[0m\u001b[0;34m)\u001b[0m\u001b[0;34m:\u001b[0m\u001b[0;34m\u001b[0m\u001b[0m\n",
      "\u001b[0;31mKeyboardInterrupt\u001b[0m: "
     ]
    }
   ],
   "source": [
    "robot_Instance.Empty_TCP()\n",
    "Spot_List =[Spot_Init,[1000,2600,0],[6500,2600,0],[6500,5000,0],[4500,5000,0],[4500,7500,0],[3800,7500,0],[3800,5500,0],[7500,5500,0],[7500,500,0],[2500,500,0],[2500,4000,0],[7000,4000,0],[7000,1500,0],[3500,1500,0],[700,3500,0],[5500,3500,0],[5500,4200,0],[700,4200,0]]\n",
    "for Spot in Spot_List:\n",
    "    print('Spot : ', Spot)\n",
    "    robot_Instance.Clear_Read_Buffer()\n",
    "    robot_Instance.Clear_Bottle_List()\n",
    "    robot_Instance.Go_To(Spot[0],Spot[1],Spot[2])\n",
    "\n",
    "    #Robot is now arrived to a position\n",
    "    Data=robot_Instance.Get_Data_TCP()#Collect bottles from TCP Communication\n",
    "    print('Data Received TCP:', Data)\n",
    "    for Bottle_N in range(3):#Try to catch 3 Bottle\n",
    "        List=robot_Instance.Update_Bottle_List(Data)#Update our internal lsit\n",
    "        Bottle_List= robot_Instance.Get_Bottle_List()\n",
    "        if Bottle_List!=[]:\n",
    "            Bottle_X, Bottle_Y, Bottle_Score= robot_Instance.Get_Nearest_Bottle()\n",
    "            if Bottle_X!=None and Bottle_Y!= None and Bottle_Score!=None:\n",
    "                Bottle_X_Extended, Bottle_Y_Extended, Valid=robot_Instance.Extend_Coordinate((Bottle_X, Bottle_Y),Distance=800)\n",
    "                print('Bottle selected:', Bottle_X,Bottle_Y,Bottle_Score, ' Extended', Bottle_X_Extended,Bottle_Y_Extended)\n",
    "                if Valid:\n",
    "                    robot_Instance.Go_To(Bottle_X,Bottle_Y,Bottle_Score)\n",
    "                    \n",
    "                else:\n",
    "                    robot_Instance.Clean_Bottle_Of_Position((Bottle_X_Extended, Bottle_Y_Extended))\n",
    "            else:# No more bottle\n",
    "                print('No bottle')\n",
    "                break;\n",
    "        else:\n",
    "            print(\"Empty List\")\n"
   ]
  },
  {
   "cell_type": "code",
   "execution_count": 16,
   "metadata": {},
   "outputs": [
    {
     "name": "stdout",
     "output_type": "stream",
     "text": [
      "(6885.27, 2497.38, 178.04)\n"
     ]
    }
   ],
   "source": [
    "Bottle_List= robot_Instance.Get_Robot_Position()\n",
    "print(Bottle_List)"
   ]
  },
  {
   "cell_type": "code",
   "execution_count": 17,
   "metadata": {},
   "outputs": [
    {
     "data": {
      "text/plain": [
       "(4137.0, 7808.0)"
      ]
     },
     "execution_count": 17,
     "metadata": {},
     "output_type": "execute_result"
    }
   ],
   "source": [
    "Bottle_X_Extended, Bottle_Y_Extended"
   ]
  },
  {
   "cell_type": "code",
   "execution_count": 12,
   "metadata": {},
   "outputs": [],
   "source": [
    "robot_Instance.Clear_Bottle_List()"
   ]
  },
  {
   "cell_type": "code",
   "execution_count": 31,
   "metadata": {},
   "outputs": [
    {
     "name": "stdout",
     "output_type": "stream",
     "text": [
      "3990.39 7512.51\n",
      "3792.3552380456076 7086.044330961104\n"
     ]
    }
   ],
   "source": [
    "import math\n",
    "X,Y,A=robot_Instance.Get_Robot_Position()\n",
    "X_Bottle, Y_Bottle= Bottle_X_Extended, Bottle_Y_Extended\n",
    "Error_X=X_Bottle-X;\n",
    "Error_Y=Y_Bottle-Y;\n",
    "Angle_Des=math.atan2(Error_Y,Error_X)\n",
    "Angle_Des2=Angle_Des-math.radians(A)\n",
    "X_New=X_Bottle+math.cos((Angle_Des2))*800\n",
    "Y_New=Y_Bottle+math.sin((Angle_Des2))*800\n",
    "print(X,Y)\n",
    "print(X_New,Y_New)"
   ]
  },
  {
   "cell_type": "code",
   "execution_count": 40,
   "metadata": {},
   "outputs": [
    {
     "name": "stdout",
     "output_type": "stream",
     "text": [
      "2000 0\n",
      "434.3145750507621 1565.685424949238\n"
     ]
    }
   ],
   "source": [
    "import math\n",
    "X,Y,A=4000,8000,90\n",
    "X_Bottle, Y_Bottle= 4000,7800\n",
    "Error_X=X_Bottle-X;\n",
    "Error_Y=Y_Bottle-Y;\n",
    "Angle_Des=math.atan2(Error_Y,Error_X)\n",
    "\n",
    "X_New=X_Bottle+math.cos((Angle_Des))*800\n",
    "Y_New=Y_Bottle+math.sin((Angle_Des))*800\n",
    "print(X,Y)\n",
    "print(X_New,Y_New)"
   ]
  },
  {
   "cell_type": "code",
   "execution_count": 41,
   "metadata": {},
   "outputs": [
    {
     "data": {
      "text/plain": [
       "(3990.39, 7512.51, 179.13)"
      ]
     },
     "execution_count": 41,
     "metadata": {},
     "output_type": "execute_result"
    }
   ],
   "source": [
    "robot_Instance.Get_Robot_Position()"
   ]
  },
  {
   "cell_type": "code",
   "execution_count": null,
   "metadata": {},
   "outputs": [],
   "source": [
    "robot_Instance.Set_Robot_Position(0,250,90,True)\n",
    "robot_Instance.Set_Robot_Speed(150)\n",
    "robot_Instance.Set_Max_Try_Single_Goal(12)\n",
    "\n",
    "Data=robot_Instance.Get_Data_TCP()\n",
    "if "
   ]
  },
  {
   "cell_type": "code",
   "execution_count": 9,
   "metadata": {},
   "outputs": [],
   "source": [
    "robot_Instance.Wait_For_A_Message(0.2)"
   ]
  },
  {
   "cell_type": "code",
   "execution_count": 45,
   "metadata": {},
   "outputs": [
    {
     "name": "stdout",
     "output_type": "stream",
     "text": [
      "('G0 X2000 Y1500 T10000 R0\\r\\n', 'M201 H0 S500\\r\\n', 'M3 H3\\r\\n')\n"
     ]
    }
   ],
   "source": [
    "robot_Instance.Send_Go_To_Coordinate([2000,1500,500,10000,0])"
   ]
  },
  {
   "cell_type": "code",
   "execution_count": null,
   "metadata": {},
   "outputs": [],
   "source": []
  }
 ],
 "metadata": {
  "kernelspec": {
   "display_name": "Python 3",
   "language": "python",
   "name": "python3"
  },
  "language_info": {
   "codemirror_mode": {
    "name": "ipython",
    "version": 3
   },
   "file_extension": ".py",
   "mimetype": "text/x-python",
   "name": "python",
   "nbconvert_exporter": "python",
   "pygments_lexer": "ipython3",
   "version": "3.5.3"
  }
 },
 "nbformat": 4,
 "nbformat_minor": 2
}
