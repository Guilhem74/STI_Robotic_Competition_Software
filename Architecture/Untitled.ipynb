{
 "cells": [
  {
   "cell_type": "code",
   "execution_count": 1,
   "metadata": {},
   "outputs": [],
   "source": [
    "%load_ext autoreload"
   ]
  },
  {
   "cell_type": "code",
   "execution_count": 2,
   "metadata": {},
   "outputs": [],
   "source": [
    "%autoreload 2\n",
    "import robot as Robot\n",
    "import  time\n",
    "\n",
    "robot_Instance= Robot.Robot_Class(6000,1000,90)"
   ]
  },
  {
   "cell_type": "code",
   "execution_count": 4,
   "metadata": {
    "scrolled": false
   },
   "outputs": [
    {
     "name": "stdout",
     "output_type": "stream",
     "text": [
      "Going to 3000   0 with R 0 level 0\n",
      "('G0 X3000 Y0 T4800 R0\\r\\n', 'M201 H0 S750\\r\\n', 'M3 H3\\r\\n')\n",
      "{'h': 0, 'd': 0, 'a': 0, 'b': 0, 'l': 1, 'k': 0, 'j': 0, 'f': 0, 'c': 0, 'g': 0, 'm': 0, 'e': 0, 'i': 0}\n",
      " M0 X427.25 Y8.29 A1.17 T2 S2048\n",
      "\n",
      "Blocked\n",
      "Front go to left 421.12432007155985 308.22745355559437\n",
      "Going to 421.12432007155985   308.22745355559437 with R 0 level 1\n",
      "('G0 X421.0 Y308.0 T1000 R0\\r\\n', 'M201 H0 S750\\r\\n', 'M3 H3\\r\\n')\n",
      "{'h': 0, 'd': 0, 'a': 0, 'b': 0, 'l': 1, 'k': 0, 'j': 0, 'f': 0, 'c': 0, 'g': 0, 'm': 0, 'e': 0, 'i': 0}\n",
      " M0 X431.64 Y6.61 A11.95 T1 S2048\n",
      "\n",
      "Timeout\n",
      "End of 1\n",
      "('G0 X3000 Y0 T4800 R0\\r\\n', 'M201 H0 S750\\r\\n', 'M3 H3\\r\\n')\n",
      "{'h': 0, 'd': 0, 'a': 0, 'b': 0, 'l': 1, 'k': 0, 'j': 0, 'f': 0, 'c': 0, 'g': 0, 'm': 0, 'e': 0, 'i': 0}\n",
      " M0 X426.42 Y5.73 A4.86 T2 S2048\n",
      "\n",
      "Blocked\n",
      "Front go to left 401.003603357378 304.65140569337774\n",
      "Going to 401.003603357378   304.65140569337774 with R 0 level 1\n",
      "('G0 X401.0 Y305.0 T1000 R0\\r\\n', 'M201 H0 S750\\r\\n', 'M3 H3\\r\\n')\n",
      "{'h': 0, 'd': 0, 'a': 0, 'b': 0, 'l': 1, 'k': 0, 'j': 0, 'f': 0, 'c': 0, 'g': 0, 'm': 0, 'e': 0, 'i': 0}\n",
      " M0 X400.75 Y-3.04 A23.51 T1 S2048\n",
      "\n",
      "Timeout\n",
      "End of 1\n",
      "('G0 X3000 Y0 T4800 R0\\r\\n', 'M201 H0 S750\\r\\n', 'M3 H3\\r\\n')\n",
      "{'h': 0, 'd': 0, 'a': 0, 'b': 0, 'l': 0, 'k': 0, 'j': 0, 'f': 0, 'c': 0, 'g': 0, 'm': 1, 'e': 0, 'i': 0}\n",
      " M0 X396.94 Y-4.22 A5.03 T2 S4096\n",
      "\n",
      "Blocked\n",
      "Front go to left 370.6367988697353 294.6246780692285\n",
      "Going to 370.6367988697353   294.6246780692285 with R 0 level 1\n",
      "('G0 X371.0 Y295.0 T1000 R0\\r\\n', 'M201 H0 S750\\r\\n', 'M3 H3\\r\\n')\n",
      "{'h': 0, 'd': 0, 'a': 0, 'b': 0, 'l': 1, 'k': 0, 'j': 0, 'f': 0, 'c': 0, 'g': 0, 'm': 0, 'e': 0, 'i': 0}\n",
      " M0 X378.33 Y-16.67 A33.02 T1 S2048\n",
      "\n",
      "Timeout\n",
      "End of 1\n",
      "('G0 X3000 Y0 T4800 R0\\r\\n', 'M201 H0 S750\\r\\n', 'M3 H3\\r\\n')\n",
      "{'h': 0, 'd': 0, 'a': 0, 'b': 0, 'l': 0, 'k': 1, 'j': 0, 'f': 0, 'c': 0, 'g': 0, 'm': 1, 'e': 0, 'i': 0}\n",
      " M0 X378.47 Y-16.05 A5.35 T2 S5120\n",
      "\n",
      "Blocked\n",
      "Front go to left 350.49815423435 282.6431131520489\n",
      "Going to 350.49815423435   282.6431131520489 with R 0 level 1\n",
      "('G0 X350.0 Y283.0 T1000 R0\\r\\n', 'M201 H0 S750\\r\\n', 'M3 H3\\r\\n')\n",
      "{'h': 0, 'd': 0, 'a': 0, 'b': 0, 'l': 1, 'k': 0, 'j': 0, 'f': 0, 'c': 0, 'g': 0, 'm': 0, 'e': 0, 'i': 0}\n",
      " M0 X363.49 Y-29.61 A40.93 T1 S2048\n",
      "\n",
      "Timeout\n",
      "End of 1\n",
      "('G0 X3000 Y0 T4800 R0\\r\\n', 'M201 H0 S750\\r\\n', 'M3 H3\\r\\n')\n",
      "{'h': 0, 'd': 0, 'a': 0, 'b': 0, 'l': 0, 'k': 1, 'j': 0, 'f': 0, 'c': 0, 'g': 0, 'm': 1, 'e': 0, 'i': 0}\n",
      " M0 X362.43 Y-29.95 A5.59 T2 S5120\n",
      "\n",
      "Blocked\n",
      "Front go to left 333.2072405026796 268.6233248757527\n",
      "Going to 333.2072405026796   268.6233248757527 with R 0 level 1\n",
      "('G0 X333.0 Y269.0 T1000 R0\\r\\n', 'M201 H0 S750\\r\\n', 'M3 H3\\r\\n')\n",
      "{'h': 0, 'd': 0, 'a': 0, 'b': 0, 'l': 1, 'k': 0, 'j': 0, 'f': 0, 'c': 0, 'g': 0, 'm': 0, 'e': 1, 'i': 0}\n",
      " M0 X355.16 Y-42.05 A47.35 T1 S2064\n",
      "\n",
      "Timeout\n",
      "End of 1\n",
      "('G0 X3000 Y0 T4800 R0\\r\\n', 'M201 H0 S750\\r\\n', 'M3 H3\\r\\n')\n",
      "{'h': 0, 'd': 0, 'a': 0, 'b': 0, 'l': 1, 'k': 0, 'j': 0, 'f': 0, 'c': 0, 'g': 0, 'm': 0, 'e': 1, 'i': 0}\n",
      " M0 X353.39 Y-44.01 A47.96 T2 S2064\n",
      "\n",
      "Blocked\n",
      "Front go to left 130.58674906184368 156.88477686437983\n",
      "Going to 130.58674906184368   156.88477686437983 with R 0 level 1\n",
      "('G0 X131.0 Y157.0 T1000 R0\\r\\n', 'M201 H0 S750\\r\\n', 'M3 H3\\r\\n')\n",
      "{'h': 0, 'd': 0, 'a': 0, 'b': 0, 'l': 1, 'k': 0, 'j': 0, 'f': 0, 'c': 0, 'g': 0, 'm': 0, 'e': 1, 'i': 0}\n",
      " M0 X330.16 Y-77.53 A62.45 T1 S2064\n",
      "\n",
      "Timeout\n",
      "End of 1\n",
      "('G0 X3000 Y0 T4800 R0\\r\\n', 'M201 H0 S750\\r\\n', 'M3 H3\\r\\n')\n",
      "{'h': 0, 'd': 0, 'a': 0, 'b': 0, 'l': 0, 'k': 0, 'j': 0, 'f': 0, 'c': 0, 'g': 0, 'm': 0, 'e': 1, 'i': 0}\n",
      " M0 X328.24 Y-81.34 A63.75 T2 S16\n",
      "\n",
      "Blocked\n",
      "Front go to left 59.17817754019353 51.3466070657004\n",
      "Going to 59.17817754019353   51.3466070657004 with R 0 level 1\n",
      "('G0 X59.0 Y51.0 T1000 R0\\r\\n', 'M201 H0 S750\\r\\n', 'M3 H3\\r\\n')\n",
      "{'h': 0, 'd': 0, 'a': 0, 'b': 0, 'l': 0, 'k': 0, 'j': 0, 'f': 0, 'c': 0, 'g': 0, 'm': 0, 'e': 0, 'i': 0}\n",
      " M0 X314.41 Y-66.57 A106.33 T1 S0\n",
      "\n",
      "Timeout\n",
      "End of 1\n",
      "('G0 X3000 Y0 T4800 R0\\r\\n', 'M201 H0 S750\\r\\n', 'M3 H3\\r\\n')\n",
      "{'h': 0, 'd': 0, 'a': 0, 'b': 0, 'l': 1, 'k': 0, 'j': 0, 'f': 0, 'c': 0, 'g': 0, 'm': 0, 'e': 1, 'i': 0}\n",
      " M0 X480.07 Y-187.20 A71.69 T2 S2064\n",
      "\n",
      "Blocked\n",
      "Avoidance not found 480.07 -187.2\n",
      "End of 0\n",
      "17.51076316833496\n"
     ]
    }
   ],
   "source": [
    "Start=time.time()\n",
    "while((robot_Instance.Wait_For_A_Message(0.2))!=None):\n",
    "    pass\n",
    "robot_Instance.Set_Robot_Position(0,0,0,True)\n",
    "robot_Instance.Clear_Read_Buffer()\n",
    "robot_Instance.Go_To(1000,0,0)\n",
    "print(time.time()-Start)"
   ]
  },
  {
   "cell_type": "code",
   "execution_count": null,
   "metadata": {},
   "outputs": [],
   "source": [
    "\n"
   ]
  },
  {
   "cell_type": "code",
   "execution_count": null,
   "metadata": {},
   "outputs": [
    {
     "name": "stderr",
     "output_type": "stream",
     "text": [
      "Exception in thread Thread-5:\n",
      "Traceback (most recent call last):\n",
      "  File \"/home/pi/.local/lib/python3.5/site-packages/serial/serialposix.py\", line 501, in read\n",
      "    'device reports readiness to read but returned no data '\n",
      "serial.serialutil.SerialException: device reports readiness to read but returned no data (device disconnected or multiple access on port?)\n",
      "\n",
      "During handling of the above exception, another exception occurred:\n",
      "\n",
      "Traceback (most recent call last):\n",
      "  File \"/usr/lib/python3.5/threading.py\", line 914, in _bootstrap_inner\n",
      "    self.run()\n",
      "  File \"/usr/lib/python3.5/threading.py\", line 862, in run\n",
      "    self._target(*self._args, **self._kwargs)\n",
      "  File \"/home/pi/STI_Robotic_Competition_Software/Architecture/Serial_.py\", line 32, in read_from_port\n",
      "    reading = self.ser.readline().decode('utf-8')\n",
      "  File \"/home/pi/.local/lib/python3.5/site-packages/serial/serialposix.py\", line 509, in read\n",
      "    raise SerialException('read failed: {}'.format(e))\n",
      "serial.serialutil.SerialException: read failed: device reports readiness to read but returned no data (device disconnected or multiple access on port?)\n",
      "\n"
     ]
    }
   ],
   "source": [
    "robot_Instance.Wait_For_A_Message(0.2)"
   ]
  },
  {
   "cell_type": "code",
   "execution_count": null,
   "metadata": {},
   "outputs": [],
   "source": []
  },
  {
   "cell_type": "code",
   "execution_count": null,
   "metadata": {},
   "outputs": [],
   "source": []
  }
 ],
 "metadata": {
  "kernelspec": {
   "display_name": "Python 3",
   "language": "python",
   "name": "python3"
  },
  "language_info": {
   "codemirror_mode": {
    "name": "ipython",
    "version": 3
   },
   "file_extension": ".py",
   "mimetype": "text/x-python",
   "name": "python",
   "nbconvert_exporter": "python",
   "pygments_lexer": "ipython3",
   "version": "3.5.3"
  }
 },
 "nbformat": 4,
 "nbformat_minor": 2
}
