{
 "cells": [
  {
   "cell_type": "code",
   "execution_count": 1,
   "metadata": {},
   "outputs": [],
   "source": [
    "%load_ext autoreload"
   ]
  },
  {
   "cell_type": "code",
   "execution_count": 2,
   "metadata": {},
   "outputs": [],
   "source": [
    "%autoreload 2\n",
    "import robot as Robot\n",
    "import  time\n",
    "\n",
    "robot_Instance= Robot.Robot_Class(6000,1000,90)"
   ]
  },
  {
   "cell_type": "code",
   "execution_count": 6,
   "metadata": {
    "scrolled": false
   },
   "outputs": [
    {
     "name": "stdout",
     "output_type": "stream",
     "text": [
      "Going to 2000   0 with R 0 level 0\n",
      "('G0 X2000 Y0 T3200 R0\\r\\n', 'M201 H0 S750\\r\\n', 'M3 H3\\r\\n')\n",
      "{'g': 0, 'e': 0, 'i': 0, 'j': 0, 'a': 0, 'c': 0, 'l': 0, 'h': 0, 'd': 0, 'm': 1, 'f': 0, 'k': 0, 'b': 0}\n",
      " M0 X108.74 Y-0.18 A0.01 T2 S4096\n",
      "\n",
      "Blocked\n",
      "{'FrontRight': 1, 'FrontLeft': 1, 'Back': 1, 'Right': 1, 'BackRight': 1, 'Front': 0, 'Left': 1, 'BackLeft': 1}\n",
      "Front go to left 108.68764012270594 299.81999543073874\n",
      "Going to -191.25999543073874   -0.2323598772940345 with R 1 level 1\n",
      "('G0 X-191.0 Y-0.0 T1000 R1\\r\\n', 'M201 H0 S750\\r\\n', 'M3 H3\\r\\n')\n",
      "{'g': 0, 'e': 0, 'i': 0, 'j': 0, 'a': 0, 'c': 0, 'l': 0, 'h': 0, 'd': 0, 'm': 0, 'f': 0, 'k': 0, 'b': 0}\n",
      " M0 X22.84 Y8.79 A-0.20 T1 S0\n",
      "\n",
      "Timeout\n",
      "End of 1\n",
      "Going to 108.68764012270594   299.81999543073874 with R 0 level 1\n",
      "('G0 X109.0 Y300.0 T1000 R0\\r\\n', 'M201 H0 S750\\r\\n', 'M3 H3\\r\\n')\n",
      "{'g': 0, 'e': 0, 'i': 0, 'j': 0, 'a': 0, 'c': 0, 'l': 0, 'h': 0, 'd': 0, 'm': 0, 'f': 0, 'k': 0, 'b': 0}\n",
      " M0 X111.61 Y103.11 A70.93 T1 S0\n",
      "\n",
      "Timeout\n",
      "End of 1\n",
      "('G0 X2000 Y0 T3200 R0\\r\\n', 'M201 H0 S750\\r\\n', 'M3 H3\\r\\n')\n",
      "{'g': 0, 'e': 1, 'i': 0, 'j': 0, 'a': 0, 'c': 0, 'l': 0, 'h': 0, 'd': 0, 'm': 0, 'f': 0, 'k': 0, 'b': 0}\n",
      " M0 X196.50 Y290.63 A54.90 T2 S16\n",
      "\n",
      "Blocked\n",
      "{'FrontRight': 0, 'FrontLeft': 1, 'Back': 1, 'Right': 0, 'BackRight': 1, 'Front': 0, 'Left': 1, 'BackLeft': 1}\n",
      "Avoidance not found 196.5 290.63\n",
      "End of 0\n",
      "3.641263723373413\n"
     ]
    }
   ],
   "source": [
    "Start=time.time()\n",
    "while((robot_Instance.Wait_For_A_Message(0.2))!=None):\n",
    "    pass\n",
    "robot_Instance.Set_Max_Try_Single_Goal(10)\n",
    "robot_Instance.Set_Robot_Position(0,0,0,True)\n",
    "robot_Instance.Clear_Read_Buffer()\n",
    "robot_Instance.Go_To(2000,0,0)\n",
    "print(time.time()-Start)"
   ]
  },
  {
   "cell_type": "code",
   "execution_count": null,
   "metadata": {},
   "outputs": [],
   "source": [
    "\n"
   ]
  },
  {
   "cell_type": "code",
   "execution_count": 4,
   "metadata": {},
   "outputs": [],
   "source": [
    "robot_Instance.Wait_For_A_Message(0.2)"
   ]
  },
  {
   "cell_type": "code",
   "execution_count": null,
   "metadata": {},
   "outputs": [],
   "source": []
  },
  {
   "cell_type": "code",
   "execution_count": null,
   "metadata": {},
   "outputs": [],
   "source": []
  }
 ],
 "metadata": {
  "kernelspec": {
   "display_name": "Python 3",
   "language": "python",
   "name": "python3"
  },
  "language_info": {
   "codemirror_mode": {
    "name": "ipython",
    "version": 3
   },
   "file_extension": ".py",
   "mimetype": "text/x-python",
   "name": "python",
   "nbconvert_exporter": "python",
   "pygments_lexer": "ipython3",
   "version": "3.5.3"
  }
 },
 "nbformat": 4,
 "nbformat_minor": 2
}
