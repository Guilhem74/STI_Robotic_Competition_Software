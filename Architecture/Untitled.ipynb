{
 "cells": [
  {
   "cell_type": "code",
   "execution_count": 1,
   "metadata": {},
   "outputs": [],
   "source": [
    "%load_ext autoreload"
   ]
  },
  {
   "cell_type": "code",
   "execution_count": 2,
   "metadata": {},
   "outputs": [],
   "source": [
    "%autoreload 2\n",
    "import robot as Robot\n",
    "import  time\n",
    "\n",
    "robot_Instance= Robot.Robot_Class(1000,2000,0)\n"
   ]
  },
  {
   "cell_type": "code",
   "execution_count": 3,
   "metadata": {},
   "outputs": [
    {
     "name": "stdout",
     "output_type": "stream",
     "text": [
      "0.0002193450927734375\n",
      "Trying to connect\n",
      "Connected\n",
      "9.778270483016968\n"
     ]
    }
   ],
   "source": [
    "Start=time.time()\n",
    "print(time.time()-Start)\n",
    "robot_Instance.Connect_TCP()\n",
    "print(time.time()-Start)"
   ]
  },
  {
   "cell_type": "code",
   "execution_count": 16,
   "metadata": {},
   "outputs": [
    {
     "name": "stdout",
     "output_type": "stream",
     "text": [
      "0.00022792816162109375\n",
      "['2,2', '2,2', '3,3', '4,4', '5,5']\n",
      "0.040715932846069336\n"
     ]
    }
   ],
   "source": [
    "Start=time.time()\n",
    "print(time.time()-Start)\n",
    "Data=robot_Instance.Get_Data_TCP()\n",
    "print(Data)\n",
    "print(time.time()-Start)"
   ]
  },
  {
   "cell_type": "code",
   "execution_count": 63,
   "metadata": {},
   "outputs": [
    {
     "name": "stdout",
     "output_type": "stream",
     "text": [
      "0.00021767616271972656\n",
      "[(3000.0, 1000.0), (3000.0, 3000.0), (3000.0, 3000.0), (3000.0, 1000.0), (4100.0, 4500.0), (4100.0, 4500.0), (1000.0, 1000.0), (1000.0, 3000.0), (1000.0, 1000.0), (1000.0, 3000.0), (3600.0, 6000.0), (3600.0, 6000.0), (6000.0, 6000.0), (6000.0, 6000.0)]\n",
      "[(3000.0, 3000.0), (3000.0, 3000.0), (3000.0, 1000.0), (3000.0, 1000.0), (4100.0, 4500.0), (4100.0, 4500.0), (1000.0, 3000.0), (1000.0, 3000.0), (1000.0, 1000.0), (1000.0, 1000.0), (3600.0, 6000.0), (3600.0, 6000.0), (6000.0, 6000.0), (6000.0, 6000.0)]\n",
      "0.2201673984527588\n"
     ]
    }
   ],
   "source": [
    "Start=time.time()\n",
    "print(time.time()-Start)\n",
    "robot_Instance.Set_Robot_Position(3000,2100,0)\n",
    "print(robot_Instance.Get_Bottle_List())\n",
    "robot_Instance.Update_Bottle_List()\n",
    "robot_Instance.Set_Bottle_List(robot_Instance.Sort_Bottle_List())\n",
    "print(robot_Instance.Get_Bottle_List())\n",
    "\n",
    "print(time.time()-Start)\n"
   ]
  },
  {
   "cell_type": "code",
   "execution_count": 40,
   "metadata": {},
   "outputs": [],
   "source": [
    "robot_Instance.Clear_Bottle_List()"
   ]
  },
  {
   "cell_type": "code",
   "execution_count": 6,
   "metadata": {},
   "outputs": [],
   "source": [
    "robot_Instance.Close_TCP()"
   ]
  },
  {
   "cell_type": "code",
   "execution_count": 13,
   "metadata": {},
   "outputs": [
    {
     "name": "stdout",
     "output_type": "stream",
     "text": [
      "('G0 X7500 Y0 T10400 R0\\r\\n', 'M201 H0 S750\\r\\n', 'M3 H3 S0\\r\\n')\n",
      "{'f': 1, 'e': 1, 'i': 1, 'b': 0, 'c': 0, 'g': 0, 'm': 0, 'j': 0, 'd': 0, 'a': 0, 'l': 0, 'k': 0, 'h': 0}\n",
      " M0 X7230.31 Y335.13 A-1.26 T1 S304\n",
      "\n",
      "Timeout\n",
      "('G0 X7500 Y0 T10400 R0\\r\\n', 'M201 H0 S750\\r\\n', 'M3 H3 S0\\r\\n')\n",
      "None\n",
      "('G0 X7500 Y0 T10400 R0\\r\\n', 'M201 H0 S750\\r\\n', 'M3 H3 S0\\r\\n')\n"
     ]
    },
    {
     "ename": "KeyboardInterrupt",
     "evalue": "",
     "output_type": "error",
     "traceback": [
      "\u001b[0;31m---------------------------------------------------------------------------\u001b[0m",
      "\u001b[0;31mKeyboardInterrupt\u001b[0m                         Traceback (most recent call last)",
      "\u001b[0;32m<ipython-input-13-2a472b7a7134>\u001b[0m in \u001b[0;36m<module>\u001b[0;34m\u001b[0m\n\u001b[1;32m      8\u001b[0m     \u001b[0mrobot_Instance\u001b[0m\u001b[0;34m.\u001b[0m\u001b[0mSet_Max_Try_Single_Goal\u001b[0m\u001b[0;34m(\u001b[0m\u001b[0;36m12\u001b[0m\u001b[0;34m)\u001b[0m\u001b[0;34m\u001b[0m\u001b[0m\n\u001b[1;32m      9\u001b[0m     \u001b[0mrobot_Instance\u001b[0m\u001b[0;34m.\u001b[0m\u001b[0mClear_Read_Buffer\u001b[0m\u001b[0;34m(\u001b[0m\u001b[0;34m)\u001b[0m\u001b[0;34m\u001b[0m\u001b[0m\n\u001b[0;32m---> 10\u001b[0;31m     \u001b[0mrobot_Instance\u001b[0m\u001b[0;34m.\u001b[0m\u001b[0mGo_To\u001b[0m\u001b[0;34m(\u001b[0m\u001b[0mSpot\u001b[0m\u001b[0;34m[\u001b[0m\u001b[0;36m0\u001b[0m\u001b[0;34m]\u001b[0m\u001b[0;34m,\u001b[0m\u001b[0mSpot\u001b[0m\u001b[0;34m[\u001b[0m\u001b[0;36m1\u001b[0m\u001b[0;34m]\u001b[0m\u001b[0;34m,\u001b[0m\u001b[0mSpot\u001b[0m\u001b[0;34m[\u001b[0m\u001b[0;36m2\u001b[0m\u001b[0;34m]\u001b[0m\u001b[0;34m)\u001b[0m\u001b[0;34m\u001b[0m\u001b[0m\n\u001b[0m\u001b[1;32m     11\u001b[0m     \u001b[0mprint\u001b[0m\u001b[0;34m(\u001b[0m\u001b[0mtime\u001b[0m\u001b[0;34m.\u001b[0m\u001b[0mtime\u001b[0m\u001b[0;34m(\u001b[0m\u001b[0;34m)\u001b[0m\u001b[0;34m-\u001b[0m\u001b[0mStart\u001b[0m\u001b[0;34m)\u001b[0m\u001b[0;34m\u001b[0m\u001b[0m\n",
      "\u001b[0;32m~/STI_Robotic_Competition_Software/Architecture/robot.py\u001b[0m in \u001b[0;36mGo_To\u001b[0;34m(self, X, Y, R, level, Max_Level, Avoidance)\u001b[0m\n\u001b[1;32m    100\u001b[0m             \u001b[0mself\u001b[0m\u001b[0;34m.\u001b[0m\u001b[0mSend_Go_To_Coordinate\u001b[0m\u001b[0;34m(\u001b[0m\u001b[0mSet_Coordinate\u001b[0m\u001b[0;34m)\u001b[0m\u001b[0;34m\u001b[0m\u001b[0m\n\u001b[1;32m    101\u001b[0m             \u001b[0mself\u001b[0m\u001b[0;34m.\u001b[0m\u001b[0mIncrement_Nb_Try_Goal\u001b[0m\u001b[0;34m(\u001b[0m\u001b[0;34m)\u001b[0m\u001b[0;34m\u001b[0m\u001b[0m\n\u001b[0;32m--> 102\u001b[0;31m             \u001b[0mM0_State\u001b[0m\u001b[0;34m,\u001b[0m \u001b[0mOutput\u001b[0m\u001b[0;34m=\u001b[0m\u001b[0mself\u001b[0m\u001b[0;34m.\u001b[0m\u001b[0mWait_For_M3_Answer\u001b[0m\u001b[0;34m(\u001b[0m\u001b[0;34m(\u001b[0m\u001b[0mTimeout\u001b[0m\u001b[0;34m*\u001b[0m\u001b[0;36m1.2\u001b[0m\u001b[0;34m+\u001b[0m\u001b[0;36m2000\u001b[0m\u001b[0;34m)\u001b[0m\u001b[0;34m/\u001b[0m\u001b[0;36m1000\u001b[0m\u001b[0;34m)\u001b[0m\u001b[0;34m\u001b[0m\u001b[0m\n\u001b[0m\u001b[1;32m    103\u001b[0m             \u001b[0;32mif\u001b[0m\u001b[0;34m(\u001b[0m\u001b[0mM0_State\u001b[0m\u001b[0;34m==\u001b[0m \u001b[0;32mFalse\u001b[0m\u001b[0;34m)\u001b[0m\u001b[0;34m:\u001b[0m\u001b[0;34m\u001b[0m\u001b[0m\n\u001b[1;32m    104\u001b[0m                 \u001b[0mprint\u001b[0m\u001b[0;34m(\u001b[0m\u001b[0;34m'STM32 Lack of answer'\u001b[0m\u001b[0;34m)\u001b[0m\u001b[0;34m\u001b[0m\u001b[0m\n",
      "\u001b[0;32m~/STI_Robotic_Competition_Software/Architecture/robot.py\u001b[0m in \u001b[0;36mWait_For_M3_Answer\u001b[0;34m(self, Timeout)\u001b[0m\n\u001b[1;32m     63\u001b[0m         \u001b[0mStart_Time\u001b[0m\u001b[0;34m=\u001b[0m\u001b[0mtime\u001b[0m\u001b[0;34m.\u001b[0m\u001b[0mtime\u001b[0m\u001b[0;34m(\u001b[0m\u001b[0;34m)\u001b[0m\u001b[0;34m\u001b[0m\u001b[0m\n\u001b[1;32m     64\u001b[0m         \u001b[0;32mwhile\u001b[0m\u001b[0;34m(\u001b[0m\u001b[0;32mTrue\u001b[0m\u001b[0;34m)\u001b[0m\u001b[0;34m:\u001b[0m\u001b[0;34m\u001b[0m\u001b[0m\n\u001b[0;32m---> 65\u001b[0;31m             \u001b[0mMessage\u001b[0m\u001b[0;34m=\u001b[0m\u001b[0mself\u001b[0m\u001b[0;34m.\u001b[0m\u001b[0mCollect_Message\u001b[0m\u001b[0;34m(\u001b[0m\u001b[0;34m)\u001b[0m\u001b[0;34m\u001b[0m\u001b[0m\n\u001b[0m\u001b[1;32m     66\u001b[0m             \u001b[0;32mif\u001b[0m\u001b[0;34m(\u001b[0m\u001b[0;34m(\u001b[0m\u001b[0mtime\u001b[0m\u001b[0;34m.\u001b[0m\u001b[0mtime\u001b[0m\u001b[0;34m(\u001b[0m\u001b[0;34m)\u001b[0m\u001b[0;34m-\u001b[0m\u001b[0mStart_Time\u001b[0m\u001b[0;34m)\u001b[0m\u001b[0;34m>\u001b[0m\u001b[0mTimeout\u001b[0m \u001b[0;32mand\u001b[0m \u001b[0mMessage\u001b[0m\u001b[0;34m==\u001b[0m\u001b[0;32mNone\u001b[0m\u001b[0;34m)\u001b[0m\u001b[0;34m:\u001b[0m\u001b[0;34m\u001b[0m\u001b[0m\n\u001b[1;32m     67\u001b[0m                 \u001b[0;32mreturn\u001b[0m \u001b[0;32mNone\u001b[0m\u001b[0;34m,\u001b[0m \u001b[0;32mNone\u001b[0m\u001b[0;34m\u001b[0m\u001b[0m\n",
      "\u001b[0;32m~/STI_Robotic_Competition_Software/Architecture/robot.py\u001b[0m in \u001b[0;36mCollect_Message\u001b[0;34m(self)\u001b[0m\n\u001b[1;32m     49\u001b[0m         \u001b[0;32mreturn\u001b[0m\u001b[0;34m\u001b[0m\u001b[0m\n\u001b[1;32m     50\u001b[0m     \u001b[0;32mdef\u001b[0m \u001b[0mCollect_Message\u001b[0m\u001b[0;34m(\u001b[0m\u001b[0mself\u001b[0m\u001b[0;34m)\u001b[0m\u001b[0;34m:\u001b[0m\u001b[0;34m\u001b[0m\u001b[0m\n\u001b[0;32m---> 51\u001b[0;31m         \u001b[0;32mif\u001b[0m\u001b[0;34m(\u001b[0m\u001b[0mlen\u001b[0m\u001b[0;34m(\u001b[0m\u001b[0mself\u001b[0m\u001b[0;34m.\u001b[0m\u001b[0mbuf_broadcast\u001b[0m\u001b[0;34m)\u001b[0m\u001b[0;34m)\u001b[0m\u001b[0;34m:\u001b[0m\u001b[0;34m\u001b[0m\u001b[0m\n\u001b[0m\u001b[1;32m     52\u001b[0m             \u001b[0;32mreturn\u001b[0m \u001b[0mself\u001b[0m\u001b[0;34m.\u001b[0m\u001b[0mbuf_broadcast\u001b[0m\u001b[0;34m.\u001b[0m\u001b[0mpopleft\u001b[0m\u001b[0;34m(\u001b[0m\u001b[0;34m)\u001b[0m\u001b[0;34m\u001b[0m\u001b[0m\n\u001b[1;32m     53\u001b[0m         \u001b[0;32mreturn\u001b[0m \u001b[0;32mNone\u001b[0m\u001b[0;34m\u001b[0m\u001b[0m\n",
      "\u001b[0;31mKeyboardInterrupt\u001b[0m: "
     ]
    }
   ],
   "source": [
    "robot_Instance.Set_Robot_Position(0,250,90,True)\n",
    "# X Y,\n",
    "Spot_List =[[0,4000,0],[0,4000,0]]\n",
    "for Spot in Spot_List:\n",
    "    Start=time.time()\n",
    "    while((robot_Instance.Wait_For_A_Message(0.2))!=None):\n",
    "        pass\n",
    "    robot_Instance.Set_Max_Try_Single_Goal(12)\n",
    "    robot_Instance.Clear_Read_Buffer()\n",
    "    robot_Instance.Go_To(Spot[0],Spot[1],Spot[2])\n",
    "    print(time.time()-Start)"
   ]
  },
  {
   "cell_type": "code",
   "execution_count": 9,
   "metadata": {},
   "outputs": [],
   "source": [
    "robot_Instance.Wait_For_A_Message(0.2)"
   ]
  },
  {
   "cell_type": "code",
   "execution_count": 45,
   "metadata": {},
   "outputs": [
    {
     "name": "stdout",
     "output_type": "stream",
     "text": [
      "('G0 X2000 Y1500 T10000 R0\\r\\n', 'M201 H0 S500\\r\\n', 'M3 H3\\r\\n')\n"
     ]
    }
   ],
   "source": [
    "robot_Instance.Send_Go_To_Coordinate([2000,1500,500,10000,0])"
   ]
  },
  {
   "cell_type": "code",
   "execution_count": null,
   "metadata": {},
   "outputs": [],
   "source": []
  }
 ],
 "metadata": {
  "kernelspec": {
   "display_name": "Python 3",
   "language": "python",
   "name": "python3"
  },
  "language_info": {
   "codemirror_mode": {
    "name": "ipython",
    "version": 3
   },
   "file_extension": ".py",
   "mimetype": "text/x-python",
   "name": "python",
   "nbconvert_exporter": "python",
   "pygments_lexer": "ipython3",
   "version": "3.5.3"
  }
 },
 "nbformat": 4,
 "nbformat_minor": 2
}
