{
 "cells": [
  {
   "cell_type": "code",
   "execution_count": 2,
   "metadata": {},
   "outputs": [],
   "source": [
    "import serial\n",
    "import time\n",
    "time.sleep(4);\n",
    "ser_Robot = serial.Serial('/dev/ttyACM0',115200)  # open serial port\n",
    "#ser_Collector= serial.Serial('/dev/ttyACM1',115200)  # open serial port\n",
    "\n"
   ]
  },
  {
   "cell_type": "code",
   "execution_count": 2,
   "metadata": {},
   "outputs": [
    {
     "name": "stdout",
     "output_type": "stream",
     "text": [
      "['/dev/ttyACM1', '/dev/ttyACM0', '/dev/ttyS0', '/dev/ttyAMA0']\n"
     ]
    }
   ],
   "source": [
    "import sys\n",
    "import glob\n",
    "import serial\n",
    "\n",
    "\n",
    "def serial_ports():\n",
    "    \"\"\" Lists serial port names\n",
    "\n",
    "        :raises EnvironmentError:\n",
    "            On unsupported or unknown platforms\n",
    "        :returns:\n",
    "            A list of the serial ports available on the system\n",
    "    \"\"\"\n",
    "    if sys.platform.startswith('win'):\n",
    "        ports = ['COM%s' % (i + 1) for i in range(256)]\n",
    "    elif sys.platform.startswith('linux') or sys.platform.startswith('cygwin'):\n",
    "        # this excludes your current terminal \"/dev/tty\"\n",
    "        ports = glob.glob('/dev/tty[A-Za-z]*')\n",
    "    elif sys.platform.startswith('darwin'):\n",
    "        ports = glob.glob('/dev/tty.*')\n",
    "    else:\n",
    "        raise EnvironmentError('Unsupported platform')\n",
    "\n",
    "    result = []\n",
    "    for port in ports:\n",
    "        try:\n",
    "            s = serial.Serial(port)\n",
    "            s.close()\n",
    "            result.append(port)\n",
    "        except (OSError, serial.SerialException):\n",
    "            pass\n",
    "    return result\n",
    "print(serial_ports())"
   ]
  },
  {
   "cell_type": "code",
   "execution_count": 3,
   "metadata": {},
   "outputs": [
    {
     "data": {
      "text/plain": [
       "8"
      ]
     },
     "execution_count": 3,
     "metadata": {},
     "output_type": "execute_result"
    }
   ],
   "source": [
    "ser_Robot.write(b'G0 X8000 Y0000 T8000\\r\\n')     # write a string\n",
    "ser_Robot.write(b'M201 H0 S1000\\r\\n')     # write a string\n",
    "\n",
    "time.sleep(0.2);\n",
    "ser_Robot.write(b'M3 H3 \\r\\n')     # .write a string\n"
   ]
  },
  {
   "cell_type": "code",
   "execution_count": 4,
   "metadata": {},
   "outputs": [
    {
     "data": {
      "text/plain": [
       "8"
      ]
     },
     "execution_count": 4,
     "metadata": {},
     "output_type": "execute_result"
    }
   ],
   "source": [
    "ser_Robot.write(b'G1 R-1000 L-1000 T3000\\r\\n')     # write a string\n",
    "ser_Robot.write(b'M201 H0 S1500\\r\\n')     # write a string\n",
    "\n",
    "time.sleep(0.2);\n",
    "ser_Robot.write(b'M3 H2 \\r\\n')     # write a string\n"
   ]
  },
  {
   "cell_type": "code",
   "execution_count": 4,
   "metadata": {},
   "outputs": [
    {
     "data": {
      "text/plain": [
       "b''"
      ]
     },
     "execution_count": 4,
     "metadata": {},
     "output_type": "execute_result"
    }
   ],
   "source": [
    "bytesToRead = ser_Robot.inWaiting()\n",
    "ser_Robot.read(bytesToRead)"
   ]
  },
  {
   "cell_type": "code",
   "execution_count": null,
   "metadata": {},
   "outputs": [],
   "source": [
    "print(ser_Robot.readline())"
   ]
  },
  {
   "cell_type": "code",
   "execution_count": 8,
   "metadata": {},
   "outputs": [
    {
     "data": {
      "text/plain": [
       "8"
      ]
     },
     "execution_count": 8,
     "metadata": {},
     "output_type": "execute_result"
    }
   ],
   "source": [
    "ser_Robot.write(b'G0 X0 Y0 T15000\\r\\n')  \n",
    "# write a string\n",
    "ser_Robot.write(b'M201 H0 S300\\r\\n')     # write a string\n",
    "time.sleep(0.2);\n",
    "ser_Robot.write(b'M3 H3 \\r\\n')     # write a string"
   ]
  },
  {
   "cell_type": "code",
   "execution_count": 15,
   "metadata": {},
   "outputs": [
    {
     "ename": "NameError",
     "evalue": "name 'ser_Collector' is not defined",
     "output_type": "error",
     "traceback": [
      "\u001b[0;31m---------------------------------------------------------------------------\u001b[0m",
      "\u001b[0;31mNameError\u001b[0m                                 Traceback (most recent call last)",
      "\u001b[0;32m<ipython-input-15-2038ef729e85>\u001b[0m in \u001b[0;36m<module>\u001b[0;34m\u001b[0m\n\u001b[0;32m----> 1\u001b[0;31m \u001b[0mser_Collector\u001b[0m\u001b[0;34m.\u001b[0m\u001b[0mwrite\u001b[0m\u001b[0;34m(\u001b[0m\u001b[0;34mb'G1 R1500 L2100\\r\\n'\u001b[0m\u001b[0;34m)\u001b[0m     \u001b[0;31m# write a string\u001b[0m\u001b[0;34m\u001b[0m\u001b[0m\n\u001b[0m\u001b[1;32m      2\u001b[0m \u001b[0mtime\u001b[0m\u001b[0;34m.\u001b[0m\u001b[0msleep\u001b[0m\u001b[0;34m(\u001b[0m\u001b[0;36m4\u001b[0m\u001b[0;34m)\u001b[0m\u001b[0;34m;\u001b[0m\u001b[0;34m\u001b[0m\u001b[0m\n\u001b[1;32m      3\u001b[0m \u001b[0mser_Robot\u001b[0m\u001b[0;34m.\u001b[0m\u001b[0mwrite\u001b[0m\u001b[0;34m(\u001b[0m\u001b[0;34mb'G0 X2200 Y0 \\r\\n'\u001b[0m\u001b[0;34m)\u001b[0m     \u001b[0;31m# write a string\u001b[0m\u001b[0;34m\u001b[0m\u001b[0m\n\u001b[1;32m      4\u001b[0m \u001b[0mtime\u001b[0m\u001b[0;34m.\u001b[0m\u001b[0msleep\u001b[0m\u001b[0;34m(\u001b[0m\u001b[0;36m0.1\u001b[0m\u001b[0;34m)\u001b[0m\u001b[0;34m;\u001b[0m\u001b[0;34m\u001b[0m\u001b[0m\n\u001b[1;32m      5\u001b[0m \u001b[0mser_Robot\u001b[0m\u001b[0;34m.\u001b[0m\u001b[0mwrite\u001b[0m\u001b[0;34m(\u001b[0m\u001b[0;34mb'M201 H0 S700\\r\\n'\u001b[0m\u001b[0;34m)\u001b[0m     \u001b[0;31m# write a string\u001b[0m\u001b[0;34m\u001b[0m\u001b[0m\n",
      "\u001b[0;31mNameError\u001b[0m: name 'ser_Collector' is not defined"
     ]
    }
   ],
   "source": [
    "ser_Collector.write(b'G1 R1500 L2100\\r\\n')     # write a string\n",
    "time.sleep(4);\n",
    "ser_Robot.write(b'G0 X2200 Y0 \\r\\n')     # write a string\n",
    "time.sleep(0.1);\n",
    "ser_Robot.write(b'M201 H0 S700\\r\\n')     # write a string\n",
    "time.sleep(0.1);\n",
    "ser_Robot.write(b'M201 H1 S300\\r\\n')     # write a string\n",
    "time.sleep(0.2);\n",
    "ser_Robot.write(b'M3 H3 S0\\r\\n')     # write a string\n",
    "time.sleep(10);\n",
    "ser_Robot.write(b'G0 Y2200 X2000 \\r\\n')     # write a string\n",
    "ser_Robot.write(b'M201 H0 S700\\r\\n')     # write a string\n",
    "time.sleep(0.2);\n",
    "ser_Robot.write(b'M3 H3 S0\\r\\n')     # write a string\n",
    "time.sleep(10);\n",
    "ser_Collector.write(b'G1 R-1300 L-1500\\r\\n')     # write a string\n"
   ]
  },
  {
   "cell_type": "code",
   "execution_count": 47,
   "metadata": {},
   "outputs": [
    {
     "data": {
      "text/plain": [
       "10"
      ]
     },
     "execution_count": 47,
     "metadata": {},
     "output_type": "execute_result"
    }
   ],
   "source": [
    "ser_Robot.write(b'G0 Y4000 X2000 T25000\\r\\n')     # write a string\n",
    "ser_Robot.write(b'M201 H0 S400\\r\\n')     # write a string\n",
    "time.sleep(0.2);\n",
    "ser_Robot.write(b'M3 H3 S0\\r\\n')     # write a string"
   ]
  },
  {
   "cell_type": "code",
   "execution_count": 7,
   "metadata": {},
   "outputs": [],
   "source": [
    "ser_Collector.write(b'G1 R1500 L2100\\r\\n')     # write a string\n",
    "time.sleep(0.2);\n"
   ]
  },
  {
   "cell_type": "code",
   "execution_count": 3,
   "metadata": {},
   "outputs": [
    {
     "ename": "NameError",
     "evalue": "name 'ser_Collector' is not defined",
     "output_type": "error",
     "traceback": [
      "\u001b[0;31m---------------------------------------------------------------------------\u001b[0m",
      "\u001b[0;31mNameError\u001b[0m                                 Traceback (most recent call last)",
      "\u001b[0;32m<ipython-input-3-decaedc7b8f8>\u001b[0m in \u001b[0;36m<module>\u001b[0;34m\u001b[0m\n\u001b[0;32m----> 1\u001b[0;31m \u001b[0mser_Collector\u001b[0m\u001b[0;34m.\u001b[0m\u001b[0mwrite\u001b[0m\u001b[0;34m(\u001b[0m\u001b[0;34mb'G1 R0 L0\\r\\n'\u001b[0m\u001b[0;34m)\u001b[0m     \u001b[0;31m# write a string\u001b[0m\u001b[0;34m\u001b[0m\u001b[0m\n\u001b[0m\u001b[1;32m      2\u001b[0m \u001b[0mtime\u001b[0m\u001b[0;34m.\u001b[0m\u001b[0msleep\u001b[0m\u001b[0;34m(\u001b[0m\u001b[0;36m0.2\u001b[0m\u001b[0;34m)\u001b[0m\u001b[0;34m;\u001b[0m\u001b[0;34m\u001b[0m\u001b[0m\n",
      "\u001b[0;31mNameError\u001b[0m: name 'ser_Collector' is not defined"
     ]
    }
   ],
   "source": [
    "ser_Collector.write(b'G1 R0 L0\\r\\n')     # write a string\n",
    "time.sleep(0.2);\n"
   ]
  },
  {
   "cell_type": "code",
   "execution_count": 4,
   "metadata": {},
   "outputs": [
    {
     "ename": "NameError",
     "evalue": "name 'ser_Collector' is not defined",
     "output_type": "error",
     "traceback": [
      "\u001b[0;31m---------------------------------------------------------------------------\u001b[0m",
      "\u001b[0;31mNameError\u001b[0m                                 Traceback (most recent call last)",
      "\u001b[0;32m<ipython-input-4-66d79daf8fe0>\u001b[0m in \u001b[0;36m<module>\u001b[0;34m\u001b[0m\n\u001b[0;32m----> 1\u001b[0;31m \u001b[0mser_Collector\u001b[0m\u001b[0;34m.\u001b[0m\u001b[0mwrite\u001b[0m\u001b[0;34m(\u001b[0m\u001b[0;34mb'G1 R-1300 L-1500\\r\\n'\u001b[0m\u001b[0;34m)\u001b[0m     \u001b[0;31m# write a string\u001b[0m\u001b[0;34m\u001b[0m\u001b[0m\n\u001b[0m\u001b[1;32m      2\u001b[0m \u001b[0mtime\u001b[0m\u001b[0;34m.\u001b[0m\u001b[0msleep\u001b[0m\u001b[0;34m(\u001b[0m\u001b[0;36m0.2\u001b[0m\u001b[0;34m)\u001b[0m\u001b[0;34m;\u001b[0m\u001b[0;34m\u001b[0m\u001b[0m\n",
      "\u001b[0;31mNameError\u001b[0m: name 'ser_Collector' is not defined"
     ]
    }
   ],
   "source": [
    "ser_Collector.write(b'G1 R-1300 L-1500\\r\\n')     # write a string\n",
    "time.sleep(0.2);\n"
   ]
  },
  {
   "cell_type": "code",
   "execution_count": 78,
   "metadata": {},
   "outputs": [],
   "source": [
    "v=0.01\n",
    "\n",
    "ser_Robot.write(b\"M3 H0\\r\\n\")\n",
    "time.sleep(v)\n",
    "ser_Robot.write(b\"M201 H0\\r\\n\")\n",
    "time.sleep(v)\n",
    "ser_Robot.write(b\"G0 X8000 Y8000 T50000 A5220487\\r\\n\")\n",
    "time.sleep(v)\n",
    "ser_Robot.write(b\"G0 X8000 Y8000 T50000 A5220487\\r\\n\")\n",
    "time.sleep(v)\n",
    "ser_Robot.write(b\"G0 X8000 Y8000 T50000 A5220487\\r\\n\")\n",
    "time.sleep(v)\n",
    "ser_Robot.write(b\"M201 H0\\r\\n\")\n",
    "time.sleep(v)\n",
    "ser_Robot.write(b\"M3 H0\\r\\n\")\n",
    "time.sleep(v)\n",
    "ser_Robot.write(b\"M201\\r\\n\")\n",
    "time.sleep(v)\n",
    "ser_Robot.write(b\"M201 H1\\r\\n\")\n",
    "time.sleep(v)\n",
    "ser_Robot.write(b\"M201 H1 S18000 A40000 B20000\\r\\n\")\n",
    "time.sleep(v)\n",
    "ser_Robot.write(b\"M201 H1 S18000 A40000 B20000\\r\\n\")\n",
    "time.sleep(v)\n",
    "\n"
   ]
  },
  {
   "cell_type": "code",
   "execution_count": 88,
   "metadata": {},
   "outputs": [
    {
     "data": {
      "text/plain": [
       "22"
      ]
     },
     "execution_count": 88,
     "metadata": {},
     "output_type": "execute_result"
    }
   ],
   "source": [
    "ser_Robot.write(b\"M201 H1 S180 A40 B20\\r\\n\")"
   ]
  },
  {
   "cell_type": "code",
   "execution_count": 28,
   "metadata": {},
   "outputs": [
    {
     "data": {
      "text/plain": [
       "b'OK: X=1000.00 Y=0.00 OK: X=1000.00 Y=0.00 A=0.00\\r\\nOK: D_Profil S=850 A=50 B=100 \\r\\nOK: M3 H3 S15\\r\\nM0 X907.05 Y7.18 A0.04 T1 S304\\r\\nOK: X=2000.00 Y=0.00 A=0.00\\r\\nOK: D_Profil S=1500 A=50 B=100 \\r\\nOK: M3 H3 S15\\r\\nM0 X1337.51 Y-79.07 A-1.03 T1 S2336\\r\\nOK: X=2500.00 Y=0.00 A=0.00\\r\\nOK: M3 H3 S15\\r\\nM0 X1485.84 Y-319.48 A-3.04 T1 S2304\\r\\nOK: X=2500.00 Y=0.00 A=0.00\\r\\nOK: D_Profil S=1500 A=50 B=100 \\r\\nOK: M3 H3 S15\\r\\nM0 X1448.89 Y-625.42 A-27.61 T1 S304\\r\\nSTM32_PrimaryOK: X=OK: X=2500.00 Y=0.00 A=0.00\\r\\nOK: D_Profil S=1500 A=50 B=100 \\r\\nOK: M3 H3 S15\\r\\nM0 X1864.80 Y-118.10 A-19.29 T1 S4400\\r\\nSTM32_PrimaryOK: D=1500OK: D=1500.00 L=1500.00 T=8000.00\\r\\nOK: D_Profil S=1500 A=50 B=100 \\r\\nOK: M3 H2 S15\\r\\nM0 X255.28 Y45.03 A21.02 T1 S7536\\r\\nSTM32_PrimarySTM32_PrimarySTM32_PrimaryOK: X=-1500.00 Y=0.00 A=0.00OK: X=-1500.00 Y=0.00 A=0.00\\r\\nOK: D_Profil S=1500 A=50 B=100 \\r\\nOK: M3 H3 S15\\r\\nM0 X-921.66 Y97.96 A9.39 T1 S704\\r\\nOK: X=-1500.00 Y=0.00 A=0.00\\r\\nOK: D_Profil S=1500 A=50 B=100 \\r\\nOK: M3 H3 S15\\r\\nM0 X-1352.98 Y123.49 A-0.40 T1 S4736\\r\\nSTM32_\\x10STM32_PrimaryOK: X=-1500.00 Y=0.00 A=0.00\\r\\nUnrecognized H0 S850\\r\\r\\nOK: M3 H3 S15\\r\\nM0 X-2.53 Y9.18 A43.35 T2 S32\\r\\nSTM32_PrimarySTM32_PrimarySTM32_PrimarySTM32_PrimaryOK: X=-1500.00 Y=0.00 A=0.00\\r\\nOK: D_Profil S=850 A=50 B=100 \\r\\nOK: M3 H3 S15\\r\\nSTM32_PrimarySTM32_PrimarySTM32_PrimarySTM32_PrimaryOK: X=-1500.00 Y=0.00 A=0.00\\r\\nOK: D_Profil S=850 A=50 B=100 \\r\\nOK: M3 H3 S15\\r\\nSTM32_PrimarySTM32_PrimarySTM32_PrimarySTM32_PrimarySTM32_PrimarySTM32_PrimarySTM32_PrimarySTM32_PrimaryOK: X=1500.00 Y=0.00 A=0.00\\r\\nOK: D_Profil S=850 A=50 B=100 \\r\\nOK: M3 H3 S15\\r\\nM0 X1474.46 Y-3.01 A4.81 T1 S0\\r\\nSTM32_PrimarySTM32_PrimarySTM32_PrimaryOK: D=1500.00 L=1500.00 T=4000.00\\r\\nOK: D_Profil S=1500 A=50 B=100 \\r\\nOK: M3 H2 S15\\r\\nM0 X1468.64 Y475.95 A27.19 T1 S32\\r\\nOK: D=1000.00 L=1000.00 T=4000.00\\r\\nOK: D_Profil S=1500 A=50 B=100 \\r\\nOK: M3 H2 S15\\r\\nM0 X1979.85 Y1112.57 A56.97 T1 S7536\\r\\nSTM32_PrimarySTM32_PrimarySTM32_PrimaryOK: D=-1000.00 L=-1000.00 T=4000.00\\r\\nOK: D_Profil S=1500 A=50 B=100 \\r\\nOK: M3 H2 S15\\r\\nSTM32_PrimarySTM32_PrimarySTM32_PrimarySTM32_PrimarySTM32_PrimarySTM32_PrimaryOK: X=3000.00 Y=0.00 A=0.00\\r\\nOK: D_Profil S=850 A=50 B=100 \\r\\nOK: M3 H3 S15\\r\\nOK: X=5000.00 Y=0.00 A=0.00\\r\\nOK: M3 H3 S15\\r\\nOK: X=6500.00 Y=0.00 A=0.00\\r\\nUnrecognized  S850\\r\\r\\nOK: M3 H3 S15\\r\\nM0 X6375.48 Y-6.21 A2.61 T1 S4096\\r\\nOK: X=6750.00 Y=0.00 A=0.00\\r\\nOK: D_Profil S=850 A=50 B=100 \\r\\nOK: M3 H3 S15\\r\\nM0 X6375.62 Y-6.19 A2.49 T2 S4096\\r\\nOK: X=6800.00 Y=0.00 A=0.00\\r\\nOK: D_Profil S=850 A=50 B=100 \\r\\nOK: M3 H3 S15\\r\\nM0 X6375.62 Y-6.19 A2.49 T2 S4096\\r\\nOK: X=7000.00 Y=0.00 A=0.00\\r\\nOK: M3 H3 S15\\r\\nM0 X6375.62 Y-6.19 A2.49 T2 S4096\\r\\nOK: X=7000.00 Y=OK: X=7000.00 Y=0.00 A=0.00\\r\\nOK: D_Profil S=850 A=50 B=100 \\r\\nOK: M3 H3 S15\\r\\nM0 X6446.73 Y-5.22 A-2.26 T2 S4096\\r\\nOK: X=7000.00 Y=2000.00 A=0.00\\r\\nOK: D_Profil S=850 A=50 B=100 \\r\\nOK: M3 H3 S15\\r\\nM0 X7016.09 Y1460.88 A89.63 T1 S2304\\r\\nSTM32_PrimarySTM32_PrimarySTM32_PrimaryOK:OK: X=7000.00 Y=2000.00 A=0.00\\r\\nOK: D_Profil S=850 A=50 B=100 \\r\\nOK: M3 H3 S15\\r\\nM0 X5842.19 Y1579.80 A17.75 T1 S0\\r\\nOK: X=7000.00 Y=2000.00 A=0.00\\r\\nUnrecognized S850\\r\\r\\nOK: M3 H3 S15\\r\\nM0 X6694.81 Y1886.21 A21.55 T2 S2064\\r\\nOK: X=7000.00 Y=2000.00 A=0.00\\r\\nOK: D_Profil S=850 A=50 B=100 \\r\\nOK: M3 H3 S15\\r\\nM0 X6975.17 Y1989.73 A19.85 T2 S2048\\r\\n'"
      ]
     },
     "execution_count": 28,
     "metadata": {},
     "output_type": "execute_result"
    }
   ],
   "source": [
    "bytesToRead = ser_Robot.inWaiting()\n",
    "ser_Robot.read(bytesToRead)"
   ]
  },
  {
   "cell_type": "code",
   "execution_count": 8,
   "metadata": {},
   "outputs": [
    {
     "name": "stdout",
     "output_type": "stream",
     "text": [
      "b'OK: D_Profil S=800 A=50 B=100 \\r\\n'\n"
     ]
    }
   ],
   "source": [
    "print(ser_Robot.readline())"
   ]
  },
  {
   "cell_type": "code",
   "execution_count": null,
   "metadata": {},
   "outputs": [],
   "source": [
    "v=0.005\n",
    "for i in range(10000):\n",
    "    ser_Robot.write(b\"M201 H1 S18000 A40000 B20000 M52400\\r\\n\")\n",
    "    time.sleep(v)"
   ]
  },
  {
   "cell_type": "code",
   "execution_count": 3,
   "metadata": {},
   "outputs": [
    {
     "data": {
      "text/plain": [
       "18"
      ]
     },
     "execution_count": 3,
     "metadata": {},
     "output_type": "execute_result"
    }
   ],
   "source": [
    "ser_Collector= serial.Serial('/dev/ttyACM1',115200)\n"
   ]
  },
  {
   "cell_type": "code",
   "execution_count": 5,
   "metadata": {},
   "outputs": [
    {
     "data": {
      "text/plain": [
       "18"
      ]
     },
     "execution_count": 5,
     "metadata": {},
     "output_type": "execute_result"
    }
   ],
   "source": [
    "ser_Collector.write(b'G1 R-1300 L-1500\\r\\n')"
   ]
  },
  {
   "cell_type": "code",
   "execution_count": 10,
   "metadata": {},
   "outputs": [
    {
     "data": {
      "text/plain": [
       "10"
      ]
     },
     "execution_count": 10,
     "metadata": {},
     "output_type": "execute_result"
    }
   ],
   "source": [
    "ser_Collector.write(b'G1 R0 L0\\r\\n') "
   ]
  },
  {
   "cell_type": "code",
   "execution_count": null,
   "metadata": {},
   "outputs": [],
   "source": []
  }
 ],
 "metadata": {
  "kernelspec": {
   "display_name": "Python 3",
   "language": "python",
   "name": "python3"
  },
  "language_info": {
   "codemirror_mode": {
    "name": "ipython",
    "version": 3
   },
   "file_extension": ".py",
   "mimetype": "text/x-python",
   "name": "python",
   "nbconvert_exporter": "python",
   "pygments_lexer": "ipython3",
   "version": "3.5.3"
  }
 },
 "nbformat": 4,
 "nbformat_minor": 2
}
