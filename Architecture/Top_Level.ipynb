{
 "cells": [
  {
   "cell_type": "code",
   "execution_count": 30,
   "metadata": {},
   "outputs": [
    {
     "name": "stdout",
     "output_type": "stream",
     "text": [
      "The autoreload extension is already loaded. To reload it, use:\n",
      "  %reload_ext autoreload\n"
     ]
    }
   ],
   "source": [
    "%load_ext autoreload\n",
    "%autoreload 2\n",
    "import numpy as np\n",
    "from PIL import Image\n",
    "from heapq import *\n",
    "import math\n",
    "import threading\n",
    "from collections import deque\n",
    "from map import *\n",
    "from robot import *\n",
    "from pathfinder import *\n",
    "from case import *\n",
    "from beacon import *\n"
   ]
  },
  {
   "cell_type": "code",
   "execution_count": 40,
   "metadata": {},
   "outputs": [
    {
     "name": "stdout",
     "output_type": "stream",
     "text": [
      "[[128, 30]]\n"
     ]
    },
    {
     "data": {
      "image/png": "[encoded data removed]",
      "text/plain": [
       "<Figure size 432x288 with 2 Axes>"
      ]
     },
     "metadata": {
      "needs_background": "light"
     },
     "output_type": "display_data"
    }
   ],
   "source": [
    "np.set_printoptions(threshold=np.inf)\n",
    "mapping = Map()\n",
    "pf = pathfinder()\n",
    "Robot = robot(140,30,0)\n",
    "path = pf.astar(mapping.grid,(100,150),(Robot.x,Robot.y))\n",
    "\n",
    "if(path != False):\n",
    "    XY = pf.find_vertice(path)\n",
    "    if( XY != None):\n",
    "        mapping.update_map(Robot,path,XY)\n",
    "        mapping.new_item('bottle',  Robot, \"B\")\n",
    "        mapping.map_item()\n",
    "        mapping.display()\n",
    "    else:\n",
    "        print('No Coordinate');\n",
    "\n",
    "else:\n",
    "    print('No Path');\n",
    "\n"
   ]
  },
  {
   "cell_type": "code",
   "execution_count": null,
   "metadata": {},
   "outputs": [],
   "source": [
    "Map_Rewards is a map of rewards(aka bottle or special zone according to the time of the game)\n",
    "Map_terrain is a map of obstacle and wall \n",
    "\n",
    "while(running)\n",
    "    if(Robot_has_reached_final_position)\n",
    "        Get_Interresting_Position_To_Go();\n",
    "    Set_Of_Coordinate=Calculate_Path(Actual_Pos,Position_To_Go,Map_terrain)\n",
    "    for i in Set_Of_Coordinate\n",
    "    #From here \n",
    "        Send set_of_Coordinate[i]\n",
    "        Wait_for_answer\n",
    "        Get_Position of the robot and state\n",
    "        Actual_Pos=Correlation(Beacon,Robot_Pos)\n",
    "        if State==Blocked\n",
    "            Add_To_Map(Actual_Pos,Sensor_Trigged)\n",
    "            break for loop\n",
    "        else if State== Finished_Action\n",
    "            continue\n",
    "    #to here the robot can move\n",
    "    Bottle_detection_behavior(Actual_Pos,Map_Rewards)\n",
    "\n"
   ]
  },
  {
   "cell_type": "code",
   "execution_count": null,
   "metadata": {},
   "outputs": [],
   "source": [
    "def Robot_has_reached_final_position(Robot, Final_Pos)\n",
    "    #Coordinate must be in mm\n",
    "    Distance_X=Final_Pos.x-Robot.x\n",
    "    Distance_Y=Final_Pos.y-Robot.y\n",
    "    Robot.Number_of_Movement=Robot.Number_of_Movement+1;\n",
    "    if(Robot.Number_of_Movement>=10)\n",
    "        return False, 10\n",
    "    else if((Distance_X*Distance_X+Distance_Y*Distance_y)<50)\n",
    "        return True, Robot.Number_of_Movement\n",
    "    return False, Robot.Number_of_Movement\n",
    "def Calculate_Path(Actual_Pos,Position_To_Go,Map_terrain)\n",
    "    Multiple_Points=\n",
    "    (Actual_Pos,Position_To_Go,Map_terrain)\n",
    "    End_of_Vertex=find_vertice(Multiple_Points)\n",
    "    return End_of_Vertex\n",
    "\n",
    "def Correlation(Beacon,Robot_Pos)\n",
    "    #Kalmann filter\n",
    "    if Beacon.real==True\n",
    "        return Kallman(Beacon.pos,Robot_Pos)\n",
    "    else\n",
    "        return Robot_Pos\n",
    "\n",
    "def Add_To_Map(Actual_Pos, Sensor_Trigged)\n",
    "    #Modify Map_Terrain\n",
    "\n",
    "    "
   ]
  }
 ],
 "metadata": {
  "kernelspec": {
   "display_name": "Python 3",
   "language": "python",
   "name": "python3"
  },
  "language_info": {
   "codemirror_mode": {
    "name": "ipython",
    "version": 3
   },
   "file_extension": ".py",
   "mimetype": "text/x-python",
   "name": "python",
   "nbconvert_exporter": "python",
   "pygments_lexer": "ipython3",
   "version": "3.5.3"
  }
 },
 "nbformat": 4,
 "nbformat_minor": 2
}
