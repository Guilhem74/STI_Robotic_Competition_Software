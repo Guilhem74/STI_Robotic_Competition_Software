{
 "cells": [
  {
   "cell_type": "code",
   "execution_count": 9,
   "metadata": {},
   "outputs": [
    {
     "name": "stdout",
     "output_type": "stream",
     "text": [
      "G1\n",
      "M\n",
      "G1\n"
     ]
    }
   ],
   "source": [
    "import json\n",
    "import time\n",
    "from pprint import pprint\n",
    "\n",
    "\n",
    "\n",
    "\n",
    "with open('sequ_command.json') as f:\n",
    "    data = json.load(f)\n",
    "\n",
    "#pprint(data[\"0\"])\n",
    "com_list = data[\"0\"]\n",
    "for com in com_list:\n",
    "    (com['com'])\n",
    "    time.sleep(int(com['t']))\n",
    "    "
   ]
  },
  {
   "cell_type": "code",
   "execution_count": null,
   "metadata": {},
   "outputs": [],
   "source": []
  }
 ],
 "metadata": {
  "kernelspec": {
   "display_name": "Python 3",
   "language": "python",
   "name": "python3"
  },
  "language_info": {
   "codemirror_mode": {
    "name": "ipython",
    "version": 3
   },
   "file_extension": ".py",
   "mimetype": "text/x-python",
   "name": "python",
   "nbconvert_exporter": "python",
   "pygments_lexer": "ipython3",
   "version": "3.7.0"
  }
 },
 "nbformat": 4,
 "nbformat_minor": 2
}
