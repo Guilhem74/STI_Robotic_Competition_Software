{
 "cells": [
  {
   "cell_type": "code",
   "execution_count": 1,
   "metadata": {},
   "outputs": [],
   "source": [
    "import socket\n",
    "import select\n"
   ]
  },
  {
   "cell_type": "code",
   "execution_count": 16,
   "metadata": {},
   "outputs": [],
   "source": [
    "def enable_tcp_com(BUFFER_SIZE):\n",
    "    TCP_IP = '192.168.0.21' \n",
    "    TCP_PORT = 5005\n",
    "\n",
    "    s = socket.socket(socket.AF_INET, socket.SOCK_STREAM)\n",
    "    s.bind((TCP_IP, TCP_PORT))\n",
    "    s.listen(1)\n",
    "    #s.setblocking(0)\n",
    "    conn, addr = s.accept()\n",
    "    return conn, addr\n",
    "\n",
    "def check_data_received(conn, BUFFER_SIZE):\n",
    "    ready = select.select([conn], [], [], 0.2)\n",
    "    print(ready)\n",
    "    if ready[0]:\n",
    "        data = conn.recv(BUFFER_SIZE)\n",
    "        conn.send(data)  # echo\n",
    "        return data.decode().split(';')\n",
    "    else :\n",
    "        print(\"No data received\")\n",
    "        return None\n",
    "    \n",
    "def close_connection(conn):\n",
    "    conn.close()"
   ]
  },
  {
   "cell_type": "code",
   "execution_count": 23,
   "metadata": {},
   "outputs": [],
   "source": [
    "BUFFER_SIZE = 1024\n",
    "conn, addr = enable_tcp_com(BUFFER_SIZE)"
   ]
  },
  {
   "cell_type": "code",
   "execution_count": 26,
   "metadata": {},
   "outputs": [
    {
     "name": "stdout",
     "output_type": "stream",
     "text": [
      "([<socket.socket fd=59, family=AddressFamily.AF_INET, type=SocketKind.SOCK_STREAM, proto=0, laddr=('192.168.0.21', 5005), raddr=('192.168.0.23', 53248)>], [], [])\n"
     ]
    },
    {
     "data": {
      "text/plain": [
       "['(25,125)', '(25,125)', '']"
      ]
     },
     "execution_count": 26,
     "metadata": {},
     "output_type": "execute_result"
    }
   ],
   "source": [
    "check_data_received(conn, BUFFER_SIZE)"
   ]
  },
  {
   "cell_type": "code",
   "execution_count": 22,
   "metadata": {},
   "outputs": [],
   "source": []
  },
  {
   "cell_type": "code",
   "execution_count": null,
   "metadata": {},
   "outputs": [],
   "source": []
  }
 ],
 "metadata": {
  "kernelspec": {
   "display_name": "Python 3",
   "language": "python",
   "name": "python3"
  },
  "language_info": {
   "codemirror_mode": {
    "name": "ipython",
    "version": 3
   },
   "file_extension": ".py",
   "mimetype": "text/x-python",
   "name": "python",
   "nbconvert_exporter": "python",
   "pygments_lexer": "ipython3",
   "version": "3.5.3"
  }
 },
 "nbformat": 4,
 "nbformat_minor": 2
}
