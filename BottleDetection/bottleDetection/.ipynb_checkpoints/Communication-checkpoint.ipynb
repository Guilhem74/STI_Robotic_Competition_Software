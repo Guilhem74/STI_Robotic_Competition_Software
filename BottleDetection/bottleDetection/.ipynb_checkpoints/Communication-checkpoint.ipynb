{
 "cells": [
  {
   "cell_type": "code",
   "execution_count": 1,
   "metadata": {},
   "outputs": [],
   "source": [
    "import socket\n",
    "import select\n"
   ]
  },
  {
   "cell_type": "code",
   "execution_count": 2,
   "metadata": {},
   "outputs": [],
   "source": [
    "def enable_tcp_com(BUFFER_SIZE):\n",
    "    TCP_IP = '192.168.0.21' \n",
    "    TCP_PORT = 5005\n",
    "    while(1):\n",
    "        try:\n",
    "            s = socket.socket(socket.AF_INET, socket.SOCK_STREAM)\n",
    "            s.connect((TCP_IP, TCP_PORT))\n",
    "            s.setblocking(0)\n",
    "        except:\n",
    "            continue\n",
    "        else:\n",
    "            print(\"TCP com enabled!\")\n",
    "            break\n",
    "\n",
    "    return s\n",
    "\n",
    "def send_message(s, msg):\n",
    "    s.send((msg).encode())\n",
    "    \n",
    "def check_data_received(s, msg, BUFFER_SIZE):\n",
    "    ready = select.select([s], [], [], 0.2)\n",
    "    print(ready)\n",
    "    if ready[0]:\n",
    "        data = s.recv(BUFFER_SIZE)\n",
    "        print(data.decode())\n",
    "        return data.decode()[-9:] == msg\n",
    "    else :\n",
    "        print(\"Data was not received\")\n",
    "        return None\n",
    "\n",
    "def close_connection(s):\n",
    "    s.close()"
   ]
  },
  {
   "cell_type": "code",
   "execution_count": 3,
   "metadata": {},
   "outputs": [
    {
     "name": "stdout",
     "output_type": "stream",
     "text": [
      "TCP com enabled!\n"
     ]
    }
   ],
   "source": [
    "BUFFER_SIZE = 1024\n",
    "s = enable_tcp_com(BUFFER_SIZE)\n"
   ]
  },
  {
   "cell_type": "code",
   "execution_count": 64,
   "metadata": {},
   "outputs": [],
   "source": [
    "msg = \"(755,500);(300,200);(450,700);(31,540);(50,5);(750,30);(755,500);(300,200);(450,700);(31,540);(50,5);(750,30);(755,500);(300,200);(450,700);(31,540);(50,5);(750,30);\""
   ]
  },
  {
   "cell_type": "code",
   "execution_count": 65,
   "metadata": {},
   "outputs": [],
   "source": [
    "send_message(s, msg)"
   ]
  },
  {
   "cell_type": "code",
   "execution_count": 5,
   "metadata": {},
   "outputs": [
    {
     "name": "stdout",
     "output_type": "stream",
     "text": [
      "([], [], [])\n",
      "Data was not received\n"
     ]
    }
   ],
   "source": [
    "check_data_received(s, msg, BUFFER_SIZE)"
   ]
  },
  {
   "cell_type": "code",
   "execution_count": 6,
   "metadata": {},
   "outputs": [],
   "source": [
    "close_connection(s)"
   ]
  },
  {
   "cell_type": "code",
   "execution_count": null,
   "metadata": {},
   "outputs": [],
   "source": []
  }
 ],
 "metadata": {
  "kernelspec": {
   "display_name": "Python 3",
   "language": "python",
   "name": "python3"
  },
  "language_info": {
   "codemirror_mode": {
    "name": "ipython",
    "version": 3
   },
   "file_extension": ".py",
   "mimetype": "text/x-python",
   "name": "python",
   "nbconvert_exporter": "python",
   "pygments_lexer": "ipython3",
   "version": "3.5.3"
  }
 },
 "nbformat": 4,
 "nbformat_minor": 2
}
