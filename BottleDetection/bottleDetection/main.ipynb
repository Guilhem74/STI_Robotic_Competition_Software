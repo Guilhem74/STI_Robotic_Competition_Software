{
 "cells": [
  {
   "cell_type": "code",
   "execution_count": 34,
   "metadata": {},
   "outputs": [],
   "source": [
    "import picamera\n",
    "import time\n",
    "from IPython.display import Image\n",
    "import math\n",
    "import serial\n",
    "import re\n",
    "import cv2 as cv"
   ]
  },
  {
   "cell_type": "code",
   "execution_count": 35,
   "metadata": {},
   "outputs": [],
   "source": [
    "IMAGES_PATH = \"images/\"\n",
    "utils = \"Utils/\"\n",
    "\n",
    "face_cascade = cv.CascadeClassifier(utils + 'bottle.xml')"
   ]
  },
  {
   "cell_type": "code",
   "execution_count": 40,
   "metadata": {},
   "outputs": [],
   "source": [
    "''''''\n",
    "''' TCP COMMUNICATION '''\n",
    "''''''\n",
    "\n",
    "def enable_tcp_com(BUFFER_SIZE):\n",
    "    TCP_IP = '192.168.0.21' \n",
    "    TCP_PORT = 5005\n",
    "    while(1):\n",
    "        try:\n",
    "            s = socket.socket(socket.AF_INET, socket.SOCK_STREAM)\n",
    "            s.connect((TCP_IP, TCP_PORT))\n",
    "            s.setblocking(0)\n",
    "        except:\n",
    "            continue\n",
    "        else:\n",
    "            print(\"TCP com enabled!\")\n",
    "            break\n",
    "\n",
    "    return s\n",
    "\n",
    "def send_message(s, msg):\n",
    "    s.send((msg).encode())\n",
    "    \n",
    "def check_data_received(s, msg, BUFFER_SIZE):\n",
    "    ready = select.select([s], [], [], 0.2)\n",
    "    print(ready)\n",
    "    if ready[0]:\n",
    "        data = s.recv(BUFFER_SIZE)\n",
    "        print(data.decode())\n",
    "        return data.decode()[-9:] == msg\n",
    "    else :\n",
    "        print(\"Data was not received\")\n",
    "        return None\n",
    "\n",
    "def close_connection(s):\n",
    "    s.close()\n",
    "\n",
    "''''''\n",
    "''' Robot position '''\n",
    "''''''\n",
    "\n",
    "\n",
    "def open_ser():\n",
    "    ser = serial.Serial(\n",
    "        port='../../../dev/ttyS0', #Replace ttyS0 with ttyAM0 for Pi1,Pi2,Pi0\n",
    "        baudrate = 115200,\n",
    "        parity=serial.PARITY_NONE,\n",
    "        stopbits=serial.STOPBITS_ONE,\n",
    "        bytesize=serial.EIGHTBITS,\n",
    "        timeout=1\n",
    "    )\n",
    "    return ser\n",
    "\n",
    "def get_robot_pos_angle(ser):\n",
    "    buffer = ''\n",
    "    timeout = time.time() + 5 #5s timeout\n",
    "    while True:\n",
    "        # last_received = ser.readline()\n",
    "        buffer += str(ser.read(ser.inWaiting()))\n",
    "        if '\\\\n' in buffer:\n",
    "            last_received = buffer.split('\\\\n')[-2]\n",
    "            pos_angle = re.findall('\\d+\\.\\d+', last_received )\n",
    "            if len(pos_angle) == 3:\n",
    "                return pos_angle[0], pos_angle[1], pos_angle[2]\n",
    "        if time.time() > timeout:\n",
    "            break\n",
    "\n",
    "\n",
    "''''''\n",
    "''' Bottle position '''\n",
    "''''''\n",
    "\n",
    "def calcul_bottle_pos(xr,yr,ar,dist_rb,a_rb):\n",
    "    ar = ar - 90\n",
    "    ar = ar % 360\n",
    "    \n",
    "    ab = ar + a_rb\n",
    "            \n",
    "    rel_xb = dist_rb * math.sin(math.radians(ab))\n",
    "    rel_yb = dist_rb * math.cos(math.radians(ab))\n",
    "    \n",
    "    real_xb = xr + rel_xb\n",
    "    real_yb = yr + rel_yb\n",
    "    return real_xb,real_yb\n",
    "\n",
    "\n",
    "def calcul_bottle_dist_angle(x,y,w,h):\n",
    "    # TODO\n",
    "    return 200, 20"
   ]
  },
  {
   "cell_type": "code",
   "execution_count": null,
   "metadata": {},
   "outputs": [],
   "source": [
    "camera = picamera.PiCamera()\n",
    "camera.rotation = 180\n",
    "camera.capture(IMAGES_PATH + \"cam.bmp\")"
   ]
  },
  {
   "cell_type": "code",
   "execution_count": null,
   "metadata": {},
   "outputs": [],
   "source": [
    "img = cv.imread(IMAGES_PATH + 'bottle.bmp')"
   ]
  },
  {
   "cell_type": "code",
   "execution_count": null,
   "metadata": {},
   "outputs": [],
   "source": [
    "# resize to increase speed detection\n",
    "rows,cols = img.shape[:2]   \n",
    "img = cv.resize(img,(round(cols*0.7),round(rows*0.7)))"
   ]
  },
  {
   "cell_type": "code",
   "execution_count": null,
   "metadata": {},
   "outputs": [],
   "source": [
    "start_time = datetime.datetime.now()\n",
    "faces = face_cascade.detectMultiScale(img)\n",
    "print(\"time: \" + str(datetime.datetime.now() - start_time))   \n",
    "for (x,y,w,h) in faces:\n",
    "    cv.rectangle(img,(x,y),(x+w,y+h),(255,0,0),2)\n",
    "cv.imwrite(IMAGES_PATH + \"cam_haar.png\", img)\n",
    "Image(filename = IMAGES_PATH + 'cam_haar.png')"
   ]
  },
  {
   "cell_type": "code",
   "execution_count": 24,
   "metadata": {},
   "outputs": [],
   "source": [
    "ser = open_ser()"
   ]
  },
  {
   "cell_type": "code",
   "execution_count": 41,
   "metadata": {},
   "outputs": [
    {
     "name": "stdout",
     "output_type": "stream",
     "text": [
      "0:00:00.002596\n"
     ]
    }
   ],
   "source": [
    "start_time = datetime.datetime.now()\n",
    "x, y, angle = get_robot_pos_angle(ser)\n",
    "end_time = datetime.datetime.now()\n",
    "print(str(end_time - start_time))"
   ]
  },
  {
   "cell_type": "code",
   "execution_count": null,
   "metadata": {},
   "outputs": [],
   "source": []
  }
 ],
 "metadata": {
  "kernelspec": {
   "display_name": "Python 3",
   "language": "python",
   "name": "python3"
  },
  "language_info": {
   "codemirror_mode": {
    "name": "ipython",
    "version": 3
   },
   "file_extension": ".py",
   "mimetype": "text/x-python",
   "name": "python",
   "nbconvert_exporter": "python",
   "pygments_lexer": "ipython3",
   "version": "3.5.3"
  }
 },
 "nbformat": 4,
 "nbformat_minor": 2
}
