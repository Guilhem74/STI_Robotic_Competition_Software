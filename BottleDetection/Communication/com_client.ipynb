{
 "cells": [
  {
   "cell_type": "code",
   "execution_count": 1,
   "metadata": {},
   "outputs": [],
   "source": [
    "import socket\n",
    "import select\n"
   ]
  },
  {
   "cell_type": "code",
   "execution_count": 49,
   "metadata": {},
   "outputs": [],
   "source": [
    "def enable_tcp_com(BUFFER_SIZE):\n",
    "    TCP_IP = '192.168.0.21' \n",
    "    TCP_PORT = 5005\n",
    "\n",
    "    s = socket.socket(socket.AF_INET, socket.SOCK_STREAM)\n",
    "    s.connect((TCP_IP, TCP_PORT))\n",
    "    s.setblocking(0)\n",
    "\n",
    "    return s\n",
    "\n",
    "def send_message(s, msg):\n",
    "    s.send((msg).encode())\n",
    "    \n",
    "def check_data_received(s, msg, BUFFER_SIZE):\n",
    "    ready = select.select([s], [], [], 0.2)\n",
    "    print(ready)\n",
    "    if ready[0]:\n",
    "        data = s.recv(BUFFER_SIZE)\n",
    "        print(data.decode())\n",
    "        return data.decode()[-9:] == msg\n",
    "    else :\n",
    "        print(\"Data was not received\")\n",
    "        return None\n",
    "\n",
    "def close_connection(s):\n",
    "    s.close()"
   ]
  },
  {
   "cell_type": "code",
   "execution_count": 43,
   "metadata": {},
   "outputs": [],
   "source": [
    "BUFFER_SIZE = 1024\n",
    "s = enable_tcp_com(BUFFER_SIZE)"
   ]
  },
  {
   "cell_type": "code",
   "execution_count": 44,
   "metadata": {},
   "outputs": [],
   "source": [
    "msg = \"(25,125);\""
   ]
  },
  {
   "cell_type": "code",
   "execution_count": 51,
   "metadata": {},
   "outputs": [],
   "source": [
    "send_message(s, msg)"
   ]
  },
  {
   "cell_type": "code",
   "execution_count": 52,
   "metadata": {},
   "outputs": [
    {
     "name": "stdout",
     "output_type": "stream",
     "text": [
      "([<socket.socket fd=51, family=AddressFamily.AF_INET, type=2049, proto=0, laddr=('192.168.0.23', 53248), raddr=('192.168.0.21', 5005)>], [], [])\n",
      "(25,125);(25,125);\n"
     ]
    },
    {
     "data": {
      "text/plain": [
       "True"
      ]
     },
     "execution_count": 52,
     "metadata": {},
     "output_type": "execute_result"
    }
   ],
   "source": [
    "check_data_received(s, msg, BUFFER_SIZE)"
   ]
  },
  {
   "cell_type": "code",
   "execution_count": 42,
   "metadata": {},
   "outputs": [],
   "source": [
    "close_connection(s)"
   ]
  },
  {
   "cell_type": "code",
   "execution_count": null,
   "metadata": {},
   "outputs": [],
   "source": []
  }
 ],
 "metadata": {
  "kernelspec": {
   "display_name": "Python 3",
   "language": "python",
   "name": "python3"
  },
  "language_info": {
   "codemirror_mode": {
    "name": "ipython",
    "version": 3
   },
   "file_extension": ".py",
   "mimetype": "text/x-python",
   "name": "python",
   "nbconvert_exporter": "python",
   "pygments_lexer": "ipython3",
   "version": "3.5.3"
  }
 },
 "nbformat": 4,
 "nbformat_minor": 2
}
